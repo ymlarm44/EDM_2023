{
 "cells": [
  {
   "cell_type": "code",
   "execution_count": null,
   "id": "ef929bea",
   "metadata": {
    "vscode": {
     "languageId": "r"
    }
   },
   "outputs": [],
   "source": [
    "#LIBRERIAS\n",
    "library(readxl)\n",
    "library(dplyr)\n",
    "library(stringr)"
   ]
  },
  {
   "cell_type": "code",
   "execution_count": null,
   "id": "c06b85a4",
   "metadata": {
    "vscode": {
     "languageId": "r"
    }
   },
   "outputs": [],
   "source": [
    "#CARGA DE DATOS\n",
    "options(warn=-1)\n",
    "\n",
    "bd <- read_excel(\"./data/COLON3.xlsx\")"
   ]
  },
  {
   "cell_type": "code",
   "execution_count": null,
   "id": "ae837b08",
   "metadata": {
    "scrolled": true,
    "vscode": {
     "languageId": "r"
    }
   },
   "outputs": [],
   "source": [
    "#tamano dataset inicial\n",
    "dim(bd)\n",
    "head(bd)\n",
    "names(bd)"
   ]
  },
  {
   "cell_type": "code",
   "execution_count": null,
   "id": "7926ac68",
   "metadata": {
    "scrolled": false,
    "vscode": {
     "languageId": "r"
    }
   },
   "outputs": [],
   "source": [
    "#BUSQUEDA NA\n",
    "sapply(bd, function(x) sum(is.na(x)))"
   ]
  },
  {
   "cell_type": "code",
   "execution_count": null,
   "id": "ac0d4772",
   "metadata": {
    "vscode": {
     "languageId": "r"
    }
   },
   "outputs": [],
   "source": [
    "#REORGANIZACION Y LIMPIEZA"
   ]
  },
  {
   "cell_type": "code",
   "execution_count": null,
   "id": "6a04c1a3",
   "metadata": {
    "vscode": {
     "languageId": "r"
    }
   },
   "outputs": [],
   "source": [
    "#convierto nombre de variables en notacion PascalCase\n",
    "bd <- rename(bd, Departamento = departamento, Localidad = localidad, Turno = turno, Curso = curso)\n",
    "bd <- rename(bd, PeriodoEvaluatorio = periodoEvaluatorio, IdAlumno = idalumno, AnoLectivo = anioLectivo, Asignatura = asignatura)\n",
    "bd <- rename(bd, Nota = nota, Observaciones = observaciones, IdSubOrganizacion = idSubOrganizacion, IdDivision = idDivision)\n",
    "bd <- rename(bd, Orden = orden, MotivoAusente = motivo_ausente, IdOrganizaciones = idOrganizaciones, Division = ddivision)\n",
    "bd <- rename(bd, EsMultiano = esMultianio, ModEnsenanza = ModEnsenaza)"
   ]
  },
  {
   "cell_type": "code",
   "execution_count": null,
   "id": "21742362",
   "metadata": {
    "vscode": {
     "languageId": "r"
    }
   },
   "outputs": [],
   "source": [
    "#ELIMINO DATOS DUPLICADOS"
   ]
  },
  {
   "cell_type": "code",
   "execution_count": null,
   "id": "67cb2349",
   "metadata": {
    "vscode": {
     "languageId": "r"
    }
   },
   "outputs": [],
   "source": [
    "bd <- distinct(bd)"
   ]
  },
  {
   "cell_type": "code",
   "execution_count": null,
   "id": "3ae7b564",
   "metadata": {
    "scrolled": true,
    "vscode": {
     "languageId": "r"
    }
   },
   "outputs": [],
   "source": [
    "bd <- filter(bd, AnoLectivo == \"2022\" & NivelEnsenanza %in% c(\"PRIMARIO\", \"SECUNDARIO\", \"EGB 3\"))\n",
    "bd <- filter(bd, Modalidad %in% c(\"Primaria\", \"Secundaria\"))\n",
    "bd <- filter(bd, ModEnsenanza %in% c(\"Agrotécnica\", \"Comun\", \"Técnica\"))"
   ]
  },
  {
   "cell_type": "code",
   "execution_count": null,
   "id": "ea0b8d41",
   "metadata": {
    "vscode": {
     "languageId": "r"
    }
   },
   "outputs": [],
   "source": [
    "# Convierto datos de Asignatura todo mayusculas \n",
    "bd$Asignatura <- toupper(bd$Asignatura)"
   ]
  },
  {
   "cell_type": "code",
   "execution_count": null,
   "id": "df66bd94",
   "metadata": {
    "scrolled": true,
    "vscode": {
     "languageId": "r"
    }
   },
   "outputs": [],
   "source": [
    "# SEPARO DATASET PRIMARIA / SECUNDARIA\n",
    "bd_primaria <- filter(bd, Modalidad == \"Primaria\")\n",
    "bd_secundaria <- filter(bd, Modalidad == \"Secundaria\")"
   ]
  },
  {
   "cell_type": "code",
   "execution_count": null,
   "id": "18f10137",
   "metadata": {
    "vscode": {
     "languageId": "r"
    }
   },
   "outputs": [],
   "source": [
    "#FILTRO ASIGNATURAS (Matemática, Lengua, Geografía, Historia, Biología, Física, Química, Inglés, Educación Física)\n",
    "\n",
    "#SECUNDARIA\n",
    "sec_mate <- filter(bd_secundaria ,grepl(\"MATEMATICA\", bd_secundaria$Asignatura, fixed=TRUE))\n",
    "sec_mate <- filter(bd_secundaria, Asignatura == \"MATEMATICA\")\n",
    "\n",
    "sec_lengua <- filter(bd_secundaria ,grepl(\"LENGUA\", bd_secundaria$Asignatura, fixed=TRUE))\n",
    "sec_lengua <- filter(bd_secundaria, Asignatura == \"LENGUA Y LITERATURA\")\n",
    "\n",
    "sec_geo <- filter(bd_secundaria ,grepl(\"GEOGRAFIA\", bd_secundaria$Asignatura, fixed=TRUE))\n",
    "sec_geo <- filter(bd_secundaria, Asignatura %in% c(\"CIENCIAS SOCIALES (GEOGRAFIA)\", \"GEOGRAFIA\", \"GEOGRAFIA I\"))\n",
    "sec_geo <- select(sec_geo, -c(\"Asignatura\"))\n",
    "sec_geo <- mutate(sec_geo, Asignatura = \"GEOGRAFIA\")\n",
    "\n",
    "sec_hist <- filter(bd_secundaria ,grepl(\"HISTORIA\", bd_secundaria$Asignatura, fixed=TRUE))\n",
    "sec_hist <- filter(bd_secundaria, Asignatura %in% c(\"CIENCIAS SOCIALES (HISTORIA)\", \"HISTORIA, HISTORIA I\"))\n",
    "sec_hist <- select(sec_hist, -c(\"Asignatura\"))\n",
    "sec_hist <- mutate(sec_hist, Asignatura = \"HISTORIA\")\n",
    "\n",
    "sec_bio <- filter(bd_secundaria ,grepl(\"BIOLOGIA\", bd_secundaria$Asignatura, fixed=TRUE))\n",
    "sec_bio <- filter(bd_secundaria, Asignatura %in% c(\"BIOLOGIA\",\"BIOLOGIA II\", \"CIENCIAS NATURALES (BIOLOGIA)\", \"CIENCIAS NATURALES BIOLOGIA\"))\n",
    "sec_bio <- select(sec_bio, -c(\"Asignatura\"))\n",
    "sec_bio <- mutate(sec_bio, Asignatura = \"BIOLOGIA\")\n",
    "\n",
    "sec_fisica <- filter(bd_secundaria ,grepl(\"FISICA\", bd_secundaria$Asignatura, fixed=TRUE))\n",
    "sec_fisica <- filter(bd_secundaria, Asignatura %in% c(\"FISICA\", \"FISICA II\"))\n",
    "sec_fisica <- select(sec_fisica, -c(\"Asignatura\"))\n",
    "sec_fisica <- mutate(sec_fisica, Asignatura = \"FISICA\")\n",
    "\n",
    "\n",
    "sec_quimica <- filter(bd_secundaria ,grepl(\"QUIMICA\", bd_secundaria$Asignatura, fixed=TRUE))\n",
    "sec_quimica <- filter(bd_secundaria, Asignatura %in% c(\"QUIMICA\", \"QUIMICA I\", \"QUIMICA II\"))\n",
    "sec_quimica <- select(sec_quimica, -c(\"Asignatura\"))\n",
    "sec_quimica <- mutate(sec_quimica, Asignatura = \"QUIMICA\")\n",
    "\n",
    "sec_fyq <- filter(bd_secundaria, Asignatura %in% c(\"CIENCIAS NATURALES (FISICO QUIMICA)\", \"CIENCIAS NATURALES FISICA QUIMMICA\", \"CIENCIAS NATURALES FISICO-QUIMICA\", \"FISICA Y QUIMICA\"))\n",
    "sec_fyq <- select(sec_fyq, -c(\"Asignatura\"))\n",
    "sec_fyq <- mutate(sec_fyq, Asignatura = \"FISICOQUIMICA\")\n",
    "\n",
    "sec_ingles <- filter(bd_secundaria ,grepl(\"INGLES\", bd_secundaria$Asignatura, fixed=TRUE))\n",
    "sec_ingles <- filter(bd_secundaria, Asignatura %in% c(\"LENGUA EXTRANJERA (INGLES)\", \"LENGUA EXTRANJERA I (INGLES)\", \"LENGUA EXTRANJERA II (INGLES)\", \"LENGUA EXTRANJERA III (INGLES)\"))\n",
    "sec_ingles <- select(sec_ingles, -c(\"Asignatura\"))\n",
    "sec_ingles <- mutate(sec_ingles, Asignatura = \"INGLES\")\n",
    "\n",
    "sec_edfisica <- filter(bd_secundaria ,grepl(\"EDUCACION FISICA\", bd_secundaria$Asignatura, fixed=TRUE))\n",
    "\n",
    "bd_secundaria2 <- rbind(sec_mate, sec_lengua, sec_geo, sec_hist, sec_bio, sec_fisica, sec_quimica, sec_fyq, sec_ingles, sec_edfisica)\n",
    "\n",
    "#PRIMARIA\n",
    "prim_mate <- filter(bd_primaria ,grepl(\"MATEMATICA\", bd_primaria$Asignatura, fixed=TRUE))\n",
    "\n",
    "prim_lengua <- filter(bd_primaria ,grepl(\"LENGUA\", bd_primaria$Asignatura, fixed=TRUE))\n",
    "prim_lengua <- filter(bd_primaria, Asignatura == \"LENGUA\")\n",
    "\n",
    "prim_ciencias_nat <- filter(bd_primaria, grepl(\"CIENCIAS NATURALES\", bd_primaria$Asignatura, fixed=TRUE))\n",
    "prim_ciencias_nat <- filter (bd_primaria, Asignatura == \"CIENCIAS NATURALES\")\n",
    "\n",
    "prim_ciencias_soc <- filter(bd_primaria, grepl(\"CIENCIAS SOCIALES\", bd_primaria$Asignatura, fixed=TRUE))\n",
    "prim_ciencias_soc <- filter(bd_primaria, Asignatura == \"CIENCIAS SOCIALES\")\n",
    "\n",
    "bd_primaria2 <- rbind(prim_mate, prim_lengua, prim_ciencias_nat, prim_ciencias_soc)"
   ]
  },
  {
   "cell_type": "code",
   "execution_count": null,
   "id": "e033e930",
   "metadata": {
    "vscode": {
     "languageId": "r"
    }
   },
   "outputs": [],
   "source": [
    "bd_secundaria2 %>% group_by(Asignatura) %>% summarise(conteo=n())\n",
    "bd_primaria2 %>% group_by(Asignatura) %>% summarise(conteo=n())"
   ]
  },
  {
   "cell_type": "code",
   "execution_count": null,
   "id": "ab23bfca",
   "metadata": {
    "vscode": {
     "languageId": "r"
    }
   },
   "outputs": [],
   "source": [
    "bd1 <- rbind(bd_primaria2, bd_secundaria2)\n",
    "bd1 <- distinct(bd1)"
   ]
  },
  {
   "cell_type": "code",
   "execution_count": null,
   "id": "54b6aeb2",
   "metadata": {
    "vscode": {
     "languageId": "r"
    }
   },
   "outputs": [],
   "source": [
    "bd1 <- filter(bd1, EsMultiano == \"N\")"
   ]
  },
  {
   "cell_type": "code",
   "execution_count": null,
   "id": "97975443",
   "metadata": {
    "vscode": {
     "languageId": "r"
    }
   },
   "outputs": [],
   "source": [
    "# CALCULO PROMEDIOS\n",
    "\n",
    "PrimerT<-filter(bd1,PeriodoEvaluatorio== \"Primer Trimestre\")\n",
    "PrimerT<-rename(PrimerT,NotasPrimerT=Nota) #(nombre,\"nuevo nombre variable\" = \"nombre variable que voy a cambiar\")\n",
    "\n",
    "SegundoT<-filter(bd1,PeriodoEvaluatorio==\"Segundo Trimestre\")\n",
    "SegundoT<-rename(SegundoT,NotasSegundoT=Nota) \n",
    "\n",
    "TercerT<-filter(bd1,PeriodoEvaluatorio==\"Tercer Trimestre\")\n",
    "TercerT<-rename(TercerT,NotasTercerT=Nota) \n",
    "\n",
    "union<-merge(x = PrimerT, y = SegundoT, by = c(\"Documento\", \"Asignatura\")) \n",
    "union2<-merge(x = union, y = TercerT, by = c(\"Documento\", \"Asignatura\"))\n",
    "\n",
    "Notas_COLON<-select(union2, 'Documento', 'Asignatura', 'CUE' , 'Departamento' ,'Localidad', 'EsPrivada' ,'Turno' ,'Curso' ,'IdAlumno' ,'AnoLectivo', \"Observaciones\", 'IdSubOrganizacion', 'IdDivision', 'NivelEnsenanza', 'Orden', 'MotivoAusente', 'IdOrganizaciones', 'Division', 'Nivel', 'EsMultiano', 'IdModEnsenanza' ,'Modalidad', 'ModEnsenanza', 'NotasPrimerT' ,\"NotasSegundoT\", \"NotasTercerT\")\n",
    "Notas_COLON$Promedio<-round((as.numeric(Notas_COLON$NotasPrimerT)+as.numeric(Notas_COLON$NotasSegundoT)+as.numeric(Notas_COLON$NotasTercerT))/3,2) #creo una nueva variable(promedio) y convierto las variables de los trimestres en tipo num con: as.numeric\n",
    "Notas_COLON1<-Notas_COLON %>% mutate(Resultado = case_when(\n",
    "  Promedio >= 6 ~ \"Aprobado\",\n",
    "  Promedio <=6  ~ \"Rinde\",\n",
    "   TRUE~ \"sin registro completo\"))\n",
    "\n",
    "Notas_COLON1$Curso<-as.character(Notas_COLON1$Curso)\n",
    "Notas_COLON1$AñoCursado<-str_sub(Notas_COLON1$Curso,1, 1)\n",
    "\n",
    "bd1 <- Notas_COLON1"
   ]
  },
  {
   "cell_type": "code",
   "execution_count": null,
   "id": "598dd7c1",
   "metadata": {
    "vscode": {
     "languageId": "r"
    }
   },
   "outputs": [],
   "source": [
    "# FILTRO VARIABLES PARA ANALISIS\n",
    "bd1 <- select(bd1, CUE, Documento, Asignatura, EsPrivada, Turno, AnoLectivo, Modalidad, ModEnsenanza, NotasPrimerT, NotasSegundoT, NotasTercerT, Promedio, Resultado, AñoCursado)"
   ]
  },
  {
   "cell_type": "code",
   "execution_count": null,
   "id": "4a874de6",
   "metadata": {
    "vscode": {
     "languageId": "r"
    }
   },
   "outputs": [],
   "source": [
    "# REPRESENTATIVIDAD SECUNDARIA\n",
    "\n",
    "options(warn=-1)\n",
    "secbd <- read_excel(\"./data/Secundaria3.xlsx\")"
   ]
  },
  {
   "cell_type": "code",
   "execution_count": null,
   "id": "1746675b",
   "metadata": {
    "vscode": {
     "languageId": "r"
    }
   },
   "outputs": [],
   "source": [
    "secbd <- filter(secbd, Departamento == \"COLON\")\n",
    "\n",
    "matricula_sec <- c(\n",
    "    sum(na.omit(secbd$Primero)),\n",
    "    sum(na.omit(secbd$Segundo)),\n",
    "    sum(na.omit(secbd$Tercero)),\n",
    "    sum(na.omit(secbd$Cuarto)),\n",
    "    sum(na.omit(secbd$Quinto)),\n",
    "    sum(na.omit(secbd$Sexto)),\n",
    "    sum(na.omit(secbd$Septimo))\n",
    ")\n",
    "\n",
    "matricula_sec"
   ]
  },
  {
   "cell_type": "code",
   "execution_count": null,
   "id": "c621e36c",
   "metadata": {
    "vscode": {
     "languageId": "r"
    }
   },
   "outputs": [],
   "source": [
    "dim(bd1)\n",
    "\n",
    "registros_completos <-filter(bd1, Modalidad==\"Secundaria\" & AñoCursado %in% c(\"1\", \"2\", \"3\", \"4\", \"5\", \"6\", \"7\") & Resultado %in% c(\"Aprobado\", \"Rinde\"))\n",
    "\n",
    "dim(registros_completos)"
   ]
  },
  {
   "cell_type": "code",
   "execution_count": null,
   "id": "7c6a4ead",
   "metadata": {
    "scrolled": true,
    "vscode": {
     "languageId": "r"
    }
   },
   "outputs": [],
   "source": [
    "matr_prim <- registros_completos %>% filter(AñoCursado == \"1\")  %>% select(Documento) %>% unique\n",
    "matr_seg <- registros_completos %>% filter(AñoCursado == \"2\")  %>% select(Documento) %>% unique\n",
    "matr_terc <- registros_completos %>% filter(AñoCursado == \"3\")  %>% select(Documento) %>% unique\n",
    "matr_cuar <- registros_completos %>% filter(AñoCursado == \"4\")  %>% select(Documento) %>% unique\n",
    "matr_quin <- registros_completos %>% filter(AñoCursado == \"5\")  %>% select(Documento) %>% unique\n",
    "matr_sext <- registros_completos %>% filter(AñoCursado == \"6\")  %>% select(Documento) %>% unique\n",
    "matr_sept <- registros_completos %>% filter(AñoCursado == \"7\")  %>% select(Documento) %>% unique\n",
    "\n",
    "matricula_bd <- c(\n",
    "    as.numeric(count(matr_prim)),\n",
    "    as.numeric(count(matr_seg)),\n",
    "    as.numeric(count(matr_terc)),\n",
    "    as.numeric(count(matr_cuar)),\n",
    "    as.numeric(count(matr_quin)),\n",
    "    as.numeric(count(matr_sext)),\n",
    "    as.numeric(count(matr_sept))\n",
    ")\n",
    "\n",
    "matricula_bd\n"
   ]
  },
  {
   "cell_type": "code",
   "execution_count": null,
   "id": "24e2b042",
   "metadata": {
    "vscode": {
     "languageId": "r"
    }
   },
   "outputs": [],
   "source": [
    "matricula <- data.frame(\n",
    "    Secundaria3 = matricula_sec,\n",
    "    COLON3 = matricula_bd\n",
    ")\n",
    "matricula"
   ]
  },
  {
   "cell_type": "code",
   "execution_count": null,
   "id": "7c769ed7",
   "metadata": {
    "vscode": {
     "languageId": "r"
    }
   },
   "outputs": [],
   "source": [
    "porc <- function(a, b){\n",
    "    round(((a/b)*100),2)\n",
    "}\n",
    "\n",
    "matricula$representatividad_porc <- porc(matricula_bd, matricula_sec)\n",
    "matricula"
   ]
  },
  {
   "cell_type": "code",
   "execution_count": null,
   "id": "af1bfa13",
   "metadata": {
    "vscode": {
     "languageId": "r"
    }
   },
   "outputs": [],
   "source": [
    "min_dat_inferenc <- c(308, 307, 296, 303, 285, 279, 87)\n",
    "\n",
    "matricula$min_dat_inferenc <- min_dat_inferenc\n",
    "\n",
    "matricula"
   ]
  },
  {
   "cell_type": "code",
   "execution_count": null,
   "id": "890c1d40",
   "metadata": {
    "vscode": {
     "languageId": "r"
    }
   },
   "outputs": [],
   "source": [
    "# REPRESENTATIVIDAD PRIMARIA\n",
    "options(warn=-1)\n",
    "primbd <- read_excel('./data/Primaria3.xlsx')"
   ]
  },
  {
   "cell_type": "code",
   "execution_count": null,
   "id": "7cf77cf8",
   "metadata": {
    "vscode": {
     "languageId": "r"
    }
   },
   "outputs": [],
   "source": [
    "primbd <- filter(primbd, Departamento == 'COLON')\n",
    "\n",
    "matricula_prim <- sum(na.omit(primbd$Matricula))\n",
    "matricula_prim"
   ]
  },
  {
   "cell_type": "code",
   "execution_count": null,
   "id": "f95ea7c4",
   "metadata": {
    "vscode": {
     "languageId": "r"
    }
   },
   "outputs": [],
   "source": [
    "matricula_bd <- bd1 %>% filter(Modalidad =='Primaria' & AñoCursado %in% c(\"1\", \"2\", \"3\", \"4\", \"5\", \"6\", \"7\") & Resultado %in% c(\"Aprobado\", \"Rinde\")) %>% select(Documento) %>% unique\n",
    "\n",
    "matricula_bd <- count(matricula_bd)"
   ]
  },
  {
   "cell_type": "code",
   "execution_count": null,
   "id": "3d0a92d6",
   "metadata": {
    "vscode": {
     "languageId": "r"
    }
   },
   "outputs": [],
   "source": [
    "matricula2 <- data.frame(\n",
    "    matricula_prim,\n",
    "    matricula_bd\n",
    ")\n",
    "\n",
    "colnames(matricula2) <- c('Primaria3', 'COLON3')\n",
    "\n",
    "matricula2$representatividad_porc <- porc(\n",
    "    as.numeric(matricula_bd),\n",
    "    as.numeric(matricula_prim)\n",
    ")\n",
    "\n",
    "matricula2$min_dat_inferec <- 368\n",
    "\n",
    "matricula2"
   ]
  },
  {
   "cell_type": "code",
   "execution_count": null,
   "id": "61f50d08",
   "metadata": {
    "vscode": {
     "languageId": "r"
    }
   },
   "outputs": [],
   "source": [
    "registros_completos$CUE %>% unique %>% length"
   ]
  },
  {
   "cell_type": "code",
   "execution_count": null,
   "id": "7d1eb67c",
   "metadata": {
    "vscode": {
     "languageId": "r"
    }
   },
   "outputs": [],
   "source": [
    "# FILTRO NOTAS COMPLETAS\n",
    "bd1 <-filter(bd1, AñoCursado %in% c(\"1\", \"2\", \"3\", \"4\", \"5\", \"6\", \"7\") & Resultado %in% c(\"Aprobado\", \"Rinde\"))"
   ]
  },
  {
   "cell_type": "code",
   "execution_count": null,
   "id": "a962d384",
   "metadata": {
    "vscode": {
     "languageId": "r"
    }
   },
   "outputs": [],
   "source": [
    "#tamano dataset final\n",
    "dim(bd1)"
   ]
  },
  {
   "cell_type": "code",
   "execution_count": null,
   "id": "ece27fb1",
   "metadata": {
    "scrolled": true,
    "vscode": {
     "languageId": "r"
    }
   },
   "outputs": [],
   "source": [
    "# PRIMER CHECKPOINT\n",
    "write.table(bd1, file = \"./data/bd_colon_limpia.txt\")"
   ]
  },
  {
   "cell_type": "code",
   "execution_count": null,
   "id": "356f2a10",
   "metadata": {
    "vscode": {
     "languageId": "r"
    }
   },
   "outputs": [],
   "source": [
    "#TP2\n",
    "\n",
    "bd <- bd1"
   ]
  },
  {
   "cell_type": "code",
   "execution_count": null,
   "id": "409cadfc",
   "metadata": {
    "vscode": {
     "languageId": "r"
    }
   },
   "outputs": [],
   "source": [
    "sec <- bd %>% filter(Modalidad == \"Secundaria\")\n",
    "pri <- bd %>% filter(Modalidad == \"Primaria\")"
   ]
  },
  {
   "cell_type": "code",
   "execution_count": null,
   "id": "8d9dcdde",
   "metadata": {
    "vscode": {
     "languageId": "r"
    }
   },
   "outputs": [],
   "source": [
    "library(sjmisc)\n",
    "library(moments)\n",
    "library(fdth)\n",
    "library(stats)"
   ]
  },
  {
   "cell_type": "code",
   "execution_count": null,
   "id": "ad079139",
   "metadata": {
    "vscode": {
     "languageId": "r"
    }
   },
   "outputs": [],
   "source": [
    "# 3/A\n",
    "\n",
    "frq(pri$AñoCursado)\n",
    "frq(sec$AñoCursado)\n",
    "\n",
    "# La distribucion no es similar, para primaria observamos una distribucion homogenea, en secundaria una distribucion sesgda.\n",
    "# Por otra parte la proporcion de datos favorece a secundaria."
   ]
  },
  {
   "cell_type": "code",
   "execution_count": null,
   "id": "bd5f11b6",
   "metadata": {
    "vscode": {
     "languageId": "r"
    }
   },
   "outputs": [],
   "source": [
    "# 3/B\n",
    "\n",
    "frq(bd$Turno)\n",
    "\n",
    "# Separando primaria de secundaria\n",
    "\n",
    "frq(pri$Turno)\n",
    "frq(sec$Turno)\n",
    "\n",
    "# Tanto en primaria como secundaria se visualiza una mayor concentracion en turno manana seguido por truno tarde\n",
    "# Si se mantiene la tendencia actual en primaria, secundaria deberia reducir su numero de bancos por curso"
   ]
  },
  {
   "cell_type": "code",
   "execution_count": null,
   "id": "d9007f44",
   "metadata": {
    "vscode": {
     "languageId": "r"
    }
   },
   "outputs": [],
   "source": [
    "# 3/C\n",
    "\n",
    "frq(bd$EsPrivada)\n",
    "\n",
    "# separando primaria y secundaria\n",
    "\n",
    "frq(pri$EsPrivada)\n",
    "frq(sec$EsPrivada)\n",
    "\n",
    "# En general se observa mayor concentracion de datos perteneciente al sector publico 88% correspondiente \n",
    "# Segmentando por nivel observamos que la totalidad de datos en primaria pertenecen al sector publico, por otra parte el nivel\n",
    "# secundario presenta un 82% publico y 18% privado"
   ]
  },
  {
   "cell_type": "code",
   "execution_count": null,
   "id": "f33d6d5f",
   "metadata": {
    "vscode": {
     "languageId": "r"
    }
   },
   "outputs": [],
   "source": [
    "#PREGUNTA 3/d) ¿Cómo es distribuye en su departamento la cantidad de estudiantes por año de cursado? ¿cuál es el\n",
    "#año con mayor matrícula? ¿cuál es el año con menor matrícula?\n",
    "\n",
    "# Frecuencias absolutas.\n",
    "ni <- table(sec$AñoCursado)\n",
    "# Frecuencias relativas\n",
    "fi <- prop.table(ni)\n",
    "# Frecuencias acumuladas.\n",
    "fip <- prop.table(ni)*100\n",
    "# Frecuencias acumuladas.\n",
    "Ni <- cumsum(ni)\n",
    "# Frecuencias relativas acumuladas.\n",
    "Fi <- cumsum(fi)\n",
    "# Creación de un data frame con las frecuencias.\n",
    "tabla_frec <- cbind(ni, fi,fip, Ni, Fi)\n",
    "tabla_frec"
   ]
  },
  {
   "cell_type": "code",
   "execution_count": null,
   "id": "c9c8c67b",
   "metadata": {
    "vscode": {
     "languageId": "r"
    }
   },
   "outputs": [],
   "source": [
    "#forma alternativa de hacer 3/d)\n",
    "frq(pri$AñoCursado)\n",
    "\n",
    "frq(sec$AñoCursado)\n",
    "\n",
    "# Para el conjunto secundaria\n",
    "# Logramos observar una distribucion concentrada en el ciclo basico (1,2), y menor para el ciclo orientado (4,5,6)\n",
    "# por otra parte son minoria los cursos de 7mo anio ya que pertenecen a escuelas tecnicas. El anio con mayor matricula es 1ro\n",
    "\n",
    "# Por el contrario para el conjunto de primaria observamos una distribucion que tiende a la normal\n",
    "# El anio con mayor matricula es 2do"
   ]
  },
  {
   "cell_type": "code",
   "execution_count": null,
   "id": "c056e851",
   "metadata": {
    "vscode": {
     "languageId": "r"
    }
   },
   "outputs": [],
   "source": [
    "#hago un recorte\n",
    "S_mat<-filter(sec,Asignatura==\"MATEMATICA\")\n",
    "S1<-filter(S_mat,AñoCursado==\"2\")\n",
    "dim(S1)"
   ]
  },
  {
   "cell_type": "code",
   "execution_count": null,
   "id": "41c08162",
   "metadata": {
    "vscode": {
     "languageId": "r"
    }
   },
   "outputs": [],
   "source": [
    "table(S_mat$AñoCursado)"
   ]
  },
  {
   "cell_type": "code",
   "execution_count": null,
   "id": "e928d6e7",
   "metadata": {
    "vscode": {
     "languageId": "r"
    }
   },
   "outputs": [],
   "source": [
    "#EJERCICIO 4 analisis secundaria 2do año\n",
    "Frec_Prom <- fdt(filter(S1,Asignatura==\"MATEMATICA\")$Promedio ,breaks=\"Sturges\",na.rm=TRUE) # calcula la distribución de frecuencias utilizando la regla Sturge\n",
    "Frec_Prom #nos brinda una tabla con los calculos de la distribución de frecuencias. breaks=c('Sturges', 'Scott', 'FD')"
   ]
  },
  {
   "cell_type": "code",
   "execution_count": null,
   "id": "4318a300",
   "metadata": {
    "vscode": {
     "languageId": "r"
    }
   },
   "outputs": [],
   "source": [
    "#4/a) ¿En qué rango se encuentran la mayoría de las calificaciones?\n",
    "#en el rango 6.304,7.063 se encuentran las mayoria de las calificaciones\n",
    "#4/b) ¿Qué calificaciones son las más inusuales?\n",
    "#las calificaciones mas inusuales se encuentran en los primeros intervalos, ya que en los primeros 2 intervalos solo hay el 2,7% de los datos ."
   ]
  },
  {
   "cell_type": "code",
   "execution_count": null,
   "id": "4da25d96",
   "metadata": {
    "vscode": {
     "languageId": "r"
    }
   },
   "outputs": [],
   "source": [
    "#4/c) El 70% de los estudiantes obtuvo menos de…?\n",
    "puntaje <- quantile(S1$Promedio, 0.7, type = 1)\n",
    "puntaje"
   ]
  },
  {
   "cell_type": "code",
   "execution_count": null,
   "id": "5a4d0bf2",
   "metadata": {
    "vscode": {
     "languageId": "r"
    }
   },
   "outputs": [],
   "source": [
    "#4/d) ¿Qué porcentaje de estudiantes obtuvo notas menores a 4?\n",
    "n <- sum(S1$Promedio < 4)\n",
    "total <- nrow(S1)\n",
    "porcentaje <- (n / total) * 100\n",
    "cat(porcentaje)"
   ]
  },
  {
   "cell_type": "code",
   "execution_count": null,
   "id": "d1e1922f",
   "metadata": {
    "vscode": {
     "languageId": "r"
    }
   },
   "outputs": [],
   "source": [
    "#4/e) ¿Qué porcentaje de estudiantes obtuvo notas menores a 6?\n",
    "n <- sum(S1$Promedio < 6)\n",
    "total <- nrow(S1)\n",
    "porcentaje <- (n / total) * 100\n",
    "cat(porcentaje)"
   ]
  },
  {
   "cell_type": "code",
   "execution_count": null,
   "id": "94a9f086",
   "metadata": {
    "vscode": {
     "languageId": "r"
    }
   },
   "outputs": [],
   "source": [
    "#f) ¿Qué porcentaje de estudiantes aprobó la asignatura, si se considera aprobado si el porcentaje es\n",
    "#mayor a 6? ¿Esto es así en el sistema educativo primario o secundario de Entre Ríos?\n",
    "frq(S1$Resultado)"
   ]
  },
  {
   "cell_type": "code",
   "execution_count": null,
   "id": "d8452802",
   "metadata": {
    "vscode": {
     "languageId": "r"
    }
   },
   "outputs": [],
   "source": [
    "#g) ¿Qué porcentaje de estudiantes obtuvo notas mayores a 8?\n",
    "n <- sum(S1$Promedio >= 8)\n",
    "total <- nrow(S1)\n",
    "porcentaje <- (n / total) * 100\n",
    "cat(porcentaje)"
   ]
  },
  {
   "cell_type": "code",
   "execution_count": null,
   "id": "c8660a3a",
   "metadata": {
    "vscode": {
     "languageId": "r"
    }
   },
   "outputs": [],
   "source": [
    "#EJERCICIO 5 \n",
    "S1_1<-filter(sec,Asignatura==\"MATEMATICA\" & AñoCursado==\"1\") \n",
    "S2<-filter(sec,Asignatura==\"LENGUA Y LITERATURA\" & AñoCursado==\"1\") \n",
    "dim(S2)\n",
    "dim(S1_1)"
   ]
  },
  {
   "cell_type": "code",
   "execution_count": null,
   "id": "1cdefc51",
   "metadata": {
    "vscode": {
     "languageId": "r"
    }
   },
   "outputs": [],
   "source": [
    "moda <- function(x) {\n",
    "  ux <- unique(x)\n",
    "  ux[which.max(tabulate(match(x, ux)))]\n",
    "}\n",
    "print(\"media\")\n",
    "mean(S1_1$Promedio)\n",
    "print(\"moda\")\n",
    "moda(S1_1$Promedio)\n",
    "print(\"mediana\")\n",
    "median(S1_1$Promedio)\n",
    "\n",
    "print(\"media\")\n",
    "mean(S2$Promedio)\n",
    "print(\"moda\")\n",
    "moda(S2$Promedio)\n",
    "print(\"mediana\")\n",
    "median(S2$Promedio)"
   ]
  },
  {
   "cell_type": "code",
   "execution_count": null,
   "id": "b8cea831",
   "metadata": {
    "vscode": {
     "languageId": "r"
    }
   },
   "outputs": [],
   "source": [
    "print(\"desvio estandar\")\n",
    "sd(S1_1$Promedio)\n",
    "sd(S2$Promedio)\n",
    "IQR(S1_1$Promedio)\n",
    "IQR(S2$Promedio)\n"
   ]
  },
  {
   "cell_type": "code",
   "execution_count": null,
   "id": "f988b2b6",
   "metadata": {
    "vscode": {
     "languageId": "r"
    }
   },
   "outputs": [],
   "source": [
    "boxplot(S1_1$Promedio)\n",
    "boxplot(S2$Promedio)"
   ]
  },
  {
   "cell_type": "code",
   "execution_count": null,
   "id": "02c2e392",
   "metadata": {
    "vscode": {
     "languageId": "r"
    }
   },
   "outputs": [],
   "source": [
    "print(\"matematica\")\n",
    "h <- quantile(S1_1$Promedio, 0.75, type = 1)\n",
    "h\n",
    "i <- quantile(S1_1$Promedio, 0.5, type = 1)\n",
    "i\n",
    "print(\"lengua\")\n",
    "h <- quantile(S2$Promedio, 0.75, type = 1)\n",
    "h\n",
    "i <- quantile(S2$Promedio, 0.5, type = 1)\n",
    "i"
   ]
  },
  {
   "cell_type": "code",
   "execution_count": null,
   "id": "7f0c7c0f",
   "metadata": {
    "vscode": {
     "languageId": "r"
    }
   },
   "outputs": [],
   "source": [
    "#a) ¿Se corresponden los valores de Media y Mediana? ¿Y la Moda?\n",
    "#los tres valores son similares, asi que si se podria decir que se corresponden\n",
    "\n",
    "#b) ¿Cuál es el promedio medio de la muestra seleccionada? ¿La media es representativa de la muestra\n",
    "#o es conveniente elegir otra medida?\n",
    "# la media es 6,2 matematica y 6,8 lengua, es representativa ya que casi no tienen valores extremos \n",
    "# y tiene valores similares con la mediana y moda \n",
    "#c) ¿Qué podría decir de la distribución de esta variable? ¿Está centrada?\n",
    "#\n",
    "\n",
    "#d) ¿Qué puede decir de la dispersión de los datos? \n",
    "# al ver los box plot tienen una dispersion normal, lengua tiene menos dispersion que matematica. la desviacion estandar es \n",
    "# mat:2.06 lengua: 1.39\n",
    "\n",
    "#e) ¿Hay outliers? ¿Son valores atípicos? ¿Son valores extremos?\n",
    "#el boxplot de matematica no presenta valores atipicos/outliers. En cambio el boxplot de lengua tiene 2 outliers\n",
    "\n",
    "#h) ¿El 75% de las notas son menores que...?\n",
    "#i) ¿El 50% de las notas son mayores qué?\n",
    "#[1] \"matematica\"\n",
    "#75%: 8\n",
    "#50%: 6.67\n",
    "#[1] \"lengua\"\n",
    "#75%: 7.67\n",
    "#50%: 6.67\n",
    "\n",
    "\n",
    "#j) Si se comparan los datos de Lengua y Matemática, ¿cuál tiene mayor variabilidad?\n",
    "#matematica al tener una mayor desviacion estandar presenta mas variabilidad\n",
    "\n",
    "#k) ¿Hay alguna otra información que pueda brindar a partir de las medidas de resumen estudiadas?\n",
    "#las dos variables se comportan casi iguales,esto se ve con las medidas de tencia central"
   ]
  },
  {
   "cell_type": "code",
   "execution_count": null,
   "id": "99d35038",
   "metadata": {
    "vscode": {
     "languageId": "r"
    }
   },
   "outputs": [],
   "source": [
    "# EJ 5 PARA PRIMARIA - ASIGNATURA LENGUA\n",
    "\n",
    "leng_pri <- filter(pri, Asignatura == \"LENGUA\", AñoCursado == \"2\")"
   ]
  },
  {
   "cell_type": "code",
   "execution_count": null,
   "id": "98f66ca9",
   "metadata": {
    "vscode": {
     "languageId": "r"
    }
   },
   "outputs": [],
   "source": [
    "moda <- function(x) {\n",
    "  ux <- unique(x)\n",
    "  ux[which.max(tabulate(match(x, ux)))]\n",
    "}\n",
    "\n",
    "mean(leng_pri$Promedio)\n",
    "moda(leng_pri$Promedio)\n",
    "median(leng_pri$Promedio)\n",
    "\n",
    "summary(leng_pri$Promedio)\n",
    "\n",
    "boxplot(leng_pri$Promedio)\n",
    "\n",
    "sd(leng_pri$Promedio)"
   ]
  },
  {
   "cell_type": "code",
   "execution_count": null,
   "id": "650b545c",
   "metadata": {
    "vscode": {
     "languageId": "r"
    }
   },
   "outputs": [],
   "source": [
    "quantile(leng_pri$Promedio)"
   ]
  },
  {
   "cell_type": "code",
   "execution_count": null,
   "id": "1b127b4e",
   "metadata": {
    "vscode": {
     "languageId": "r"
    }
   },
   "outputs": [],
   "source": [
    "leng_pri_2 <- filter(leng_pri, Promedio > 7.33 & Promedio < 9.33)\n",
    "\n",
    "median(leng_pri_2$Promedio)\n",
    "\n",
    "boxplot(leng_pri_2$Promedio)"
   ]
  },
  {
   "cell_type": "code",
   "execution_count": null,
   "id": "ccc7fa5d",
   "metadata": {
    "vscode": {
     "languageId": "r"
    }
   },
   "outputs": [],
   "source": [
    "quantile(leng_pri$Promedio, 0.75, type=1)\n",
    "quantile(leng_pri$Promedio, 0.5, type=1)"
   ]
  },
  {
   "cell_type": "code",
   "execution_count": null,
   "id": "d786d348",
   "metadata": {
    "vscode": {
     "languageId": "r"
    }
   },
   "outputs": [],
   "source": [
    "# EJ 5 PRIMARIA - ASIGNATURA MATEMATICA\n",
    "\n",
    "mat_pri <- filter(pri, Asignatura == \"MATEMATICA\", AñoCursado == \"2\")"
   ]
  },
  {
   "cell_type": "code",
   "execution_count": null,
   "id": "d1dd753c",
   "metadata": {
    "vscode": {
     "languageId": "r"
    }
   },
   "outputs": [],
   "source": [
    "mean(mat_pri$Promedio)\n",
    "moda(mat_pri$Promedio)\n",
    "median(mat_pri$Promedio)\n",
    "\n",
    "summary(mat_pri$Promedio)\n",
    "\n",
    "boxplot(mat_pri$Promedio)\n",
    "\n",
    "sd(mat_pri$Promedio)"
   ]
  },
  {
   "cell_type": "code",
   "execution_count": null,
   "id": "4e2179e0",
   "metadata": {
    "vscode": {
     "languageId": "r"
    }
   },
   "outputs": [],
   "source": [
    "quantile(mat_pri$Promedio)"
   ]
  },
  {
   "cell_type": "code",
   "execution_count": null,
   "id": "ba6c89ce",
   "metadata": {
    "vscode": {
     "languageId": "r"
    }
   },
   "outputs": [],
   "source": [
    "mat_pri_2 <- filter(mat_pri, Promedio > 7.33 & Promedio < 9)\n",
    "\n",
    "median(mat_pri_2$Promedio)\n",
    "\n",
    "boxplot(mat_pri_2$Promedio)"
   ]
  },
  {
   "cell_type": "code",
   "execution_count": null,
   "id": "cd07fd94",
   "metadata": {
    "vscode": {
     "languageId": "r"
    }
   },
   "outputs": [],
   "source": [
    "quantile(mat_pri_2$Promedio)"
   ]
  },
  {
   "cell_type": "code",
   "execution_count": null,
   "id": "7382460e",
   "metadata": {
    "vscode": {
     "languageId": "r"
    }
   },
   "outputs": [],
   "source": [
    "quantile(mat_pri$Promedio, 0.75, type=1)\n",
    "quantile(mat_pri$Promedio, 0.5, type=1)"
   ]
  },
  {
   "cell_type": "code",
   "execution_count": null,
   "id": "639b69a6",
   "metadata": {
    "vscode": {
     "languageId": "r"
    }
   },
   "outputs": [],
   "source": [
    "#a) ¿Se corresponden los valores de Media y Mediana? ¿Y la Moda?\n",
    "#b) ¿Cuál es el promedio medio de la muestra seleccionada? ¿La media es representativa de la muestra\n",
    "#o es conveniente elegir otra medida?\n",
    "#c) ¿Qué podría decir de la distribución de esta variable? ¿Está centrada?\n",
    "#d) ¿Qué puede decir de la dispersión de los datos?\n",
    "#e) ¿Hay outliers? ¿Son valores atípicos? ¿Son valores extremos? \n",
    "#f) ¿A partir de qué valor se considera un promedio outliers? \n",
    "#g) Si se descarta el 25% de los promedios menores y el 25% de los promedios mayores, ¿entre qué valores se  concentran el 50% de los promedios? \n",
    "#h) ¿El 75% de las notas son menores que…? \n",
    "#i) ¿El 50% de las notas son mayores qué? \n",
    "#j) Si se comparan los datos de Lengua y Matemática, ¿cuál tiene mayor variabilidad? \n",
    "#k) ¿Hay alguna otra información que pueda brindar a partir de las medidas de resumen estudiadas? \n",
    "#l) ¿Existen otras variables cuantitativas en las que se deba realizar este mismo análisis para extraer  información útil a la departamental?\n",
    "\n",
    "\n",
    "#LENGUA\n",
    "#a - si, los tres valores rondan en 8 y 9. \n",
    "#b - Es representativa la media, es mas fuerte ante valores extremos\n",
    "#c - La distribucion de la variable no esta centrada\n",
    "#d - El desvio estandar nos indica una dispersion de 1,16 de lo cual deducimos una baja dispersion\n",
    "#e - No se registran outliers o valores atipicos\n",
    "#f - Un valor superior a 10 se consideraria outlier\n",
    "#g - el 50% central se situa entre 8 y 8.67\n",
    "#h - Menores que 9.33\n",
    "#i - Mayores que 8.33\n",
    "\n",
    "#MATEMATICA\n",
    "#a - si, los tres valores rondan en 8 y 9.\n",
    "#b - Es representativa la media\n",
    "#c - La variable es asimetrica hacia la izquierda (sesgo negativo)\n",
    "#d - El desvio estandar nos indica una dispersion de 1,14 de lo cual deducimos una baja dispersion\n",
    "#e - La muestra no presenta outliers\n",
    "#f - Superando el 10 se ocnsidera outlier\n",
    "#g - el 50% central se encunetra entre 8 y 8.33\n",
    "#h - Menores que 9\n",
    "#i - Mayores que 8.33\n",
    "\n",
    "#EN COMUN\n",
    "#j - Tiene ligeramente mayor variabilidad la asignatura LENGUA\n",
    "#k - Con la informacion obtenida podemos observar que los alumnos tuvieron un desempeño similar en ambas materias\n"
   ]
  },
  {
   "cell_type": "code",
   "execution_count": null,
   "id": "adea9e38",
   "metadata": {
    "vscode": {
     "languageId": "r"
    }
   },
   "outputs": [],
   "source": [
    "# TP3"
   ]
  },
  {
   "cell_type": "code",
   "execution_count": null,
   "id": "a08a2b78",
   "metadata": {
    "vscode": {
     "languageId": "r"
    }
   },
   "outputs": [],
   "source": [
    "bd <- rename(bd, AnoCursado = AñoCursado)"
   ]
  },
  {
   "cell_type": "code",
   "execution_count": null,
   "id": "43c34147",
   "metadata": {
    "vscode": {
     "languageId": "r"
    }
   },
   "outputs": [],
   "source": [
    "pri <- filter(bd, Modalidad == \"Primaria\")\n",
    "sec <- filter(bd, Modalidad == \"Secundaria\")"
   ]
  },
  {
   "cell_type": "code",
   "execution_count": null,
   "id": "28eab997",
   "metadata": {
    "vscode": {
     "languageId": "r"
    }
   },
   "outputs": [],
   "source": [
    "est_niv <- bd %>% select(Documento, Modalidad) %>% unique\n",
    "\n",
    "tabla0 <- table(est_niv$Modalidad)\n",
    "etiquetas <- paste0(round(100 * tabla0/sum(tabla0), 2), \"%\")\n",
    "\n",
    "pie(\n",
    "    tabla0,\n",
    "    col = c(\"lightgrey\", \"steelblue1\"),\n",
    "    main = \"Estudiantes por nivel\",\n",
    "    labels = etiquetas,\n",
    "    explode = 0.27\n",
    ")\n",
    "\n",
    "legend(\"topleft\", legend = c(\"PRIMARIA\", \"SECUNDARIA\"),\n",
    "       fill =  c(\"lightgrey\", \"steelblue1\"))"
   ]
  },
  {
   "cell_type": "code",
   "execution_count": null,
   "id": "2b5fdaa3",
   "metadata": {
    "vscode": {
     "languageId": "r"
    }
   },
   "outputs": [],
   "source": [
    "est_turnos <- bd %>% filter(Turno %in% c(\"MAÑANA\", \"TARDE\")) %>% select(Documento, Turno) %>% unique\n",
    "est_turnos$Turno <- as.character(est_turnos$Turno)\n",
    "tabla0 <- table(est_turnos$Turno)\n",
    "tabla0\n",
    "\n",
    "etiquetas <- paste0(round(100 * tabla0/sum(tabla0), 2), \"%\")\n",
    "\n",
    "pie(tabla0, col = c(\"lightgrey\", \"steelblue1\"), labels = etiquetas, explode = 0.27,\n",
    "   main = \" Estudiantes por turno\")\n",
    "\n",
    "legend(\"topleft\", legend = c(\"MAÑANA\", \"TARDE\"),\n",
    "       fill =  c(\"lightgrey\", \"steelblue1\"))"
   ]
  },
  {
   "cell_type": "code",
   "execution_count": null,
   "id": "b25f5e16",
   "metadata": {
    "vscode": {
     "languageId": "r"
    }
   },
   "outputs": [],
   "source": [
    "est_turno_pri <- bd %>% filter(Modalidad == \"Primaria\" & Turno %in% c(\"MAÑANA\", \"TARDE\")) %>% select(Documento, Turno) %>% unique\n",
    "est_turno_pri$Turno <- as.character(est_turno_pri$Turno)\n",
    "\n",
    "tabla1 <- table(est_turno_pri$Turno)\n",
    "tabla1\n",
    "\n",
    "etiquetas <- paste0(round(100 * tabla1/sum(tabla1), 2), \"%\")\n",
    "\n",
    "pie(tabla1, col = c(\"lightgrey\", \"steelblue1\"), labels = etiquetas, explode = 0.27)\n",
    "\n",
    "legend(\"topleft\", legend = c(\"MAÑANA\", \"TARDE\"),\n",
    "       fill =  c(\"lightgrey\", \"steelblue1\"))\n",
    "\n",
    "title(main = \"Primaria según turno\")"
   ]
  },
  {
   "cell_type": "code",
   "execution_count": null,
   "id": "756e3c7d",
   "metadata": {
    "vscode": {
     "languageId": "r"
    }
   },
   "outputs": [],
   "source": [
    "est_turno_sec <- bd %>% filter(Modalidad == \"Secundaria\" & Turno %in% c(\"MAÑANA\", \"TARDE\")) %>% select(Documento, Turno) %>% unique\n",
    "est_turno_sec$Turno <- as.character(est_turno_sec$Turno)\n",
    "\n",
    "tabla2 <- table(est_turno_sec$Turno)\n",
    "tabla2\n",
    "\n",
    "etiquetas <- paste0(round(100 * tabla2/sum(tabla2), 2), \"%\")\n",
    "\n",
    "pie(tabla2, col = c(\"lightgrey\", \"steelblue1\"), labels = etiquetas, explode = 0.27)\n",
    "\n",
    "legend(\"topleft\", legend = c(\"MAÑANA\", \"TARDE\"),\n",
    "       fill =  c(\"lightgrey\", \"steelblue1\"))\n",
    "\n",
    "title(main = \"Secundaria según turno\")"
   ]
  },
  {
   "cell_type": "code",
   "execution_count": null,
   "id": "87a67fe0",
   "metadata": {
    "vscode": {
     "languageId": "r"
    }
   },
   "outputs": [],
   "source": [
    "est_sector <- bd %>% select(Documento, EsPrivada) %>% unique\n",
    "\n",
    "tabla3 <-table(est_sector$EsPrivada)\n",
    "tabla3\n",
    "etiquetas <- paste0(round(100 * tabla3/sum(tabla3), 2), \"%\")\n",
    "\n",
    "pie(tabla3, col = c(\"lightgrey\", \"steelblue1\"), labels = etiquetas, explode = 0.27)\n",
    "\n",
    "legend(\"topleft\", legend = c(\"PÚBLICO\", \"PRIVADO\"),\n",
    "       fill =  c(\"lightgrey\", \"steelblue1\"))\n",
    "\n",
    "title(main = \"Estudiantes por sector\")"
   ]
  },
  {
   "cell_type": "code",
   "execution_count": null,
   "id": "98419f8e",
   "metadata": {
    "vscode": {
     "languageId": "r"
    }
   },
   "outputs": [],
   "source": [
    "est_sector_pri <- bd %>% filter(Modalidad == \"Primaria\") %>% select(Documento, EsPrivada) %>% unique\n",
    "\n",
    "tabla4 <-table(est_sector_pri$EsPrivada)\n",
    "tabla4\n",
    "etiquetas <- paste0(round(100 * tabla4/sum(tabla4), 2), \"%\")\n",
    "\n",
    "pie(tabla4, col = c(\"lightgrey\", \"steelblue1\"), labels = etiquetas, explode = 0.27,\n",
    "    main = \"Proporcion sector publico/privado en primaria\")\n",
    "\n",
    "legend(\"topleft\", legend = c(\"Publico\", \"Privado\"),\n",
    "       fill =  c(\"lightgrey\", \"steelblue1\"))"
   ]
  },
  {
   "cell_type": "code",
   "execution_count": null,
   "id": "d0c5bf4e",
   "metadata": {
    "vscode": {
     "languageId": "r"
    }
   },
   "outputs": [],
   "source": [
    "est_sector_sec <- bd %>% filter(Modalidad == \"Secundaria\") %>% select(Documento, EsPrivada) %>% unique\n",
    "\n",
    "tabla5 <-table(est_sector_sec$EsPrivada)\n",
    "tabla5\n",
    "etiquetas <- paste0(round(100 * tabla5/sum(tabla5), 2), \"%\")\n",
    "\n",
    "pie(tabla5, col = c(\"lightgrey\", \"steelblue1\"), labels = etiquetas, explode = 0.27, \n",
    "    main = \"Proporcion sector publico/privado en secundaria\"\n",
    ")\n",
    "\n",
    "legend(\"topleft\", legend = c(\"Publico\", \"Privado\"),\n",
    "       fill =  c(\"lightgrey\", \"steelblue1\")\n",
    ")"
   ]
  },
  {
   "cell_type": "code",
   "execution_count": null,
   "id": "c992096e",
   "metadata": {
    "vscode": {
     "languageId": "r"
    }
   },
   "outputs": [],
   "source": [
    "est_anio <- bd %>% select(Documento, AnoCursado) %>% unique\n",
    "\n",
    "barplot(table(est_anio$AnoCursado), ylim = c(0, 2500), col = \"steelblue1\", \n",
    "        border = \"white\", xlab = \"Año\",\n",
    "        ylab = \"Estudiantes\", names = c(\"1ro\", \"2do\", \"3ro\", \"4to\", \"5to\", \"6to\",\"7mo\"), \n",
    "        main = \"Estudiantes por curso\")"
   ]
  },
  {
   "cell_type": "code",
   "execution_count": null,
   "id": "f8377a32",
   "metadata": {
    "vscode": {
     "languageId": "r"
    }
   },
   "outputs": [],
   "source": [
    "est_anio_pri <- pri %>% select(Documento, AnoCursado) %>% unique\n",
    "\n",
    "barplot(table(est_anio_pri$AnoCursado), ylim = c(0, 1000), col = \"steelblue1\", \n",
    "        border = \"white\", xlab = \"Año\",\n",
    "        ylab = \"Estudiantes\", names = c(\"1ro\", \"2do\", \"3ro\", \"4to\", \"5to\", \"6to\"), \n",
    "        main = \"Estudiantes por curso en primaria\"\n",
    ")"
   ]
  },
  {
   "cell_type": "code",
   "execution_count": null,
   "id": "5b97df5b",
   "metadata": {
    "vscode": {
     "languageId": "r"
    }
   },
   "outputs": [],
   "source": [
    "est_anio_sec <- sec %>% select(Documento, AnoCursado) %>% unique\n",
    "\n",
    "barplot(table(est_anio_sec$AnoCursado), ylim = c(0, 1500), col = \"steelblue1\", \n",
    "        border = \"white\", xlab = \"Año\",\n",
    "        ylab = \"Estudiantes\", names = c(\"1ro\", \"2do\", \"3ro\", \"4to\", \"5to\", \"6to\",\"7mo\"), \n",
    "        main = \"Estudiantes por curso en secundaria\")"
   ]
  },
  {
   "cell_type": "code",
   "execution_count": null,
   "id": "022e87d5",
   "metadata": {
    "vscode": {
     "languageId": "r"
    }
   },
   "outputs": [],
   "source": [
    "# EJ 2\n",
    "\n",
    "sec_mate <- sec %>% filter(Asignatura == \"MATEMATICA\" & AnoCursado == \"1\")\n",
    "\n",
    "boxplot(sec_mate$Promedio, \n",
    "        main = \"MATEMATICA\", \n",
    "        xlab = \"promedio\", \n",
    "        ylab = \"materia\",\n",
    "        col = \"lightblue\")"
   ]
  },
  {
   "cell_type": "code",
   "execution_count": null,
   "id": "bb474ddc",
   "metadata": {
    "vscode": {
     "languageId": "r"
    }
   },
   "outputs": [],
   "source": [
    "sec_leng <- sec %>% filter(Asignatura == \"LENGUA Y LITERATURA\" & AnoCursado == \"1\")\n",
    "\n",
    "boxplot(sec_leng$Promedio, \n",
    "        main = \"LENGUA\", \n",
    "        xlab = \"promedio\", \n",
    "        ylab = \"materia\",\n",
    "        col = \"green\",\n",
    "        border = \"black\")"
   ]
  },
  {
   "cell_type": "code",
   "execution_count": null,
   "id": "a3af8522",
   "metadata": {
    "vscode": {
     "languageId": "r"
    }
   },
   "outputs": [],
   "source": [
    "quantile(sec_leng$Promedio)\n",
    "quantile(sec_mate$Promedio)"
   ]
  },
  {
   "cell_type": "code",
   "execution_count": null,
   "id": "085dd195",
   "metadata": {
    "vscode": {
     "languageId": "r"
    }
   },
   "outputs": [],
   "source": [
    "qqnorm(sec_leng$Promedio)\n",
    "qqline(sec_leng$Promedio)"
   ]
  },
  {
   "cell_type": "code",
   "execution_count": null,
   "id": "872fd270",
   "metadata": {
    "vscode": {
     "languageId": "r"
    }
   },
   "outputs": [],
   "source": [
    "qqnorm(sec_mate$Promedio)\n",
    "qqline(sec_mate$Promedio)"
   ]
  },
  {
   "cell_type": "code",
   "execution_count": null,
   "id": "a7c8e93f",
   "metadata": {
    "vscode": {
     "languageId": "r"
    }
   },
   "outputs": [],
   "source": [
    "sd(sec_leng$Promedio)\n",
    "sd(sec_mate$Promedio)"
   ]
  },
  {
   "cell_type": "code",
   "execution_count": null,
   "id": "c43bd4ec",
   "metadata": {
    "vscode": {
     "languageId": "r"
    }
   },
   "outputs": [],
   "source": [
    "#PRIMER AÑO\n",
    "# a) Rango de variación de los datos (Mínimo –Máximo).\n",
    "# b) ¿La distribución es simétrica? Si es asimétrica, ¿la asimetría es a derecha o a\n",
    "# izquierda? ¿Qué quiere decir eso?\n",
    "#PREGUNTARLE\n",
    "# c) ¿En torno a qué valor están aproximadamente centrados los datos? ¿Es la media\n",
    "# representativa? \n",
    "# d) ¿Cuán dispersos en torno a este centro están los datos? ¿Hay datos atípicos en\n",
    "# relación a la mayoría de los datos?\n",
    "# e) ¿Entre qué valores se encuentran el 50% de los datos?\n",
    "# f) ¿Qué notas obtuvo el 25% superior de la caja?\n",
    "# g) ¿El 75% de las notas son menores que...?\n",
    "# h) ¿El 50% de las notas son mayores qué?\n",
    "# i) Observando los resultados, ¿considera que el rendimiento en la asignatura fue\n",
    "# óptimo?\n",
    "# j) Si se comparan los datos de Lengua y Matemática, ¿cuál tiene mayor\n",
    "# variabilidad?\n",
    "# k) Realice un gráfico de distribucion Q-Q plot. ¿Puede deducir si la distribución de\n",
    "# la variable es normal?\n",
    "\n",
    "# l) Relaciones esta información con el punto 4 de la guía 2\n",
    "\n",
    "#a)el rango de variacion para ambos es de 1 a 10\n",
    "#b)la asimetria tanto de lengua como matematica son hacia la derecha,  significa que la distribución de los datos tiene \n",
    "#una cola que se extiende hacia valores más bajos que la mediana. Esto sugiere que hay una concentración de valores más altos.\n",
    "#c) los datos estan centrados en 7(matematica) y 6.67(lengua).\n",
    "#d)matematica tiene un desvio estandar de 1.6 y lengua 1.4, tambien las cajas del box plot tienen una forma cuadrada y un poco achatadas. \n",
    "#por eso considero que los datos tienen una dispersion normal\n",
    "# matematica tiene 1 y en lengua se encuentran 2 valores atipicos en los datos mas bajos.\n",
    "#e) entre 5,3 y 7,6 matematica, entre 6 y 8 lengua\n",
    "#f/g)(mismo valor para las 2 consignas) 8 lengua y 7.6 matematica\n",
    "#h) lengua 6 y matematica 6.67\n",
    "#i) considerando que el primer quartil en la materia  lengua da 6, por ende como minimo el 75% de los alumnos aprobaron la \n",
    "#materia, si considero que el rendimiento fue optimo esa materia. En matematica no sucede lo mismo ya que para empezar\n",
    "#el bigote inferior llega a valores mas bajos que el de lengua, tambien la mediana es menor, de igual forma la mediana sigue \n",
    "#estando por arriba de 6 por lo que se puede saber existen mas aprobados que desaprobados.\n",
    "#j) matematica\n",
    "#k) al aplicar lillie.test sobre las materias, su p valor da muy bajo, no tiene una distribucion normal.\n",
    "#l) al comparar los datos con la guia anterior, se pueden comparar los rendimientos de primer y segundo año de secundaria \n",
    "#se pueden observar al ver por un lado la tabla de  frecuencias  y por el otro el box plot \n",
    "#como presentan una distribucion parecida al tener  una menor cantidad notas en los rangos mas bajos y la mayor cantidad de datos por \n",
    "#encima de 6 teniendo una asimetria negativa."
   ]
  },
  {
   "cell_type": "code",
   "execution_count": null,
   "id": "893774ea",
   "metadata": {
    "vscode": {
     "languageId": "r"
    }
   },
   "outputs": [],
   "source": [
    "#EJ 3 - SECUNDARIA\n",
    "\n",
    "x <- as.numeric(filter(sec, Asignatura == \"LENGUA Y LITERATURA\" & AnoCursado == \"1\")$Promedio)\n",
    "\n",
    "hist(x, col=\"lightgrey\",border=\"white\",breaks = \"Sturges\", ylim = c(0, 300),\n",
    "     xlab=\"notas\", ylab=\"frecuencia absoluta\", main=\"Promedios lengua 1ro\")\n",
    "mean_x <- mean(x,na.rm=TRUE)     \n",
    "med_x <- median(x,na.rm=TRUE)   \n",
    "abline(v = mean_x, col = 'blue')\n",
    "abline(v = med_x, col = 'red')\n",
    "\n",
    "legend(\"topright\", legend = c(\"media\", \"mediana\"),\n",
    "       fill =  c(\"blue\", \"red\"))"
   ]
  },
  {
   "cell_type": "code",
   "execution_count": null,
   "id": "766c173d",
   "metadata": {
    "vscode": {
     "languageId": "r"
    }
   },
   "outputs": [],
   "source": [
    "x <- as.numeric(filter(sec, Asignatura == \"MATEMATICA\" & AnoCursado == \"1\")$Promedio)\n",
    "\n",
    "hist(x, col=\"lightgrey\",border=\"white\",breaks = \"Sturges\", ylim = c(0, 250),\n",
    "     xlab=\"notas\", ylab=\"frecuencia absoluta\", main=\"Promedios matematica 1ro\")\n",
    "mean_x <- mean(x,na.rm=TRUE)     \n",
    "med_x <- median(x,na.rm=TRUE)   \n",
    "abline(v = mean_x, col = 'blue')\n",
    "abline(v = med_x, col = 'red')\n",
    "\n",
    "legend(\"topright\", legend = c(\"media\", \"mediana\"),\n",
    "       fill =  c(\"blue\", \"red\"))"
   ]
  },
  {
   "cell_type": "code",
   "execution_count": null,
   "id": "38355ab1",
   "metadata": {
    "vscode": {
     "languageId": "r"
    }
   },
   "outputs": [],
   "source": [
    "#1ro\n",
    "\n",
    "#a) ¿Cuáles son las notas más frecuentes? ¿Y las menos frecuentes?\n",
    "#b) ¿La distribución es unimodal o hay más de una moda?\n",
    "#c) ¿La distribución es simétrica, uniforme, asimétrica?\n",
    "#d) Si es asimétrica, ¿la asimetría es a derecha o a izquierda? ¿Qué quiere decir eso?\n",
    "#e) ¿En torno a qué intervalo están centrados los datos? ¿Es la media representativa?\n",
    "#f) ¿Cuán dispersos en torno a este centro están los datos? ¿Hay datos atípicos en relación a la mayoría de los datos?\n",
    "\n",
    "#a. matematicas + frec 6 y 7, - frec 1 y 2. lengua + frec 5 y 6, - frec 1 y 2\n",
    "#b. unimodal\n",
    "#c. asimetrica\n",
    "#d. POSITIVA ambas \n",
    "#e. matematica: centrados entrono al intervalo mas frecuente (6 y 7). lengua: entorno a 6 y 7\n",
    "#f. existe una dispersion significativa, no se visualizan atipicos."
   ]
  },
  {
   "cell_type": "code",
   "execution_count": null,
   "id": "9e26c767",
   "metadata": {
    "vscode": {
     "languageId": "r"
    }
   },
   "outputs": [],
   "source": [
    "# ej4\n",
    "\n",
    "#2do\n",
    "x <- as.numeric(filter(sec, Asignatura == \"MATEMATICA\" & AnoCursado == \"2\")$Promedio)\n",
    "\n",
    "hist(x, col=\"lightgrey\",border=\"white\",breaks = \"Sturges\", ylim = c(0, 200),\n",
    "     xlab=\"notas\", ylab=\"frecuencia absoluta\", main=\"Promedios matematica 2do\")\n",
    "mean_x <- mean(x,na.rm=TRUE)     \n",
    "med_x <- median(x,na.rm=TRUE)   \n",
    "abline(v = mean_x, col = 'blue')\n",
    "abline(v = med_x, col = 'red')\n",
    "\n",
    "legend(\"topright\", legend = c(\"media\", \"mediana\"),\n",
    "       fill =  c(\"blue\", \"red\"))"
   ]
  },
  {
   "cell_type": "code",
   "execution_count": null,
   "id": "8697fdf0",
   "metadata": {
    "vscode": {
     "languageId": "r"
    }
   },
   "outputs": [],
   "source": [
    "x <- as.numeric(filter(sec, Asignatura == \"LENGUA Y LITERATURA\" & AnoCursado == \"2\")$Promedio)\n",
    "\n",
    "hist(x, col=\"lightgrey\",border=\"white\",breaks = \"Sturges\",\n",
    "     xlab=\"notas\", ylab=\"frecuencia absoluta\", main=\"lengua 6to anio\")\n",
    "mean_x <- mean(x,na.rm=TRUE)     \n",
    "med_x <- median(x,na.rm=TRUE)   \n",
    "abline(v = mean_x, col = 'blue')\n",
    "abline(v = med_x, col = 'red')\n",
    "\n",
    "legend(\"topright\", legend = c(\"media\", \"mediana\"),\n",
    "       fill =  c(\"blue\", \"red\"))"
   ]
  },
  {
   "cell_type": "code",
   "execution_count": null,
   "id": "82703620",
   "metadata": {
    "vscode": {
     "languageId": "r"
    }
   },
   "outputs": [],
   "source": [
    "#2do\n",
    "\n",
    "#a) ¿Cuáles son las notas más frecuentes? ¿Y las menos frecuentes?\n",
    "#b) ¿La distribución es unimodal o hay más de una moda?\n",
    "#c) ¿La distribución es simétrica, uniforme, asimétrica?\n",
    "#d) Si es asimétrica, ¿la asimetría es a derecha o a izquierda? ¿Qué quiere decir eso?\n",
    "#e) ¿En torno a qué intervalo están centrados los datos? ¿Es la media representativa?\n",
    "#f) ¿Cuán dispersos en torno a este centro están los datos? ¿Hay datos atípicos en relación a la mayoría de los datos?\n",
    "\n",
    "#a. notas mas frecuentes en matematica son el intervalo 4-5 y 6-7, menos frec 1-2. lengua mas frec intervalo 5-6, menos frec 2-3\n",
    "#b. matematicas bimodal( intervalo 4-5 y 6-7), lengua unimodal\n",
    "#c. asimetrica ambas\n",
    "#d. todos los histogramas presentan una asimetria negativa ,  se puede decir que la mayoría de los datos se concentran en notas\n",
    "#más altas, y que hay algunas notas  muy bajos que estiran la cola hacia la izquierda.\n",
    "#e. matematica: centrados entorno al intervalo  6-7. lengua: entorno 6-7 tambien .Al existir una asimetria la media \n",
    "#no es representativa. la mediana es una medida de centralidad representativa de los promedios \n"
   ]
  },
  {
   "cell_type": "code",
   "execution_count": null,
   "id": "b8734a3b",
   "metadata": {
    "vscode": {
     "languageId": "r"
    }
   },
   "outputs": [],
   "source": [
    "# 3ero\n",
    "\n",
    "x <- as.numeric(filter(sec, Asignatura == \"MATEMATICA\" & AnoCursado == \"3\")$Promedio)\n",
    "\n",
    "hist(x, col=\"lightgrey\",border=\"white\",breaks = 8, ylim = c(0, 200),\n",
    "     xlab=\"notas\", ylab=\"frecuencia absoluta\", main=\"Promedios matematica 3ro\")\n",
    "mean_x <- mean(x,na.rm=TRUE)     \n",
    "med_x <- median(x,na.rm=TRUE)   \n",
    "abline(v = mean_x, col = 'blue')\n",
    "abline(v = med_x, col = 'red')\n",
    "\n",
    "legend(\"topright\", legend = c(\"media\", \"mediana\"),\n",
    "       fill =  c(\"blue\", \"red\"))"
   ]
  },
  {
   "cell_type": "code",
   "execution_count": null,
   "id": "2c41d83c",
   "metadata": {
    "vscode": {
     "languageId": "r"
    }
   },
   "outputs": [],
   "source": [
    "x <- as.numeric(filter(sec, Asignatura == \"LENGUA Y LITERATURA\" & AnoCursado == \"3\")$Promedio)\n",
    "\n",
    "hist(x, col=\"lightgrey\",border=\"white\",breaks = \"Sturges\",\n",
    "     xlab=\"notas\", ylab=\"frecuencia absoluta\", main=\"Promedios lengua 3ro\")\n",
    "mean_x <- mean(x,na.rm=TRUE)     \n",
    "med_x <- median(x,na.rm=TRUE)   \n",
    "abline(v = mean_x, col = 'blue')\n",
    "abline(v = med_x, col = 'red')\n",
    "\n",
    "legend(\"topright\", legend = c(\"media\", \"mediana\"),\n",
    "       fill =  c(\"blue\", \"red\"))"
   ]
  },
  {
   "cell_type": "code",
   "execution_count": null,
   "id": "48ad7ae7",
   "metadata": {
    "vscode": {
     "languageId": "r"
    }
   },
   "outputs": [],
   "source": [
    "#3ro\n",
    "\n",
    "#a) ¿Cuáles son las notas más frecuentes? ¿Y las menos frecuentes?\n",
    "#b) ¿La distribución es unimodal o hay más de una moda?\n",
    "#c) ¿La distribución es simétrica, uniforme, asimétrica?\n",
    "#d) Si es asimétrica, ¿la asimetría es a derecha o a izquierda? ¿Qué quiere decir eso?\n",
    "#e) ¿En torno a qué intervalo están centrados los datos? ¿Es la media representativa?\n",
    "#f) ¿Cuán dispersos en torno a este centro están los datos? ¿Hay datos atípicos en relación a la mayoría de los datos?\n",
    "\n",
    "#a. notas mas frecuentes en matematica intervalo 5-6, menos frec 1-2. lengua mas frec intervalo 5-6 y 7-8, menos frec 2-3\n",
    "#b. lengua bimodal(intervalo 5-6 y 7-8), matematica unimodal\n",
    "#c. asimetrica ambas\n",
    "#d. simetrica la media y la moda valen lo mismo\n",
    "#e. matematica y lengua estan centrados entorno al intervalo 6-7. Al existir una asimetria la media \n",
    "#no es representativa. la mediana si es una medida de centralidad representativa de los promedios \n"
   ]
  },
  {
   "cell_type": "code",
   "execution_count": null,
   "id": "50321097",
   "metadata": {
    "vscode": {
     "languageId": "r"
    }
   },
   "outputs": [],
   "source": [
    "#4to\n",
    "\n",
    "x <- as.numeric(filter(sec, Asignatura == \"MATEMATICA\" & AnoCursado == \"4\")$Promedio)\n",
    "\n",
    "hist(x, col=\"lightgrey\",border=\"white\",breaks = 8, ylim = c(0, 150),\n",
    "     xlab=\"notas\", ylab=\"frecuencia absoluta\", main=\"Promedios matematica 4to\")\n",
    "mean_x <- mean(x,na.rm=TRUE)     \n",
    "med_x <- median(x,na.rm=TRUE)   \n",
    "abline(v = mean_x, col = 'blue')\n",
    "abline(v = med_x, col = 'red')\n",
    "\n",
    "legend(\"topright\", legend = c(\"media\", \"mediana\"),\n",
    "       fill =  c(\"blue\", \"red\"))"
   ]
  },
  {
   "cell_type": "code",
   "execution_count": null,
   "id": "8210a773",
   "metadata": {
    "vscode": {
     "languageId": "r"
    }
   },
   "outputs": [],
   "source": [
    "x <- as.numeric(filter(sec, Asignatura == \"LENGUA Y LITERATURA\" & AnoCursado == \"4\")$Promedio)\n",
    "\n",
    "hist(x, col=\"lightgrey\",border=\"white\",breaks = \"Sturges\",\n",
    "     xlab=\"notas\", ylab=\"frecuencia absoluta\", main=\"Promedios lengua 4to\")\n",
    "mean_x <- mean(x,na.rm=TRUE)     \n",
    "med_x <- median(x,na.rm=TRUE)   \n",
    "abline(v = mean_x, col = 'blue')\n",
    "abline(v = med_x, col = 'red')\n",
    "\n",
    "legend(\"topright\", legend = c(\"media\", \"mediana\"),\n",
    "       fill =  c(\"blue\", \"red\"))"
   ]
  },
  {
   "cell_type": "code",
   "execution_count": null,
   "id": "fb2b0e0c",
   "metadata": {
    "vscode": {
     "languageId": "r"
    }
   },
   "outputs": [],
   "source": [
    "#4to\n",
    "\n",
    "#a) ¿Cuáles son las notas más frecuentes? ¿Y las menos frecuentes?\n",
    "#b) ¿La distribución es unimodal o hay más de una moda?\n",
    "#c) ¿La distribución es simétrica, uniforme, asimétrica?\n",
    "#d) Si es asimétrica, ¿la asimetría es a derecha o a izquierda? ¿Qué quiere decir eso?\n",
    "#e) ¿En torno a qué intervalo están centrados los datos? ¿Es la media representativa?\n",
    "#f) ¿Cuán dispersos en torno a este centro están los datos? ¿Hay datos atípicos en relación a la mayoría de los datos?\n",
    "\n",
    "#a. Notas mas frecuentes en matematica intervalo 5-6, menos frec 1-2. Lengua mas frec 5-6, menos frec 1-2\n",
    "#b. Tanto Lengua como matematica unimodal\n",
    "#c. Asimetrica ambas\n",
    "#d. Todos los histogramas presentan una asimetria negativa ,  se puede decir que la mayoría de los datos se concentran en notas\n",
    "#más altas, y que hay algunas notas  muy bajos que estiran la cola hacia la izquierda.\n",
    "#e. Matematica y lengua estan centrados entorno al intervalo 6-7. Al existir una asimetria la media \n",
    "#no es representativa. la mediana si es una medida de centralidad representativa de los promedios "
   ]
  },
  {
   "cell_type": "code",
   "execution_count": null,
   "id": "d9b64cfd",
   "metadata": {
    "vscode": {
     "languageId": "r"
    }
   },
   "outputs": [],
   "source": [
    "#5to\n",
    "\n",
    "x <- as.numeric(filter(sec, Asignatura == \"MATEMATICA\" & AnoCursado == \"5\")$Promedio)\n",
    "\n",
    "hist(x, col=\"lightgrey\",border=\"white\",breaks = 8, ylim = c(0, 150),\n",
    "     xlab=\"notas\", ylab=\"frecuencia absoluta\", main=\"Promedios matematica 5to\")\n",
    "mean_x <- mean(x,na.rm=TRUE)     \n",
    "med_x <- median(x,na.rm=TRUE)   \n",
    "abline(v = mean_x, col = 'blue')\n",
    "abline(v = med_x, col = 'red')\n",
    "\n",
    "legend(\"topright\", legend = c(\"media\", \"mediana\"),\n",
    "       fill =  c(\"blue\", \"red\"))"
   ]
  },
  {
   "cell_type": "code",
   "execution_count": null,
   "id": "34d1bc95",
   "metadata": {
    "vscode": {
     "languageId": "r"
    }
   },
   "outputs": [],
   "source": [
    "x <- as.numeric(filter(sec, Asignatura == \"LENGUA Y LITERATURA\" & AnoCursado == \"5\")$Promedio)\n",
    "\n",
    "hist(x, col=\"lightgrey\",border=\"white\",breaks = 8, ylim = c(0, 50),\n",
    "     xlab=\"notas\", ylab=\"frecuencia absoluta\", main=\"Promedios lengua 5to\")\n",
    "mean_x <- mean(x,na.rm=TRUE)     \n",
    "med_x <- median(x,na.rm=TRUE)   \n",
    "abline(v = mean_x, col = 'blue')\n",
    "abline(v = med_x, col = 'red')\n",
    "\n",
    "legend(\"topright\", legend = c(\"media\", \"mediana\"),\n",
    "       fill =  c(\"blue\", \"red\"))"
   ]
  },
  {
   "cell_type": "code",
   "execution_count": null,
   "id": "c439a4b6",
   "metadata": {
    "vscode": {
     "languageId": "r"
    }
   },
   "outputs": [],
   "source": [
    "#5to\n",
    "\n",
    "#a) ¿Cuáles son las notas más frecuentes? ¿Y las menos frecuentes?\n",
    "#b) ¿La distribución es unimodal o hay más de una moda?\n",
    "#c) ¿La distribución es simétrica, uniforme, asimétrica?\n",
    "#d) Si es asimétrica, ¿la asimetría es a derecha o a izquierda? ¿Qué quiere decir eso?\n",
    "#e) ¿En torno a qué intervalo están centrados los datos? ¿Es la media representativa?\n",
    "#f) ¿Cuán dispersos en torno a este centro están los datos? ¿Hay datos atípicos en relación a la mayoría de los datos?\n",
    "\n",
    "#a. Notas mas frecuentes en matematica 6-7, menos frec 2-3. Lengua mas frec 6-7, menos frec 3-4\n",
    "#b. Tanto Lengua como matematica unimodal\n",
    "#c. Asimetrica ambas\n",
    "#d. Todos los histogramas presentan una asimetria negativa ,  se puede decir que la mayoría de los datos se concentran en notas\n",
    "#más altas, y que hay algunas notas  muy bajos que estiran la cola hacia la izquierda.\n",
    "#e. Matematica esta centrado entorno al intervalo  6-7 Y lengua a 7-8. Al existir una asimetria la media \n",
    "#no es representativa. la mediana si es una medida de centralidad representativa de los promedios "
   ]
  },
  {
   "cell_type": "code",
   "execution_count": null,
   "id": "21f4a23a",
   "metadata": {
    "vscode": {
     "languageId": "r"
    }
   },
   "outputs": [],
   "source": [
    "# EJ 3 - PRIMARIA\n",
    "\n",
    "#1ro\n",
    "x <- as.numeric(filter(pri, Asignatura == \"MATEMATICA\" & AnoCursado == \"1\")$Promedio)\n",
    "\n",
    "hist(x, col=\"lightgrey\",border=\"white\",breaks = \"Sturges\",\n",
    "     xlab=\"notas\", ylab=\"frecuencia absoluta\", main=\"matematica 1ro - primaria\")\n",
    "mean_x <- mean(x,na.rm=TRUE)     \n",
    "med_x <- median(x,na.rm=TRUE)   \n",
    "abline(v = mean_x, col = 'blue')\n",
    "abline(v = med_x, col = 'red')\n",
    "\n",
    "legend(\"topright\", legend = c(\"media\", \"mediana\"),\n",
    "       fill =  c(\"blue\", \"red\"))"
   ]
  },
  {
   "cell_type": "code",
   "execution_count": null,
   "id": "5e8e6186",
   "metadata": {
    "vscode": {
     "languageId": "r"
    }
   },
   "outputs": [],
   "source": [
    "#a) ¿Cuáles son las notas más frecuentes? ¿Y las menos frecuentes?\n",
    "#b) ¿La distribución es unimodal o hay más de una moda?\n",
    "#c) ¿La distribución es simétrica, uniforme, asimétrica?\n",
    "#d) Si es asimétrica, ¿la asimetría es a derecha o a izquierda? ¿Qué quiere decir eso?\n",
    "#e) ¿En torno a qué intervalo están centrados los datos? ¿Es la media representativa?\n",
    "#f) ¿Cuán dispersos en torno a este centro están los datos? ¿Hay datos atípicos en relación a la mayoría de los datos?\n",
    "\n",
    "#a- notas mas frecuentes entorno a 8 y menos frecuentes entorno a 5.\n",
    "#b- distribucion unimodal\n",
    "#c- asimetrica\n",
    "#d- ligera asimetria negativa\n",
    "#e- los datos estan centrados entorno a 7,5 y 8. Podria ser representativa La media. Si bien no se corresponden con la mediana,\n",
    "#   pero aun asi toman valores del mismo intervalo\n",
    "#f- dispersion baja con un coeficiente de variacion de 13%. no hay valores atipicos"
   ]
  },
  {
   "cell_type": "code",
   "execution_count": null,
   "id": "6fabf177",
   "metadata": {
    "vscode": {
     "languageId": "r"
    }
   },
   "outputs": [],
   "source": [
    "x <- as.numeric(filter(pri, Asignatura == \"LENGUA\" & AnoCursado == \"1\")$Promedio)\n",
    "\n",
    "hist(x, col=\"lightgrey\",border=\"white\",breaks = \"Sturges\",\n",
    "     xlab=\"notas\", ylab=\"frecuencia absoluta\", main=\"lengua 1ro - primaria\")\n",
    "mean_x <- mean(x,na.rm=TRUE)     \n",
    "med_x <- median(x,na.rm=TRUE)   \n",
    "abline(v = mean_x, col = 'blue')\n",
    "abline(v = med_x, col = 'red')\n",
    "\n",
    "legend(\"topright\", legend = c(\"media\", \"mediana\"),\n",
    "       fill =  c(\"blue\", \"red\"))"
   ]
  },
  {
   "cell_type": "code",
   "execution_count": null,
   "id": "f3e0778f",
   "metadata": {
    "vscode": {
     "languageId": "r"
    }
   },
   "outputs": [],
   "source": [
    "#a) ¿Cuáles son las notas más frecuentes? ¿Y las menos frecuentes?\n",
    "#b) ¿La distribución es unimodal o hay más de una moda?\n",
    "#c) ¿La distribución es simétrica, uniforme, asimétrica?\n",
    "#d) Si es asimétrica, ¿la asimetría es a derecha o a izquierda? ¿Qué quiere decir eso?\n",
    "#e) ¿En torno a qué intervalo están centrados los datos? ¿Es la media representativa?\n",
    "#f) ¿Cuán dispersos en torno a este centro están los datos? ¿Hay datos atípicos en relación a la mayoría de los datos?\n",
    "\n",
    "#a- notas mas frecuentes entorno a 7.5 y 8 y menos frecuente entorno a 5 \n",
    "#b- distribucion unimodal\n",
    "#c- distribucion asimetrica\n",
    "#d- asimetria negativa\n",
    "#e- los datos estan centrados entorno a 7,5 y 8. Podria ser representativa La media. Si bien no se corresponden con la mediana,\n",
    "#   pero aun asi toman valores del mismo intervalo\n",
    "#f- dispersion baja con un coeficiente de variacion de 13%. no hay valores atipicos\n"
   ]
  },
  {
   "cell_type": "code",
   "execution_count": null,
   "id": "54bea28e",
   "metadata": {
    "vscode": {
     "languageId": "r"
    }
   },
   "outputs": [],
   "source": [
    "#2do\n",
    "x <- as.numeric(filter(pri, Asignatura == \"MATEMATICA\" & AnoCursado == \"2\")$Promedio)\n",
    "\n",
    "hist(x, col=\"lightgrey\",border=\"white\",breaks = \"Sturges\",\n",
    "     xlab=\"notas\", ylab=\"frecuencia absoluta\", main=\"matematica 2do - primaria\")\n",
    "mean_x <- mean(x,na.rm=TRUE)     \n",
    "med_x <- median(x,na.rm=TRUE)   \n",
    "abline(v = mean_x, col = 'blue')\n",
    "abline(v = med_x, col = 'red')\n",
    "\n",
    "legend(\"topright\", legend = c(\"media\", \"mediana\"),\n",
    "       fill =  c(\"blue\", \"red\"))"
   ]
  },
  {
   "cell_type": "code",
   "execution_count": null,
   "id": "1f6035d1",
   "metadata": {
    "vscode": {
     "languageId": "r"
    }
   },
   "outputs": [],
   "source": [
    "#a) ¿Cuáles son las notas más frecuentes? ¿Y las menos frecuentes?\n",
    "#b) ¿La distribución es unimodal o hay más de una moda?\n",
    "#c) ¿La distribución es simétrica, uniforme, asimétrica?\n",
    "#d) Si es asimétrica, ¿la asimetría es a derecha o a izquierda? ¿Qué quiere decir eso?\n",
    "#e) ¿En torno a qué intervalo están centrados los datos? ¿Es la media representativa?\n",
    "#f) ¿Cuán dispersos en torno a este centro están los datos? ¿Hay datos atípicos en relación a la mayoría de los datos?\n",
    "\n",
    "#a- notas mas frecuentes entorno a 8.5 y 9. menos frecuentes entorno a 5\n",
    "#b- distribucion unimodal\n",
    "#c- distribucion asimetrica\n",
    "#d- asimetria negativa\n",
    "#e- los datos se centran entorno al intervalo entre 8 y 8.5 Podria ser representativa La media. Si bien no se corresponden con la mediana,\n",
    "#   pero aun asi toman valores del mismo intervalo\n",
    "#f- dispersion baja con un coeficiente de variacion de 14%. no hay valores atipicos"
   ]
  },
  {
   "cell_type": "code",
   "execution_count": null,
   "id": "2483c627",
   "metadata": {
    "vscode": {
     "languageId": "r"
    }
   },
   "outputs": [],
   "source": [
    "x <- as.numeric(filter(pri, Asignatura == \"LENGUA\" & AnoCursado == \"2\")$Promedio)\n",
    "\n",
    "hist(x, col=\"lightgrey\",border=\"white\",breaks = \"Sturges\",\n",
    "     xlab=\"notas\", ylab=\"frecuencia absoluta\", main=\"lengua 2do - primaria\")\n",
    "mean_x <- mean(x,na.rm=TRUE)     \n",
    "med_x <- median(x,na.rm=TRUE)   \n",
    "abline(v = mean_x, col = 'blue')\n",
    "abline(v = med_x, col = 'red')\n",
    "\n",
    "legend(\"topright\", legend = c(\"media\", \"mediana\"),\n",
    "       fill =  c(\"blue\", \"red\"))"
   ]
  },
  {
   "cell_type": "code",
   "execution_count": null,
   "id": "ff187a7f",
   "metadata": {
    "vscode": {
     "languageId": "r"
    }
   },
   "outputs": [],
   "source": [
    "#a) ¿Cuáles son las notas más frecuentes? ¿Y las menos frecuentes?\n",
    "#b) ¿La distribución es unimodal o hay más de una moda?\n",
    "#c) ¿La distribución es simétrica, uniforme, asimétrica?\n",
    "#d) Si es asimétrica, ¿la asimetría es a derecha o a izquierda? ¿Qué quiere decir eso?\n",
    "#e) ¿En torno a qué intervalo están centrados los datos? ¿Es la media representativa?\n",
    "#f) ¿Cuán dispersos en torno a este centro están los datos? ¿Hay datos atípicos en relación a la mayoría de los datos?\n",
    "\n",
    "#a- notas mas frecuentes entorno a 8.5 y 9. menos frecuentes entorno a 5\n",
    "#b- distribucion unimodal\n",
    "#c- distribucion asimetrica\n",
    "#d- asimetria negativa\n",
    "#e- los datos se centran entorno al intervalo entre 8 y 8.5. Podria ser representativa La media. Si bien no se corresponden con la mediana,\n",
    "#   pero aun asi toman valores del mismo intervalo\n",
    "#f- dispersion baja con un coeficiente de variacion de 14%. no hay valores atipicos"
   ]
  },
  {
   "cell_type": "code",
   "execution_count": null,
   "id": "a522627d",
   "metadata": {
    "vscode": {
     "languageId": "r"
    }
   },
   "outputs": [],
   "source": [
    "#3ro\n",
    "x <- as.numeric(filter(pri, Asignatura == \"MATEMATICA\" & AnoCursado == \"3\")$Promedio)\n",
    "\n",
    "hist(x, col=\"lightgrey\",border=\"white\",breaks = \"Sturges\",\n",
    "     xlab=\"notas\", ylab=\"frecuencia absoluta\", main=\"matematica 3ro - primaria\")\n",
    "mean_x <- mean(x,na.rm=TRUE)     \n",
    "med_x <- median(x,na.rm=TRUE)   \n",
    "abline(v = mean_x, col = 'blue')\n",
    "abline(v = med_x, col = 'red')\n",
    "\n",
    "legend(\"topright\", legend = c(\"media\", \"mediana\"),\n",
    "       fill =  c(\"blue\", \"red\"))"
   ]
  },
  {
   "cell_type": "code",
   "execution_count": null,
   "id": "2b217c29",
   "metadata": {
    "vscode": {
     "languageId": "r"
    }
   },
   "outputs": [],
   "source": [
    "#a) ¿Cuáles son las notas más frecuentes? ¿Y las menos frecuentes?\n",
    "#b) ¿La distribución es unimodal o hay más de una moda?\n",
    "#c) ¿La distribución es simétrica, uniforme, asimétrica?\n",
    "#d) Si es asimétrica, ¿la asimetría es a derecha o a izquierda? ¿Qué quiere decir eso?\n",
    "#e) ¿En torno a qué intervalo están centrados los datos? ¿Es la media representativa?\n",
    "#f) ¿Cuán dispersos en torno a este centro están los datos? ¿Hay datos atípicos en relación a la mayoría de los datos?\n",
    "\n",
    "#a- notas mas frecuentes entorno a 8.5 y 9. menos frecuentes entorno a 9.5 y 10\n",
    "#b- distribucion unimodal\n",
    "#c- distribucion asimetrica\n",
    "#d- asimetria negativa\n",
    "#e- los datos se centran entorno al intervalo entre 7.5 y 8 la media es representativa\n",
    "#f- dispersion baja con un coeficiente de variacion de 13%. no hay valores atipicos"
   ]
  },
  {
   "cell_type": "code",
   "execution_count": null,
   "id": "090c23e1",
   "metadata": {
    "vscode": {
     "languageId": "r"
    }
   },
   "outputs": [],
   "source": [
    "x <- as.numeric(filter(pri, Asignatura == \"LENGUA\" & AnoCursado == \"3\")$Promedio)\n",
    "\n",
    "hist(x, col=\"lightgrey\",border=\"white\",breaks = \"Sturges\",\n",
    "     xlab=\"notas\", ylab=\"frecuencia absoluta\", main=\"lengua 3ro - primaria\")\n",
    "mean_x <- mean(x,na.rm=TRUE)     \n",
    "med_x <- median(x,na.rm=TRUE)   \n",
    "abline(v = mean_x, col = 'blue')\n",
    "abline(v = med_x, col = 'red')\n",
    "\n",
    "legend(\"topright\", legend = c(\"media\", \"mediana\"),\n",
    "       fill =  c(\"blue\", \"red\"))"
   ]
  },
  {
   "cell_type": "code",
   "execution_count": null,
   "id": "ce7b8321",
   "metadata": {
    "vscode": {
     "languageId": "r"
    }
   },
   "outputs": [],
   "source": [
    "#a) ¿Cuáles son las notas más frecuentes? ¿Y las menos frecuentes?\n",
    "#b) ¿La distribución es unimodal o hay más de una moda?\n",
    "#c) ¿La distribución es simétrica, uniforme, asimétrica?\n",
    "#d) Si es asimétrica, ¿la asimetría es a derecha o a izquierda? ¿Qué quiere decir eso?\n",
    "#e) ¿En torno a qué intervalo están centrados los datos? ¿Es la media representativa?\n",
    "#f) ¿Cuán dispersos en torno a este centro están los datos? ¿Hay datos atípicos en relación a la mayoría de los datos?\n",
    "\n",
    "#a- notas mas frecuentes entorno a 8.5 y 9. menos frecuentes entorno a 9.5 y 10\n",
    "#b- distribucion unimodal\n",
    "#c- distribucion asimetrica\n",
    "#d- asimetria negativa\n",
    "#e- los datos se centran entorno al intervalo entre 7.5 y 8 la media es representativa\n",
    "#f- dispersion baja con un coeficiente de variacion de 13%. no hay valores atipicos"
   ]
  },
  {
   "cell_type": "code",
   "execution_count": null,
   "id": "7b5bf5d7",
   "metadata": {
    "vscode": {
     "languageId": "r"
    }
   },
   "outputs": [],
   "source": [
    "#4to\n",
    "x <- as.numeric(filter(pri, Asignatura == \"MATEMATICA\" & AnoCursado == \"4\")$Promedio)\n",
    "\n",
    "hist(x, col=\"lightgrey\",border=\"white\",breaks = \"Sturges\",\n",
    "     xlab=\"notas\", ylab=\"frecuencia absoluta\", main=\"matematica 4to - primaria\")\n",
    "mean_x <- mean(x,na.rm=TRUE)     \n",
    "med_x <- median(x,na.rm=TRUE)   \n",
    "abline(v = mean_x, col = 'blue')\n",
    "abline(v = med_x, col = 'red')\n",
    "\n",
    "legend(\"topright\", legend = c(\"media\", \"mediana\"),\n",
    "       fill =  c(\"blue\", \"red\"))"
   ]
  },
  {
   "cell_type": "code",
   "execution_count": null,
   "id": "e38d7a02",
   "metadata": {
    "vscode": {
     "languageId": "r"
    }
   },
   "outputs": [],
   "source": [
    "#a) ¿Cuáles son las notas más frecuentes? ¿Y las menos frecuentes?\n",
    "#b) ¿La distribución es unimodal o hay más de una moda?\n",
    "#c) ¿La distribución es simétrica, uniforme, asimétrica?\n",
    "#d) Si es asimétrica, ¿la asimetría es a derecha o a izquierda? ¿Qué quiere decir eso?\n",
    "#e) ¿En torno a qué intervalo están centrados los datos? ¿Es la media representativa?\n",
    "#f) ¿Cuán dispersos en torno a este centro están los datos? ¿Hay datos atípicos en relación a la mayoría de los datos?\n",
    "\n",
    "#a- notas mas frecuentes entorno a 7.5 y 8. menos frecuentes entorno a 6.5 y 7\n",
    "#b- distribucion unimodal\n",
    "#c- distribucion asimetrica\n",
    "#d- asimetria negativa\n",
    "#e- los datos se centran entorno al intervalo entre 7.5 y 8 la media es representativa\n",
    "#f- dispersion baja con un coeficiente de variacion de 13.5%. no hay valores atipicos"
   ]
  },
  {
   "cell_type": "code",
   "execution_count": null,
   "id": "15bbf173",
   "metadata": {
    "vscode": {
     "languageId": "r"
    }
   },
   "outputs": [],
   "source": [
    "x <- as.numeric(filter(pri, Asignatura == \"LENGUA\" & AnoCursado == \"4\")$Promedio)\n",
    "\n",
    "hist(x, col=\"lightgrey\",border=\"white\",breaks = \"Sturges\",\n",
    "     xlab=\"notas\", ylab=\"frecuencia absoluta\", main=\"lengua 4to - primaria\")\n",
    "mean_x <- mean(x,na.rm=TRUE)     \n",
    "med_x <- median(x,na.rm=TRUE)   \n",
    "abline(v = mean_x, col = 'blue')\n",
    "abline(v = med_x, col = 'red')\n",
    "\n",
    "legend(\"topright\", legend = c(\"media\", \"mediana\"),\n",
    "       fill =  c(\"blue\", \"red\"))"
   ]
  },
  {
   "cell_type": "code",
   "execution_count": null,
   "id": "cda86889",
   "metadata": {
    "vscode": {
     "languageId": "r"
    }
   },
   "outputs": [],
   "source": [
    "#a) ¿Cuáles son las notas más frecuentes? ¿Y las menos frecuentes?\n",
    "#b) ¿La distribución es unimodal o hay más de una moda?\n",
    "#c) ¿La distribución es simétrica, uniforme, asimétrica?\n",
    "#d) Si es asimétrica, ¿la asimetría es a derecha o a izquierda? ¿Qué quiere decir eso?\n",
    "#e) ¿En torno a qué intervalo están centrados los datos? ¿Es la media representativa?\n",
    "#f) ¿Cuán dispersos en torno a este centro están los datos? ¿Hay datos atípicos en relación a la mayoría de los datos?\n",
    "\n",
    "#a- notas mas frecuentes entorno a 7.5 y 8. menos frecuentes entorno a 9.5 y 10\n",
    "#b- distribucion unimodal\n",
    "#c- distribucion simetrica\n",
    "#e- los datos se centran entorno al intervalo entre 7.5 y 8 la media es representativa\n",
    "#f- dispersion baja con un coeficiente de variacion de 13.2%. no hay valores atipicos"
   ]
  },
  {
   "cell_type": "code",
   "execution_count": null,
   "id": "ecfe6691",
   "metadata": {
    "vscode": {
     "languageId": "r"
    }
   },
   "outputs": [],
   "source": [
    "#5to\n",
    "x <- as.numeric(filter(pri, Asignatura == \"MATEMATICA\" & AnoCursado == \"5\")$Promedio)\n",
    "\n",
    "hist(x, col=\"lightgrey\",border=\"white\",breaks = \"Sturges\",\n",
    "     xlab=\"notas\", ylab=\"frecuencia absoluta\", main=\"matematica 5to - primaria\")\n",
    "mean_x <- mean(x,na.rm=TRUE)     \n",
    "med_x <- median(x,na.rm=TRUE)   \n",
    "abline(v = mean_x, col = 'blue')\n",
    "abline(v = med_x, col = 'red')\n",
    "\n",
    "legend(\"topright\", legend = c(\"media\", \"mediana\"),\n",
    "       fill =  c(\"blue\", \"red\"))"
   ]
  },
  {
   "cell_type": "code",
   "execution_count": null,
   "id": "6028943a",
   "metadata": {
    "vscode": {
     "languageId": "r"
    }
   },
   "outputs": [],
   "source": [
    "#a) ¿Cuáles son las notas más frecuentes? ¿Y las menos frecuentes?\n",
    "#b) ¿La distribución es unimodal o hay más de una moda?\n",
    "#c) ¿La distribución es simétrica, uniforme, asimétrica?\n",
    "#d) Si es asimétrica, ¿la asimetría es a derecha o a izquierda? ¿Qué quiere decir eso?\n",
    "#e) ¿En torno a qué intervalo están centrados los datos? ¿Es la media representativa?\n",
    "#f) ¿Cuán dispersos en torno a este centro están los datos? ¿Hay datos atípicos en relación a la mayoría de los datos?\n",
    "\n",
    "#a- notas mas frecuentes entorno a 7.5 y 8. menos frecuentes entorno a 6.5 y 7\n",
    "#b- distribucion unimodal\n",
    "#c- distribucion asimetrica\n",
    "#d- distribucion presenta asimetria negativa\n",
    "#e- los datos se centran entorno al intervalo entre 7.5 y 8 la media es representativa\n",
    "#f- dispersion baja con un coeficiente de variacion de 14.5%. no hay valores atipicos"
   ]
  },
  {
   "cell_type": "code",
   "execution_count": null,
   "id": "ecd8903d",
   "metadata": {
    "vscode": {
     "languageId": "r"
    }
   },
   "outputs": [],
   "source": [
    "x <- as.numeric(filter(pri, Asignatura == \"LENGUA\" & AnoCursado == \"5\")$Promedio)\n",
    "\n",
    "hist(x, col=\"lightgrey\",border=\"white\",breaks = \"Sturges\",\n",
    "     xlab=\"notas\", ylab=\"frecuencia absoluta\", main=\"lengua 5to - primaria\")\n",
    "mean_x <- mean(x,na.rm=TRUE)     \n",
    "med_x <- median(x,na.rm=TRUE)   \n",
    "abline(v = mean_x, col = 'blue')\n",
    "abline(v = med_x, col = 'red')\n",
    "\n",
    "legend(\"topright\", legend = c(\"media\", \"mediana\"),\n",
    "       fill =  c(\"blue\", \"red\"))"
   ]
  },
  {
   "cell_type": "code",
   "execution_count": null,
   "id": "e4a3806d",
   "metadata": {
    "vscode": {
     "languageId": "r"
    }
   },
   "outputs": [],
   "source": [
    "#a) ¿Cuáles son las notas más frecuentes? ¿Y las menos frecuentes?\n",
    "#b) ¿La distribución es unimodal o hay más de una moda?\n",
    "#c) ¿La distribución es simétrica, uniforme, asimétrica?\n",
    "#d) Si es asimétrica, ¿la asimetría es a derecha o a izquierda? ¿Qué quiere decir eso?\n",
    "#e) ¿En torno a qué intervalo están centrados los datos? ¿Es la media representativa?\n",
    "#f) ¿Cuán dispersos en torno a este centro están los datos? ¿Hay datos atípicos en relación a la mayoría de los datos?\n",
    "\n",
    "#a- notas mas frecuentes entorno a 7.5 y 8. menos frecuentes entorno a 6 y 6.5\n",
    "#b- distribucion unimodal\n",
    "#c- distribucion asimetrica\n",
    "#d- distribucion presenta asimetria positiva\n",
    "#e- los datos se centran entorno al intervalo entre 7.5 y 8 la media es representativa\n",
    "#f- dispersion baja con un coeficiente de variacion de 14.1%. no hay valores atipicos"
   ]
  },
  {
   "cell_type": "code",
   "execution_count": null,
   "id": "fcee86af",
   "metadata": {
    "vscode": {
     "languageId": "r"
    }
   },
   "outputs": [],
   "source": [
    "#6to\n",
    "x <- as.numeric(filter(pri, Asignatura == \"MATEMATICA\" & AnoCursado == \"6\")$Promedio)\n",
    "\n",
    "hist(x, col=\"lightgrey\",border=\"white\",breaks = \"Sturges\",\n",
    "     xlab=\"notas\", ylab=\"frecuencia absoluta\", main=\"matematica 6to - primaria\")\n",
    "mean_x <- mean(x,na.rm=TRUE)     \n",
    "med_x <- median(x,na.rm=TRUE)   \n",
    "abline(v = mean_x, col = 'blue')\n",
    "abline(v = med_x, col = 'red')\n",
    "\n",
    "legend(\"topright\", legend = c(\"media\", \"mediana\"),\n",
    "       fill =  c(\"blue\", \"red\"))"
   ]
  },
  {
   "cell_type": "code",
   "execution_count": null,
   "id": "2271b282",
   "metadata": {
    "vscode": {
     "languageId": "r"
    }
   },
   "outputs": [],
   "source": [
    "#a) ¿Cuáles son las notas más frecuentes? ¿Y las menos frecuentes?\n",
    "#b) ¿La distribución es unimodal o hay más de una moda?\n",
    "#c) ¿La distribución es simétrica, uniforme, asimétrica?\n",
    "#d) Si es asimétrica, ¿la asimetría es a derecha o a izquierda? ¿Qué quiere decir eso?\n",
    "#e) ¿En torno a qué intervalo están centrados los datos? ¿Es la media representativa?\n",
    "#f) ¿Cuán dispersos en torno a este centro están los datos? ¿Hay datos atípicos en relación a la mayoría de los datos?\n",
    "\n",
    "#a- notas mas frecuentes entorno a 6.5 y 7. menos frecuentes entorno a 5 y 5.5\n",
    "#b- distribucion bimodal\n",
    "#c- distribucion asimetrica\n",
    "#d- distribucion presenta asimetria positiva\n",
    "#e- los datos se centran entorno al intervalo entre 7.5 y 8 la media es representativa\n",
    "#f- dispersion baja con un coeficiente de variacion de 14.6%. no hay valores atipicos"
   ]
  },
  {
   "cell_type": "code",
   "execution_count": null,
   "id": "47d529d3",
   "metadata": {
    "vscode": {
     "languageId": "r"
    }
   },
   "outputs": [],
   "source": [
    "x <- as.numeric(filter(pri, Asignatura == \"LENGUA\" & AnoCursado == \"6\")$Promedio)\n",
    "\n",
    "hist(x, col=\"lightgrey\",border=\"white\",breaks = \"Sturges\",\n",
    "     xlab=\"notas\", ylab=\"frecuencia absoluta\", main=\"lengua 6to - primaria\")\n",
    "mean_x <- mean(x,na.rm=TRUE)     \n",
    "med_x <- median(x,na.rm=TRUE)   \n",
    "abline(v = mean_x, col = 'blue')\n",
    "abline(v = med_x, col = 'red')\n",
    "\n",
    "legend(\"topright\", legend = c(\"media\", \"mediana\"),\n",
    "       fill =  c(\"blue\", \"red\"))"
   ]
  },
  {
   "cell_type": "code",
   "execution_count": null,
   "id": "ad67b68b",
   "metadata": {
    "vscode": {
     "languageId": "r"
    }
   },
   "outputs": [],
   "source": [
    "#a) ¿Cuáles son las notas más frecuentes? ¿Y las menos frecuentes?\n",
    "#b) ¿La distribución es unimodal o hay más de una moda?\n",
    "#c) ¿La distribución es simétrica, uniforme, asimétrica?\n",
    "#d) Si es asimétrica, ¿la asimetría es a derecha o a izquierda? ¿Qué quiere decir eso?\n",
    "#e) ¿En torno a qué intervalo están centrados los datos? ¿Es la media representativa?\n",
    "#f) ¿Cuán dispersos en torno a este centro están los datos? ¿Hay datos atípicos en relación a la mayoría de los datos?\n",
    "\n",
    "#a- notas mas frecuentes entorno a 7.5 y 8. menos frecuentes entorno a 5 y 5.5\n",
    "#b- distribucion bimodal\n",
    "#c- distribucion asimetrica\n",
    "#d- distribucion presenta asimetria positiva\n",
    "#e- los datos se centran entorno al intervalo entre 7.5 y 8 la media es representativa\n",
    "#f- dispersion baja con un coeficiente de variacion de 14.7%. no hay valores atipicos"
   ]
  },
  {
   "cell_type": "code",
   "execution_count": null,
   "id": "900da352",
   "metadata": {
    "vscode": {
     "languageId": "r"
    }
   },
   "outputs": [],
   "source": [
    "datos <- filter(bd, Modalidad == \"Secundaria\" & Asignatura == \"MATEMATICA\", AnoCursado < 7)\n",
    "\n",
    "mode <- function(x) {\n",
    "   return(as.numeric(names(which.max(table(x)))))\n",
    "}\n",
    "\n",
    "datos <- rename(datos, año = AnoCursado)\n",
    "datos  %>% \n",
    "group_by(año)  %>%\n",
    "    summarise(media = round(mean(Promedio, na.rm = TRUE), digits = 2),\n",
    "              mediana = round(median(Promedio, na.rm = TRUE), digits = 2),\n",
    "              moda = round(mode(Promedio), digits = 2),\n",
    "             desvio_est = round(sd(Promedio, na.rm = TRUE), digits= 2))"
   ]
  },
  {
   "cell_type": "code",
   "execution_count": null,
   "id": "99ca64c0",
   "metadata": {
    "vscode": {
     "languageId": "r"
    }
   },
   "outputs": [],
   "source": [
    "datos <- filter(bd, Modalidad == \"Secundaria\" & Asignatura == \"LENGUA Y LITERATURA\", AnoCursado < 7)\n",
    "\n",
    "mode <- function(x) {\n",
    "   return(as.numeric(names(which.max(table(x)))))\n",
    "}\n",
    "\n",
    "datos <- rename(datos, año = AnoCursado)\n",
    "datos  %>% \n",
    "group_by(año)  %>%\n",
    "    summarise(media = round(mean(Promedio, na.rm = TRUE), digits = 2),\n",
    "              mediana = round(median(Promedio, na.rm = TRUE), digits = 2),\n",
    "              moda = round(mode(Promedio), digits = 2),\n",
    "             desvio_est = round(sd(Promedio, na.rm = TRUE), digits= 2))"
   ]
  },
  {
   "cell_type": "code",
   "execution_count": null,
   "id": "bacdcf43",
   "metadata": {
    "vscode": {
     "languageId": "r"
    }
   },
   "outputs": [],
   "source": [
    "datos <- filter(bd, Modalidad == \"Primaria\" & Asignatura == \"MATEMATICA\", AnoCursado < 7)\n",
    "table(datos$AnoCursado)\n",
    "\n",
    "datos <- rename(datos, año = AnoCursado)\n",
    "datos  %>% \n",
    "group_by(año)  %>%\n",
    "    summarise(media = round(mean(Promedio, na.rm = TRUE), digits = 2),\n",
    "             desvio_est = round(sd(Promedio, na.rm = TRUE), digits= 2))"
   ]
  },
  {
   "cell_type": "code",
   "execution_count": null,
   "id": "6be2ec4b",
   "metadata": {
    "vscode": {
     "languageId": "r"
    }
   },
   "outputs": [],
   "source": [
    "datos <- filter(bd, Modalidad == \"Primaria\" & Asignatura == \"LENGUA\", AnoCursado < 7)\n",
    "table(datos$AnoCursado)\n",
    "\n",
    "datos <- rename(datos, año = AnoCursado)\n",
    "datos  %>% \n",
    "group_by(año)  %>%\n",
    "    summarise(media = round(mean(Promedio, na.rm = TRUE), digits = 2),\n",
    "             desvio_est = round(sd(Promedio, na.rm = TRUE), digits= 2))"
   ]
  },
  {
   "cell_type": "code",
   "execution_count": null,
   "id": "2e2fb94a",
   "metadata": {
    "vscode": {
     "languageId": "r"
    }
   },
   "outputs": [],
   "source": [
    "# TP4"
   ]
  },
  {
   "cell_type": "code",
   "execution_count": null,
   "id": "9263f562",
   "metadata": {
    "vscode": {
     "languageId": "r"
    }
   },
   "outputs": [],
   "source": [
    "#EJ 4\n",
    "\n",
    "\n",
    "#SECUNDARIA PRIMER AÑO\n",
    "x <- as.numeric(filter(sec, Asignatura == \"MATEMATICA\" & AnoCursado == \"1\")$Promedio)\n",
    "y <- as.numeric(filter(sec, Asignatura == \"LENGUA Y LITERATURA\" & AnoCursado == \"1\")$Promedio)\n",
    "\n",
    "hist(\n",
    "    x,\n",
    "    freq = FALSE,\n",
    "    col = \"grey\",\n",
    "    border = \"#ffffff51\",\n",
    "    breaks = c(1:10),\n",
    "    ylim = c(0, 0.30),\n",
    "    main = \"SECUNDARIA PRIMER AÑO\",\n",
    "    xlab = \"nota\"\n",
    ")\n",
    "\n",
    "legend(\"topright\", legend = c(\"Matemática\", \"Media\", \"Lengua y Literatura\", \"Media\"),\n",
    "       fill =  c(\"lightgrey\", \"red\", \"steelblue1\", \"black\"),\n",
    "       cex = 0.8\n",
    ")\n",
    "\n",
    "hist(\n",
    "    y,\n",
    "    freq = FALSE,\n",
    "    col = \"#5caceea9\",\n",
    "    border = \"#ffffff51\",\n",
    "    breaks = c(1:10),\n",
    "    add = TRUE\n",
    ")\n",
    "\n",
    "mean_x <- mean(x,na.rm=TRUE)     \n",
    "#med_x <- median(x,na.rm=TRUE)   \n",
    "mean_y <- mean(y,na.rm=TRUE)     \n",
    "#med_y <- median(y,na.rm=TRUE)   \n",
    "abline(v = mean_x, col = 'red')\n",
    "#abline(v = med_x, col = 'red')\n",
    "abline(v = mean_y, col = 'black')\n",
    "#abline(v = med_y, col = 'green')\n",
    "\n",
    "x <- filter(sec, AnoCursado == \"1\" & Asignatura %in% c(\"MATEMATICA\", \"LENGUA Y LITERATURA\"))$Promedio\n",
    "y <- as.character(filter(sec, AnoCursado == \"1\" & Asignatura %in% c(\"MATEMATICA\", \"LENGUA Y LITERATURA\"))$Asignatura)\n",
    "\n",
    "boxplot(x ~ y, col = rainbow(15), las = 2, ylab=\"notas\", xlab=\"\",cex.axis = 0.7, cex.names= 0.75, main=\"SECUNDARIA PRIMER AÑO\", las = 1)"
   ]
  },
  {
   "cell_type": "code",
   "execution_count": null,
   "id": "47505cf7",
   "metadata": {
    "vscode": {
     "languageId": "r"
    }
   },
   "outputs": [],
   "source": [
    "#SECUNDARIA SEGUNDO AÑO\n",
    "x <- as.numeric(filter(sec, Asignatura == \"MATEMATICA\" & AnoCursado == \"2\")$Promedio)\n",
    "y <- as.numeric(filter(sec, Asignatura == \"LENGUA Y LITERATURA\" & AnoCursado == \"2\")$Promedio)\n",
    "\n",
    "hist(\n",
    "    x,\n",
    "    freq = FALSE,\n",
    "    col = \"grey\",\n",
    "    border = \"#ffffff51\",\n",
    "    breaks = c(1:10),\n",
    "    ylim = c(0, 0.25),\n",
    "    main = \"SECUNDARIA SEGUNDO AÑO\",\n",
    "    xlab = \"nota\"\n",
    ")\n",
    "\n",
    "legend(\"topright\", legend = c(\"Matemática\", \"Media\", \"Lengua y Literatura\", \"Media\"),\n",
    "       fill =  c(\"lightgrey\", \"red\", \"steelblue1\", \"black\"),\n",
    "       cex = 0.8\n",
    ")\n",
    "\n",
    "hist(\n",
    "    y,\n",
    "    freq = FALSE,\n",
    "    col = \"#5caceea9\",\n",
    "    border = \"#ffffff51\",\n",
    "    breaks = c(1:10),\n",
    "    add = TRUE\n",
    ")\n",
    "\n",
    "mean_x <- mean(x,na.rm=TRUE)     \n",
    "#med_x <- median(x,na.rm=TRUE)   \n",
    "mean_y <- mean(y,na.rm=TRUE)     \n",
    "#med_y <- median(y,na.rm=TRUE)   \n",
    "abline(v = mean_x, col = 'red')\n",
    "#abline(v = med_x, col = 'red')\n",
    "abline(v = mean_y, col = 'black')\n",
    "#abline(v = med_y, col = 'black')\n",
    "\n",
    "x <- filter(sec, AnoCursado == \"2\" & Asignatura %in% c(\"MATEMATICA\", \"LENGUA Y LITERATURA\"))$Promedio\n",
    "y <- as.character(filter(sec, AnoCursado == \"2\" & Asignatura %in% c(\"MATEMATICA\", \"LENGUA Y LITERATURA\"))$Asignatura)\n",
    "\n",
    "boxplot(x ~ y, col = rainbow(15), las = 2, ylab=\"notas\", xlab=\"\",cex.axis = 0.8, cex.names= 0.75, main=\"SECUNDARIA SEGUNDO AÑO\")"
   ]
  },
  {
   "cell_type": "code",
   "execution_count": null,
   "id": "9ac020fe",
   "metadata": {
    "vscode": {
     "languageId": "r"
    }
   },
   "outputs": [],
   "source": [
    "#SECUNDARIA TERCER AÑO\n",
    "x <- as.numeric(filter(sec, Asignatura == \"MATEMATICA\" & AnoCursado == \"3\")$Promedio)\n",
    "y <- as.numeric(filter(sec, Asignatura == \"LENGUA Y LITERATURA\" & AnoCursado == \"3\")$Promedio)\n",
    "\n",
    "hist(\n",
    "    x,\n",
    "    freq = FALSE,\n",
    "    col = \"grey\",\n",
    "    border = \"#ffffff51\",\n",
    "    breaks = c(1:10),\n",
    "    ylim = c(0, 0.25),\n",
    "    main = \"SECUNDARIA TERCER AÑO\",\n",
    "    xlab = \"nota\"\n",
    ")\n",
    "\n",
    "legend(\"topright\", legend = c(\"Matemática\", \"Media\", \"Lengua y Literatura\", \"Media\"),\n",
    "       fill =  c(\"lightgrey\", \"red\", \"steelblue1\", \"black\"),\n",
    "       cex = 0.8\n",
    ")\n",
    "\n",
    "hist(\n",
    "    y,\n",
    "    freq = FALSE,\n",
    "    col = \"#5caceea9\",\n",
    "    border = \"#ffffff51\",\n",
    "    breaks = c(1:10),\n",
    "    add = TRUE\n",
    ")\n",
    "\n",
    "mean_x <- mean(x,na.rm=TRUE)     \n",
    "#med_x <- median(x,na.rm=TRUE)   \n",
    "mean_y <- mean(y,na.rm=TRUE)     \n",
    "#med_y <- median(y,na.rm=TRUE)   \n",
    "abline(v = mean_x, col = 'red')\n",
    "#abline(v = med_x, col = 'red')\n",
    "abline(v = mean_y, col = 'black')\n",
    "#abline(v = med_y, col = 'green')\n",
    "\n",
    "x <- filter(sec, AnoCursado == \"3\" & Asignatura %in% c(\"MATEMATICA\", \"LENGUA Y LITERATURA\"))$Promedio\n",
    "y <- as.character(filter(sec, AnoCursado == \"3\" & Asignatura %in% c(\"MATEMATICA\", \"LENGUA Y LITERATURA\"))$Asignatura)\n",
    "\n",
    "boxplot(x ~ y, col = rainbow(15), las = 2, ylab=\"notas\", xlab=\"\",cex.axis = 0.8, cex.names= 0.75, main=\"SECUNDARIA TERCER AÑO\")"
   ]
  },
  {
   "cell_type": "code",
   "execution_count": null,
   "id": "d0970b1f",
   "metadata": {
    "vscode": {
     "languageId": "r"
    }
   },
   "outputs": [],
   "source": [
    "#SECUNDARIA CUARTO AÑO\n",
    "x <- as.numeric(filter(sec, Asignatura == \"MATEMATICA\" & AnoCursado == \"4\")$Promedio)\n",
    "y <- as.numeric(filter(sec, Asignatura == \"LENGUA Y LITERATURA\" & AnoCursado == \"4\")$Promedio)\n",
    "\n",
    "hist(\n",
    "    x,\n",
    "    freq = FALSE,\n",
    "    col = \"grey\",\n",
    "    border = \"#ffffff51\",\n",
    "    breaks = c(1:10),\n",
    "    ylim = c(0, 0.25),\n",
    "    main = \"SECUNDARIA CUARTO AÑO\",\n",
    "    xlab = \"nota\"\n",
    ")\n",
    "\n",
    "legend(\"topright\", legend = c(\"Matemática\", \"Media\", \"Lengua y Literatura\", \"Media\"),\n",
    "       fill =  c(\"lightgrey\", \"red\", \"steelblue1\", \"black\"),\n",
    "       cex = 0.8\n",
    ")\n",
    "\n",
    "hist(\n",
    "    y,\n",
    "    freq = FALSE,\n",
    "    col = \"#5caceea9\",\n",
    "    border = \"#ffffff51\",\n",
    "    breaks = c(1:10),\n",
    "    add = TRUE\n",
    ")\n",
    "\n",
    "mean_x <- mean(x,na.rm=TRUE)     \n",
    "#med_x <- median(x,na.rm=TRUE)   \n",
    "mean_y <- mean(y,na.rm=TRUE)     \n",
    "#med_y <- median(y,na.rm=TRUE)   \n",
    "abline(v = mean_x, col = 'red')\n",
    "#abline(v = med_x, col = 'red')\n",
    "abline(v = mean_y, col = 'black')\n",
    "#abline(v = med_y, col = 'green')\n",
    "\n",
    "x <- filter(sec, AnoCursado == \"4\" & Asignatura %in% c(\"MATEMATICA\", \"LENGUA Y LITERATURA\"))$Promedio\n",
    "y <- as.character(filter(sec, AnoCursado == \"4\" & Asignatura %in% c(\"MATEMATICA\", \"LENGUA Y LITERATURA\"))$Asignatura)\n",
    "\n",
    "boxplot(x ~ y, col = rainbow(15), las = 2, ylab=\"notas\", xlab=\"\",cex.axis = 0.8, cex.names= 0.75, main=\"SECUNDARIA CUARTO AÑO\")"
   ]
  },
  {
   "cell_type": "code",
   "execution_count": null,
   "id": "e0e11bff",
   "metadata": {
    "vscode": {
     "languageId": "r"
    }
   },
   "outputs": [],
   "source": [
    "#SECUNDARIA QUINTO AÑO\n",
    "x <- as.numeric(filter(sec, Asignatura == \"MATEMATICA\" & AnoCursado == \"5\")$Promedio)\n",
    "y <- as.numeric(filter(sec, Asignatura == \"LENGUA Y LITERATURA\" & AnoCursado == \"5\")$Promedio)\n",
    "\n",
    "hist(\n",
    "    x,\n",
    "    freq = FALSE,\n",
    "    col = \"grey\",\n",
    "    border = \"#ffffff51\",\n",
    "    breaks = c(1:10),\n",
    "    ylim = c(0, 0.30),\n",
    "    main = \"SECUNDARIA QUINTO AÑO\",\n",
    "    xlab = \"nota\"\n",
    ")\n",
    "\n",
    "legend(\"topright\", legend = c(\"Matemática\", \"Media\", \"Lengua y Literatura\", \"Media\"),\n",
    "       fill =  c(\"lightgrey\", \"red\", \"steelblue1\", \"black\"),\n",
    "       cex = 0.8\n",
    ")\n",
    "\n",
    "hist(\n",
    "    y,\n",
    "    freq = FALSE,\n",
    "    col = \"#5caceea9\",\n",
    "    border = \"#ffffff51\",\n",
    "    breaks = c(1:10),\n",
    "    add = TRUE\n",
    ")\n",
    "\n",
    "mean_x <- mean(x,na.rm=TRUE)     \n",
    "#med_x <- median(x,na.rm=TRUE)   \n",
    "mean_y <- mean(y,na.rm=TRUE)     \n",
    "#med_y <- median(y,na.rm=TRUE)   \n",
    "abline(v = mean_x, col = 'red')\n",
    "#abline(v = med_x, col = 'red')\n",
    "abline(v = mean_y, col = 'black')\n",
    "#abline(v = med_y, col = 'green')\n",
    "\n",
    "x <- filter(sec, AnoCursado == \"5\" & Asignatura %in% c(\"MATEMATICA\", \"LENGUA Y LITERATURA\"))$Promedio\n",
    "y <- as.character(filter(sec, AnoCursado == \"5\" & Asignatura %in% c(\"MATEMATICA\", \"LENGUA Y LITERATURA\"))$Asignatura)\n",
    "\n",
    "boxplot(x ~ y, col = rainbow(15), las = 2, ylab=\"notas\", xlab=\"\",cex.axis = 0.8, cex.names= 0.75, main=\"SECUNDARIA QUINTO AÑO\")"
   ]
  },
  {
   "cell_type": "code",
   "execution_count": null,
   "id": "690acd35",
   "metadata": {
    "vscode": {
     "languageId": "r"
    }
   },
   "outputs": [],
   "source": [
    "mean(as.numeric(filter(sec, Asignatura == \"MATEMATICA\" & AnoCursado == \"1\")$Promedio))\n",
    "mean(as.numeric(filter(sec, Asignatura == \"LENGUA Y LITERATURA\" & AnoCursado == \"1\")$Promedio))\n",
    "print(\"-------\")\n",
    "mean(as.numeric(filter(sec, Asignatura == \"MATEMATICA\" & AnoCursado == \"2\")$Promedio))\n",
    "mean(as.numeric(filter(sec, Asignatura == \"LENGUA Y LITERATURA\" & AnoCursado == \"2\")$Promedio))\n",
    "print(\"-------\")\n",
    "mean(as.numeric(filter(sec, Asignatura == \"MATEMATICA\" & AnoCursado == \"3\")$Promedio))\n",
    "mean(as.numeric(filter(sec, Asignatura == \"LENGUA Y LITERATURA\" & AnoCursado == \"3\")$Promedio))\n",
    "print(\"-------\")\n",
    "mean(as.numeric(filter(sec, Asignatura == \"MATEMATICA\" & AnoCursado == \"4\")$Promedio))\n",
    "mean(as.numeric(filter(sec, Asignatura == \"LENGUA Y LITERATURA\" & AnoCursado == \"4\")$Promedio))\n",
    "print(\"-------\")\n",
    "mean(as.numeric(filter(sec, Asignatura == \"MATEMATICA\" & AnoCursado == \"5\")$Promedio))\n",
    "mean(as.numeric(filter(sec, Asignatura == \"LENGUA Y LITERATURA\" & AnoCursado == \"5\")$Promedio))"
   ]
  },
  {
   "cell_type": "code",
   "execution_count": null,
   "id": "3d67abfb",
   "metadata": {
    "vscode": {
     "languageId": "r"
    }
   },
   "outputs": [],
   "source": [
    "median(as.numeric(filter(sec, Asignatura == \"MATEMATICA\" & AnoCursado == \"1\")$Promedio))\n",
    "median(as.numeric(filter(sec, Asignatura == \"LENGUA Y LITERATURA\" & AnoCursado == \"1\")$Promedio))\n",
    "print(\"-------\")\n",
    "median(as.numeric(filter(sec, Asignatura == \"MATEMATICA\" & AnoCursado == \"2\")$Promedio))\n",
    "median(as.numeric(filter(sec, Asignatura == \"LENGUA Y LITERATURA\" & AnoCursado == \"2\")$Promedio))\n",
    "print(\"-------\")\n",
    "median(as.numeric(filter(sec, Asignatura == \"MATEMATICA\" & AnoCursado == \"3\")$Promedio))\n",
    "median(as.numeric(filter(sec, Asignatura == \"LENGUA Y LITERATURA\" & AnoCursado == \"3\")$Promedio))\n",
    "print(\"-------\")\n",
    "median(as.numeric(filter(sec, Asignatura == \"MATEMATICA\" & AnoCursado == \"4\")$Promedio))\n",
    "median(as.numeric(filter(sec, Asignatura == \"LENGUA Y LITERATURA\" & AnoCursado == \"4\")$Promedio))\n",
    "print(\"-------\")\n",
    "median(as.numeric(filter(sec, Asignatura == \"MATEMATICA\" & AnoCursado == \"5\")$Promedio))\n",
    "median(as.numeric(filter(sec, Asignatura == \"LENGUA Y LITERATURA\" & AnoCursado == \"5\")$Promedio))"
   ]
  },
  {
   "cell_type": "code",
   "execution_count": null,
   "id": "e4314501",
   "metadata": {
    "vscode": {
     "languageId": "r"
    }
   },
   "outputs": [],
   "source": [
    "# al comparar las medidas de centralidad tanto la mediana como la media, lengua supera las notas de matematica. Hay un caso donde \n",
    "# esto no sucede, en cuarto año las 2 materias tienen la misma mediana y promedio similares. No existe una gran diferencia de rendimiento \n",
    "# entre las notas ya que la maxima difirencia que se puede encontrar es de 0.4 la media en segundo, la cual es representativa ya que los box plot\n",
    "# no presentan valores atipicos o extremos.\n",
    "# Otra diferencia que se puede ver en los box plot es como matematica presenta mayor dispersion, principalmente en segundo y cuarto año"
   ]
  },
  {
   "cell_type": "code",
   "execution_count": null,
   "id": "6696c59c",
   "metadata": {
    "vscode": {
     "languageId": "r"
    }
   },
   "outputs": [],
   "source": [
    "#PRIMARIA PRIMER AÑO \n",
    "x <- as.numeric(filter(pri, Asignatura == \"MATEMATICA\" & AnoCursado == \"1\")$Promedio)\n",
    "y <- as.numeric(filter(pri, Asignatura == \"LENGUA\" & AnoCursado == \"1\")$Promedio)\n",
    "\n",
    "hist(x, col=\"paleturquoise3\",border=\"royalblue\",breaks = \"Sturges\", ylim = c(0, 170),\n",
    "     density=20,angle=70, xlab=\"notas\", ylab=\"frecuencia absoluta\", main=\"PRIMARIA PRIMER AÑO\")\n",
    "hist(y, add = TRUE, col = rgb(1, 1, 0, alpha = 0.5))\n",
    "\n",
    "mean_x <- mean(x,na.rm=TRUE)     \n",
    "med_x <- median(x,na.rm=TRUE)   \n",
    "mean_y <- mean(y,na.rm=TRUE)     \n",
    "med_y <- median(y,na.rm=TRUE)   \n",
    "abline(v = mean_x, col = 'blue')\n",
    "abline(v = med_x, col = 'red')\n",
    "abline(v = mean_y, col = 'black')\n",
    "abline(v = med_y, col = 'green')\n",
    "\n",
    "x <- filter(pri, AnoCursado == \"1\" & Asignatura %in% c(\"MATEMATICA\", \"LENGUA\"))$Promedio\n",
    "y <- as.character(filter(pri, AnoCursado == \"1\" & Asignatura %in% c(\"MATEMATICA\", \"LENGUA\"))$Asignatura)\n",
    "\n",
    "boxplot(x ~ y, col = rainbow(15), las = 2, ylab=\"notas\", xlab=\"\",cex.axis = 0.8, cex.names= 0.75, main=\"PRIMARIA PRIMER AÑO\")"
   ]
  },
  {
   "cell_type": "code",
   "execution_count": null,
   "id": "3feb8372",
   "metadata": {
    "vscode": {
     "languageId": "r"
    }
   },
   "outputs": [],
   "source": [
    "#PRIMARIA SEGUNDO AÑO \n",
    "x <- as.numeric(filter(pri, Asignatura == \"MATEMATICA\" & AnoCursado == \"2\")$Promedio)\n",
    "y <- as.numeric(filter(pri, Asignatura == \"LENGUA\" & AnoCursado == \"2\")$Promedio)\n",
    "\n",
    "hist(x, col=\"paleturquoise3\",border=\"royalblue\",breaks = \"Sturges\", ylim = c(0, 170),\n",
    "     density=20,angle=70, xlab=\"notas\", ylab=\"frecuencia absoluta\", main=\"PRIMARIA SEGUNDO AÑO\")\n",
    "hist(y, add = TRUE, col = rgb(1, 1, 0, alpha = 0.5))\n",
    "\n",
    "mean_x <- mean(x,na.rm=TRUE)     \n",
    "med_x <- median(x,na.rm=TRUE)   \n",
    "mean_y <- mean(y,na.rm=TRUE)     \n",
    "med_y <- median(y,na.rm=TRUE)   \n",
    "abline(v = mean_x, col = 'blue')\n",
    "abline(v = med_x, col = 'red')\n",
    "abline(v = mean_y, col = 'black')\n",
    "abline(v = med_y, col = 'green')\n",
    "\n",
    "x <- filter(pri, AnoCursado == \"2\" & Asignatura %in% c(\"MATEMATICA\", \"LENGUA\"))$Promedio\n",
    "y <- as.character(filter(pri, AnoCursado == \"2\" & Asignatura %in% c(\"MATEMATICA\", \"LENGUA\"))$Asignatura)\n",
    "\n",
    "boxplot(x ~ y, col = rainbow(15), las = 2, ylab=\"notas\", xlab=\"\",cex.axis = 0.8, cex.names= 0.75, main=\"PRIMARIA SEGUNDO AÑO\")"
   ]
  },
  {
   "cell_type": "code",
   "execution_count": null,
   "id": "5f63f062",
   "metadata": {
    "vscode": {
     "languageId": "r"
    }
   },
   "outputs": [],
   "source": [
    "#PRIMARIA TERCERO AÑO \n",
    "x <- as.numeric(filter(pri, Asignatura == \"MATEMATICA\" & AnoCursado == \"3\")$Promedio)\n",
    "y <- as.numeric(filter(pri, Asignatura == \"LENGUA\" & AnoCursado == \"3\")$Promedio)\n",
    "\n",
    "hist(x, col=\"paleturquoise3\",border=\"royalblue\",breaks = \"Sturges\", ylim = c(0, 170),\n",
    "     density=20,angle=70, xlab=\"notas\", ylab=\"frecuencia absoluta\", main=\"PRIMARIA TERCERO AÑO \")\n",
    "hist(y, add = TRUE, col = rgb(1, 1, 0, alpha = 0.5))\n",
    "\n",
    "mean_x <- mean(x,na.rm=TRUE)     \n",
    "med_x <- median(x,na.rm=TRUE)   \n",
    "mean_y <- mean(y,na.rm=TRUE)     \n",
    "med_y <- median(y,na.rm=TRUE)   \n",
    "abline(v = mean_x, col = 'blue')\n",
    "abline(v = med_x, col = 'red')\n",
    "abline(v = mean_y, col = 'black')\n",
    "abline(v = med_y, col = 'green')\n",
    "\n",
    "x <- filter(pri, AnoCursado == \"3\" & Asignatura %in% c(\"MATEMATICA\", \"LENGUA\"))$Promedio\n",
    "y <- as.character(filter(pri, AnoCursado == \"3\" & Asignatura %in% c(\"MATEMATICA\", \"LENGUA\"))$Asignatura)\n",
    "\n",
    "boxplot(x ~ y, col = rainbow(15), las = 2, ylab=\"notas\", xlab=\"\",cex.axis = 0.8, cex.names= 0.75, main=\"PRIMARIA TERCERO AÑO \")"
   ]
  },
  {
   "cell_type": "code",
   "execution_count": null,
   "id": "61d5a16f",
   "metadata": {
    "vscode": {
     "languageId": "r"
    }
   },
   "outputs": [],
   "source": [
    "#PRIMARIA CUARTO AÑO \n",
    "x <- as.numeric(filter(pri, Asignatura == \"MATEMATICA\" & AnoCursado == \"4\")$Promedio)\n",
    "y <- as.numeric(filter(pri, Asignatura == \"LENGUA\" & AnoCursado == \"4\")$Promedio)\n",
    "\n",
    "hist(x, col=\"paleturquoise3\",border=\"royalblue\",breaks = \"Sturges\", ylim = c(0, 170),\n",
    "     density=20,angle=70, xlab=\"notas\", ylab=\"frecuencia absoluta\", main=\"PRIMARIA CUARTO AÑO \")\n",
    "hist(y, add = TRUE, col = rgb(1, 1, 0, alpha = 0.5))\n",
    "\n",
    "mean_x <- mean(x,na.rm=TRUE)     \n",
    "med_x <- median(x,na.rm=TRUE)   \n",
    "mean_y <- mean(y,na.rm=TRUE)     \n",
    "med_y <- median(y,na.rm=TRUE)   \n",
    "abline(v = mean_x, col = 'blue')\n",
    "abline(v = med_x, col = 'red')\n",
    "abline(v = mean_y, col = 'black')\n",
    "abline(v = med_y, col = 'green')\n",
    "\n",
    "x <- filter(pri, AnoCursado == \"4\" & Asignatura %in% c(\"MATEMATICA\", \"LENGUA\"))$Promedio\n",
    "y <- as.character(filter(pri, AnoCursado == \"4\" & Asignatura %in% c(\"MATEMATICA\", \"LENGUA\"))$Asignatura)\n",
    "\n",
    "boxplot(x ~ y, col = rainbow(15), las = 2, ylab=\"notas\", xlab=\"\",cex.axis = 0.8, cex.names= 0.75, main=\"PRIMARIA CUARTO AÑO \")"
   ]
  },
  {
   "cell_type": "code",
   "execution_count": null,
   "id": "da35e185",
   "metadata": {
    "vscode": {
     "languageId": "r"
    }
   },
   "outputs": [],
   "source": [
    "#PRIMARIA QUINTO AÑO \n",
    "x <- as.numeric(filter(pri, Asignatura == \"MATEMATICA\" & AnoCursado == \"5\")$Promedio)\n",
    "y <- as.numeric(filter(pri, Asignatura == \"LENGUA\" & AnoCursado == \"5\")$Promedio)\n",
    "\n",
    "hist(x, col=\"paleturquoise3\",border=\"royalblue\",breaks = \"Sturges\", ylim = c(0, 170),\n",
    "     density=20,angle=70, xlab=\"notas\", ylab=\"frecuencia absoluta\", main=\"PRIMARIA QUINTO AÑO\")\n",
    "hist(y, add = TRUE, col = rgb(1, 1, 0, alpha = 0.5))\n",
    "\n",
    "mean_x <- mean(x,na.rm=TRUE)     \n",
    "med_x <- median(x,na.rm=TRUE)   \n",
    "mean_y <- mean(y,na.rm=TRUE)     \n",
    "med_y <- median(y,na.rm=TRUE)   \n",
    "abline(v = mean_x, col = 'blue')\n",
    "abline(v = med_x, col = 'red')\n",
    "abline(v = mean_y, col = 'black')\n",
    "abline(v = med_y, col = 'green')\n",
    "\n",
    "x <- filter(pri, AnoCursado == \"5\" & Asignatura %in% c(\"MATEMATICA\", \"LENGUA\"))$Promedio\n",
    "y <- as.character(filter(pri, AnoCursado == \"5\" & Asignatura %in% c(\"MATEMATICA\", \"LENGUA\"))$Asignatura)\n",
    "\n",
    "boxplot(x ~ y, col = rainbow(15), las = 2, ylab=\"notas\", xlab=\"\",cex.axis = 0.8, cex.names= 0.75, main=\"PRIMARIA QUINTO AÑO\")"
   ]
  },
  {
   "cell_type": "code",
   "execution_count": null,
   "id": "b8224b81",
   "metadata": {
    "vscode": {
     "languageId": "r"
    }
   },
   "outputs": [],
   "source": [
    "#PRIMARIA SEXTO AÑO \n",
    "x <- as.numeric(filter(pri, Asignatura == \"MATEMATICA\" & AnoCursado == \"6\")$Promedio)\n",
    "y <- as.numeric(filter(pri, Asignatura == \"LENGUA\" & AnoCursado == \"6\")$Promedio)\n",
    "\n",
    "hist(x, col=\"paleturquoise3\",border=\"royalblue\",breaks = \"Sturges\", ylim = c(0, 170),\n",
    "     density=20,angle=70, xlab=\"notas\", ylab=\"frecuencia absoluta\", main=\"PRIMARIA SEXTO AÑO\")\n",
    "hist(y, add = TRUE, col = rgb(1, 1, 0, alpha = 0.5))\n",
    "\n",
    "mean_x <- mean(x,na.rm=TRUE)     \n",
    "med_x <- median(x,na.rm=TRUE)   \n",
    "mean_y <- mean(y,na.rm=TRUE)     \n",
    "med_y <- median(y,na.rm=TRUE)   \n",
    "abline(v = mean_x, col = 'blue')\n",
    "abline(v = med_x, col = 'red')\n",
    "abline(v = mean_y, col = 'black')\n",
    "abline(v = med_y, col = 'green')\n",
    "\n",
    "x <- filter(pri, AnoCursado == \"6\" & Asignatura %in% c(\"MATEMATICA\", \"LENGUA\"))$Promedio\n",
    "y <- as.character(filter(pri, AnoCursado == \"6\" & Asignatura %in% c(\"MATEMATICA\", \"LENGUA\"))$Asignatura)\n",
    "\n",
    "boxplot(x ~ y, col = rainbow(15), las = 2, ylab=\"notas\", xlab=\"\",cex.axis = 0.8, cex.names= 0.75, main=\"PRIMARIA SEXTO AÑO\")\n",
    "# Calculamos la densidad\n",
    "dx <- density(x)\n",
    "\n",
    "# Añadimos la línea de densidad\n",
    "lines(dx, col = \"black\")\n",
    "\n",
    "legend(\"topright\", legend = c(\"media\", \"mediana\"),\n",
    "       fill =  c(\"blue\", \"red\"))\n",
    "\n",
    "cv <-sqrt(var(x))/mean(x)\n",
    "cv\n",
    "\n",
    "#----------------\n"
   ]
  },
  {
   "cell_type": "code",
   "execution_count": null,
   "id": "b3ca3bb3",
   "metadata": {
    "vscode": {
     "languageId": "r"
    }
   },
   "outputs": [],
   "source": [
    "mean(as.numeric(filter(pri, Asignatura == \"MATEMATICA\" & AnoCursado == \"1\")$Promedio))\n",
    "mean(as.numeric(filter(pri, Asignatura == \"LENGUA\" & AnoCursado == \"1\")$Promedio))\n",
    "print(\"2-------\")\n",
    "mean(as.numeric(filter(pri, Asignatura == \"MATEMATICA\" & AnoCursado == \"2\")$Promedio))\n",
    "mean(as.numeric(filter(pri, Asignatura == \"LENGUA\" & AnoCursado == \"2\")$Promedio))\n",
    "print(\"3-------\")\n",
    "mean(as.numeric(filter(pri, Asignatura == \"MATEMATICA\" & AnoCursado == \"3\")$Promedio))\n",
    "mean(as.numeric(filter(pri, Asignatura == \"LENGUA\" & AnoCursado == \"3\")$Promedio))\n",
    "print(\"4-------\")\n",
    "mean(as.numeric(filter(pri, Asignatura == \"MATEMATICA\" & AnoCursado == \"4\")$Promedio))\n",
    "mean(as.numeric(filter(pri, Asignatura == \"LENGUA\" & AnoCursado == \"4\")$Promedio))\n",
    "print(\"5-------\")\n",
    "mean(as.numeric(filter(pri, Asignatura == \"MATEMATICA\" & AnoCursado == \"5\")$Promedio))\n",
    "mean(as.numeric(filter(pri, Asignatura == \"LENGUA\" & AnoCursado == \"5\")$Promedio))\n",
    "print(\"6-------\")\n",
    "mean(as.numeric(filter(pri, Asignatura == \"MATEMATICA\" & AnoCursado == \"6\")$Promedio))\n",
    "mean(as.numeric(filter(pri, Asignatura == \"LENGUA\" & AnoCursado == \"6\")$Promedio))"
   ]
  },
  {
   "cell_type": "code",
   "execution_count": null,
   "id": "108ba481",
   "metadata": {
    "vscode": {
     "languageId": "r"
    }
   },
   "outputs": [],
   "source": [
    "median(as.numeric(filter(pri, Asignatura == \"MATEMATICA\" & AnoCursado == \"1\")$Promedio))\n",
    "median(as.numeric(filter(pri, Asignatura == \"LENGUA\" & AnoCursado == \"1\")$Promedio))\n",
    "print(\"2-------\")\n",
    "median(as.numeric(filter(pri, Asignatura == \"MATEMATICA\" & AnoCursado == \"2\")$Promedio))\n",
    "median(as.numeric(filter(pri, Asignatura == \"LENGUA\" & AnoCursado == \"2\")$Promedio))\n",
    "print(\"3-------\")\n",
    "median(as.numeric(filter(pri, Asignatura == \"MATEMATICA\" & AnoCursado == \"3\")$Promedio))\n",
    "median(as.numeric(filter(pri, Asignatura == \"LENGUA\" & AnoCursado == \"3\")$Promedio))\n",
    "print(\"4-------\")\n",
    "median(as.numeric(filter(pri, Asignatura == \"MATEMATICA\" & AnoCursado == \"4\")$Promedio))\n",
    "median(as.numeric(filter(pri, Asignatura == \"LENGUA\" & AnoCursado == \"4\")$Promedio))\n",
    "print(\"5-------\")\n",
    "median(as.numeric(filter(pri, Asignatura == \"MATEMATICA\" & AnoCursado == \"5\")$Promedio))\n",
    "median(as.numeric(filter(pri, Asignatura == \"LENGUA\" & AnoCursado == \"5\")$Promedio))\n",
    "print(\"6-------\")\n",
    "median(as.numeric(filter(pri, Asignatura == \"MATEMATICA\" & AnoCursado == \"6\")$Promedio))\n",
    "median(as.numeric(filter(pri, Asignatura == \"LENGUA\" & AnoCursado == \"6\")$Promedio))"
   ]
  },
  {
   "cell_type": "code",
   "execution_count": null,
   "id": "a07cabf7",
   "metadata": {
    "vscode": {
     "languageId": "r"
    }
   },
   "outputs": [],
   "source": [
    "# al comparar las medianas no se encuentran diferencias de rendimiento en las notas, en casi todos los años tienen la misma\n",
    "# mediana. en cambio al ver la media si se puede encontrar una leve diferencia en las notas, ya que matematica supera a lengua \n",
    "# en los distintos años por muy poco con un 0.1. De igual manera no es suficiente para decir que en matematica existe un mejor\n",
    "# rendimiento, en conclucion tuvieron el mismo desempeño.\n",
    "# las dos materias tienen una dispersion normal en los distintos años. Solo en sexto y segundo año se da que lengua tiene mayor dispersion que matematica"
   ]
  },
  {
   "cell_type": "code",
   "execution_count": null,
   "id": "00d39d82",
   "metadata": {
    "vscode": {
     "languageId": "r"
    }
   },
   "outputs": [],
   "source": [
    "# EJ 5\n",
    "\n",
    "x <- filter(sec, Asignatura == \"MATEMATICA\" & AnoCursado == \"1\" & Turno %in% c(\"TARDE\", \"MAÑANA\"))$Promedio\n",
    "y <- as.character(filter(sec, Asignatura == \"MATEMATICA\" & AnoCursado == \"1\" & Turno %in% c(\"TARDE\", \"MAÑANA\"))$Turno)\n",
    "\n",
    "\n",
    "boxplot(x ~ y, col = c(\"steelblue1\", \"red\"), las = 2, ylab=\"notas\", xlab=\"\",cex.axis = 0.8, cex.names= 0.75, main=\"matematica 1ro\")\n",
    "\n",
    "# Los datos respecto al turno manana presentan una distribucion con tendencia normal y se logra visualizar un valor atipico entorno a 1.\n",
    "# por otra parte los datos del turno tarde nos presentan una distribucion sesgada hacia la derecha.\n",
    "# el desempenio de los estudiantes es similar pero ligeramente superior en el turno manana"
   ]
  },
  {
   "cell_type": "code",
   "execution_count": null,
   "id": "69b86e1c",
   "metadata": {
    "vscode": {
     "languageId": "r"
    }
   },
   "outputs": [],
   "source": [
    "x <- filter(sec, Asignatura == \"MATEMATICA\" & AnoCursado == \"2\" & Turno %in% c(\"TARDE\", \"MAÑANA\"))$Promedio\n",
    "y <- as.character(filter(sec, Asignatura == \"MATEMATICA\" & AnoCursado == \"2\" & Turno %in% c(\"TARDE\", \"MAÑANA\"))$Turno)\n",
    "\n",
    "\n",
    "boxplot(x ~ y, col = c(\"steelblue1\", \"red\"), las = 2, ylab=\"notas\", xlab=\"\",cex.axis = 0.8, cex.names= 0.75, main=\"matematicas 2do\")\n",
    "#mejor desempenio turno manana"
   ]
  },
  {
   "cell_type": "code",
   "execution_count": null,
   "id": "6326d702",
   "metadata": {
    "vscode": {
     "languageId": "r"
    }
   },
   "outputs": [],
   "source": [
    "x <- filter(sec, Asignatura == \"MATEMATICA\" & AnoCursado == \"3\" & Turno %in% c(\"TARDE\", \"MAÑANA\"))$Promedio\n",
    "y <- as.character(filter(sec, Asignatura == \"MATEMATICA\" & AnoCursado == \"3\" & Turno %in% c(\"TARDE\", \"MAÑANA\"))$Turno)\n",
    "\n",
    "\n",
    "boxplot(x ~ y, col = c(\"steelblue1\", \"red\"), las = 2, ylab=\"notas\", xlab=\"\",cex.axis = 0.8, cex.names= 0.75, main=\"matematicas 3ro\")\n",
    "\n",
    "# Para este conjunto de datos podemos observar una similitud entre ambos turnos pero ligeramente superior para los correspondientes al turno tarde."
   ]
  },
  {
   "cell_type": "code",
   "execution_count": null,
   "id": "1a2df146",
   "metadata": {
    "vscode": {
     "languageId": "r"
    }
   },
   "outputs": [],
   "source": [
    "x <- filter(sec, Asignatura == \"MATEMATICA\" & AnoCursado == \"4\" & Turno %in% c(\"TARDE\", \"MAÑANA\"))$Promedio\n",
    "y <- as.character(filter(sec, Asignatura == \"MATEMATICA\" & AnoCursado == \"4\" & Turno %in% c(\"TARDE\", \"MAÑANA\"))$Turno)\n",
    "\n",
    "\n",
    "boxplot(x ~ y, col = c(\"steelblue1\", \"red\"), las = 2, ylab=\"notas\", xlab=\"\",cex.axis = 0.8, cex.names= 0.75, main=\"matematicas 4to\")\n",
    "\n",
    "#mejor desempenio turno manana"
   ]
  },
  {
   "cell_type": "code",
   "execution_count": null,
   "id": "b3a02f20",
   "metadata": {
    "vscode": {
     "languageId": "r"
    }
   },
   "outputs": [],
   "source": [
    "x <- filter(sec, Asignatura == \"MATEMATICA\" & AnoCursado == \"5\" & Turno %in% c(\"TARDE\", \"MAÑANA\"))$Promedio\n",
    "y <- as.character(filter(sec, Asignatura == \"MATEMATICA\" & AnoCursado == \"5\" & Turno %in% c(\"TARDE\", \"MAÑANA\"))$Turno)\n",
    "\n",
    "\n",
    "boxplot(x ~ y, col = c(\"steelblue1\", \"red\"), las = 2, ylab=\"notas\", xlab=\"\",cex.axis = 0.8, cex.names= 0.75, main=\"matematicas 5to\")\n",
    "\n",
    "# En los datos correspondientes al turno manana se observa mejor desempenio, ademas\n",
    "# un menor rango de notas, y una menor dispersion con respecto al turno tarde\n",
    "# A su vez presenta tres valores atipicos cercanos a 2."
   ]
  },
  {
   "cell_type": "code",
   "execution_count": null,
   "id": "11e47ee0",
   "metadata": {
    "vscode": {
     "languageId": "r"
    }
   },
   "outputs": [],
   "source": [
    "x <- filter(sec, Asignatura == \"MATEMATICA\" & AnoCursado == \"6\" & Turno %in% c(\"TARDE\", \"MAÑANA\"))$Promedio\n",
    "y <- as.character(filter(sec, Asignatura == \"MATEMATICA\" & AnoCursado == \"6\" & Turno %in% c(\"TARDE\", \"MAÑANA\"))$Turno)\n",
    "\n",
    "\n",
    "boxplot(x ~ y, col = c(\"steelblue1\", \"red\"), las = 2, ylab=\"notas\", xlab=\"\",cex.axis = 0.8, cex.names= 0.75, main=\"matematicas 6to\")\n",
    "# mejor desempenio para el turno tarde"
   ]
  },
  {
   "cell_type": "code",
   "execution_count": null,
   "id": "7368f339",
   "metadata": {
    "vscode": {
     "languageId": "r"
    }
   },
   "outputs": [],
   "source": [
    "library(nortest)\n",
    "#library(MASS)\n",
    "library(ppcor)\n"
   ]
  },
  {
   "cell_type": "code",
   "execution_count": null,
   "id": "8a50711c",
   "metadata": {
    "vscode": {
     "languageId": "r"
    }
   },
   "outputs": [],
   "source": [
    "# EJ 6\n",
    "\n",
    "x <- dplyr::select(filter(sec, Asignatura==\"MATEMATICA\"& AnoCursado== \"1\"),\"Documento\",\"Promedio\")\n",
    "y <- dplyr::select(filter(sec, Asignatura==\"LENGUA Y LITERATURA\" & AnoCursado== \"1\"),\"Documento\",\"Promedio\")\n",
    "\n",
    "df <- x %>% inner_join(y, by = \"Documento\")\n",
    "df <- rename(df,Prom_Mat=Promedio.x, Prom_Leng=Promedio.y)\n",
    "\n",
    "plot(df$Prom_Mat, df$Prom_Leng, ylim = c(0, 10), xlim = c(0, 10), main = \"primer año secundaria\", xlab = \"Matemática\",\n",
    "     ylab = \"LENGUA Y LITERATURA\", col=\"blue\", pch = 16)\n",
    "\n",
    "lillie.test(df$Prom_Mat)\n",
    "lillie.test(df$Prom_Leng)\n",
    "#me da un valor muy chico\n",
    "#no tienen distribucion normal \n",
    "\n",
    "cor.test(df$Prom_Mat, df$Prom_Leng, method=\"spearman\")"
   ]
  },
  {
   "cell_type": "code",
   "execution_count": null,
   "id": "b5a45998",
   "metadata": {
    "vscode": {
     "languageId": "r"
    }
   },
   "outputs": [],
   "source": [
    "x <- dplyr::select(filter(sec, Asignatura==\"MATEMATICA\"& AnoCursado== \"2\"),\"Documento\",\"Promedio\")\n",
    "y <- dplyr::select(filter(sec, Asignatura==\"LENGUA Y LITERATURA\" & AnoCursado== \"2\"),\"Documento\",\"Promedio\")\n",
    "\n",
    "df <- x %>% inner_join(y, by = \"Documento\")\n",
    "df <- rename(df,Prom_Mat=Promedio.x, Prom_Leng=Promedio.y)\n",
    "\n",
    "plot(df$Prom_Mat, df$Prom_Leng, ylim = c(0, 10), xlim = c(0, 10), main = \"segundo año secundaria\", xlab = \"Matemática\",\n",
    "     ylab = \"LENGUA Y LITERATURA\", col=\"blue\", pch = 16)\n",
    "\n",
    "lillie.test(df$Prom_Mat)\n",
    "lillie.test(df$Prom_Leng)\n",
    "#me da un valor muy chico\n",
    "#no tienen distribucion normal \n",
    "\n",
    "cor.test(df$Prom_Mat, df$Prom_Leng, method=\"spearman\")\n"
   ]
  },
  {
   "cell_type": "code",
   "execution_count": null,
   "id": "f7c32db2",
   "metadata": {
    "vscode": {
     "languageId": "r"
    }
   },
   "outputs": [],
   "source": [
    "x <- dplyr::select(filter(sec, Asignatura==\"MATEMATICA\"& AnoCursado== \"3\"),\"Documento\",\"Promedio\")\n",
    "y <- dplyr::select(filter(sec, Asignatura==\"LENGUA Y LITERATURA\" & AnoCursado== \"3\"),\"Documento\",\"Promedio\")\n",
    "\n",
    "df <- x %>% inner_join(y, by = \"Documento\")\n",
    "df <- rename(df,Prom_Mat=Promedio.x, Prom_Leng=Promedio.y)\n",
    "\n",
    "plot(df$Prom_Mat, df$Prom_Leng, ylim = c(0, 10), xlim = c(0, 10), main = \"tercer año secundaria\", xlab = \"Matemática\",\n",
    "     ylab = \"LENGUA Y LITERATURA\", col=\"blue\", pch = 16)\n",
    "\n",
    "lillie.test(df$Prom_Mat)\n",
    "lillie.test(df$Prom_Leng)\n",
    "#me da un valor muy chico\n",
    "#no tienen distribucion normal \n",
    "\n",
    "cor.test(df$Prom_Mat, df$Prom_Leng, method=\"spearman\")\n"
   ]
  },
  {
   "cell_type": "code",
   "execution_count": null,
   "id": "8f2330d0",
   "metadata": {
    "vscode": {
     "languageId": "r"
    }
   },
   "outputs": [],
   "source": [
    "x <- dplyr::select(filter(sec, Asignatura==\"MATEMATICA\"& AnoCursado== \"4\"),\"Documento\",\"Promedio\")\n",
    "y <- dplyr::select(filter(sec, Asignatura==\"LENGUA Y LITERATURA\" & AnoCursado== \"4\"),\"Documento\",\"Promedio\")\n",
    "\n",
    "df <- x %>% inner_join(y, by = \"Documento\")\n",
    "df <- rename(df,Prom_Mat=Promedio.x, Prom_Leng=Promedio.y)\n",
    "\n",
    "plot(df$Prom_Mat, df$Prom_Leng, ylim = c(0, 10), xlim = c(0, 10), main = \"cuarto año secundaria\", xlab = \"Matemática\",\n",
    "     ylab = \"LENGUA Y LITERATURA\", col=\"blue\", pch = 16)\n",
    "\n",
    "lillie.test(df$Prom_Mat)\n",
    "lillie.test(df$Prom_Leng)\n",
    "#me da un valor muy chico\n",
    "#no tienen distribucion normal \n",
    "\n",
    "cor.test(df$Prom_Mat, df$Prom_Leng, method=\"spearman\")"
   ]
  },
  {
   "cell_type": "code",
   "execution_count": null,
   "id": "dd34b171",
   "metadata": {
    "vscode": {
     "languageId": "r"
    }
   },
   "outputs": [],
   "source": [
    "#SECUNDARIA\n",
    "# 6) Realice un diagrama de dispersión para detectar outlier entre las notas obtenidas por los estudiantes en Lengua\n",
    "# y Matemática de los diferentes años.\n",
    "# 7) A partir de los diagramas realizados en el punto anterior, puede detectarse en algún año una relación lineal, de\n",
    "# ser así calcule coeficientes apropiados que permitan aportar información e indique si la asociación encontrada\n",
    "# es débil, moderada, o fuerte.\n",
    "# 6) se encontro 1 outlier en el primer año de secundaria, con una nota muy baja comparada con el resto.  \n",
    "\n",
    "#7) se usa lillie.test para ver la distribucion de los datos. los datos no tienen una distribucion normal entonces se utiliza \n",
    "# spearman para encontrar una relacion lineal.\n",
    "# los años que tuvieron una correlacion buena fueron: primer año 0.7696085, segundo año 0.6664015 y  tercero 0.6594309, por \n",
    "# otro lado cuarto año tiene una correlacion moderada 0.5775122, mientras mas avanzado sea el año menor es la relacion lineal. como rho es cercano a 1, podemos interpretarlo como una correlación positiva\n",
    "# fuerte entre matematica y lengua. El valor del p-valor en todos los años fue por debajo de 0,05. Esto indica que hay una fuerte evidencia en contra \n",
    "# de la hipótesis nula de que no hay correlación entre matematica y lengua. \n"
   ]
  },
  {
   "cell_type": "code",
   "execution_count": null,
   "id": "853669cb",
   "metadata": {
    "vscode": {
     "languageId": "r"
    }
   },
   "outputs": [],
   "source": [
    "x <- dplyr::select(filter(pri, Asignatura==\"MATEMATICA\"& AnoCursado== \"1\"),\"Documento\",\"Promedio\")\n",
    "y <- dplyr::select(filter(pri, Asignatura==\"LENGUA\" & AnoCursado== \"1\"),\"Documento\",\"Promedio\")\n",
    "\n",
    "df <- x %>% inner_join(y, by = \"Documento\")\n",
    "df <- rename(df,Prom_Mat=Promedio.x, Prom_Leng=Promedio.y)\n",
    "\n",
    "plot(df$Prom_Mat, df$Prom_Leng, ylim = c(0, 10), xlim = c(0, 10), main = \"primer año primaria\", xlab = \"Matemática\",\n",
    "     ylab = \"LENGUA\", col=\"red\", pch = 16)\n",
    "#me fijo si tienen distribucion normal\n",
    "#no uso shappiro ya que son muchos datos\n",
    "lillie.test(df$Prom_Mat)\n",
    "lillie.test(df$Prom_Leng)\n",
    "#me da un valor muy chico\n",
    "#no tienen distribucion normal, entonces utilizo una medida no parametrica (spearman)\n",
    "\n",
    "cor.test(df$Prom_Mat, df$Prom_Leng, method=\"spearman\")\n"
   ]
  },
  {
   "cell_type": "code",
   "execution_count": null,
   "id": "ac728120",
   "metadata": {
    "vscode": {
     "languageId": "r"
    }
   },
   "outputs": [],
   "source": [
    "x <- dplyr::select(filter(pri, Asignatura==\"MATEMATICA\"& AnoCursado== \"2\"),\"Documento\",\"Promedio\")\n",
    "y <- dplyr::select(filter(pri, Asignatura==\"LENGUA\" & AnoCursado== \"2\"),\"Documento\",\"Promedio\")\n",
    "\n",
    "df <- x %>% inner_join(y, by = \"Documento\")\n",
    "df <- rename(df,Prom_Mat=Promedio.x, Prom_Leng=Promedio.y)\n",
    "\n",
    "plot(df$Prom_Mat, df$Prom_Leng, ylim = c(0, 10), xlim = c(0, 10), main = \"Segundo año primaria\", xlab = \"Matemática\",\n",
    "     ylab = \"LENGUA\", col=\"red\", pch = 16)\n",
    "#me fijo si tienen distribucion normal\n",
    "#no uso shappiro ya que son muchos datos\n",
    "lillie.test(df$Prom_Mat)\n",
    "lillie.test(df$Prom_Leng)\n",
    "#me da un valor muy chico\n",
    "#no tienen distribucion normal, entonces utilizo una medida no parametrica (spearman)\n",
    "\n",
    "cor.test(df$Prom_Mat, df$Prom_Leng, method=\"spearman\")"
   ]
  },
  {
   "cell_type": "code",
   "execution_count": null,
   "id": "dcab28f2",
   "metadata": {
    "vscode": {
     "languageId": "r"
    }
   },
   "outputs": [],
   "source": [
    "x <- dplyr::select(filter(pri, Asignatura==\"MATEMATICA\"& AnoCursado== \"3\"),\"Documento\",\"Promedio\")\n",
    "y <- dplyr::select(filter(pri, Asignatura==\"LENGUA\" & AnoCursado== \"3\"),\"Documento\",\"Promedio\")\n",
    "\n",
    "df <- x %>% inner_join(y, by = \"Documento\")\n",
    "df <- rename(df,Prom_Mat=Promedio.x, Prom_Leng=Promedio.y)\n",
    "\n",
    "plot(df$Prom_Mat, df$Prom_Leng, ylim = c(0, 10), xlim = c(0, 10), main = \"Tercer año primaria\", xlab = \"Matemática\",\n",
    "     ylab = \"LENGUA\", col=\"red\", pch = 16)\n",
    "#me fijo si tienen distribucion normal\n",
    "#no uso shappiro ya que son muchos datos\n",
    "lillie.test(df$Prom_Mat)\n",
    "lillie.test(df$Prom_Leng)\n",
    "#me da un valor muy chico\n",
    "#no tienen distribucion normal, entonces utilizo una medida no parametrica (spearman)\n",
    "\n",
    "cor.test(df$Prom_Mat, df$Prom_Leng, method=\"spearman\")"
   ]
  },
  {
   "cell_type": "code",
   "execution_count": null,
   "id": "3ec17835",
   "metadata": {
    "vscode": {
     "languageId": "r"
    }
   },
   "outputs": [],
   "source": [
    "x <- dplyr::select(filter(pri, Asignatura==\"MATEMATICA\"& AnoCursado== \"4\"),\"Documento\",\"Promedio\")\n",
    "y <- dplyr::select(filter(pri, Asignatura==\"LENGUA\" & AnoCursado== \"4\"),\"Documento\",\"Promedio\")\n",
    "\n",
    "df <- x %>% inner_join(y, by = \"Documento\")\n",
    "df <- rename(df,Prom_Mat=Promedio.x, Prom_Leng=Promedio.y)\n",
    "\n",
    "plot(df$Prom_Mat, df$Prom_Leng, ylim = c(0, 10), xlim = c(0, 10), main = \"cuarto año primaria\", xlab = \"Matemática\",\n",
    "     ylab = \"LENGUA\", col=\"red\", pch = 16)\n",
    "#me fijo si tienen distribucion normal\n",
    "#no uso shappiro ya que son muchos datos\n",
    "lillie.test(df$Prom_Mat)\n",
    "lillie.test(df$Prom_Leng)\n",
    "#me da un valor muy chico\n",
    "#no tienen distribucion normal, entonces utilizo una medida no parametrica (spearman)\n",
    "\n",
    "cor.test(df$Prom_Mat, df$Prom_Leng, method=\"spearman\")"
   ]
  },
  {
   "cell_type": "code",
   "execution_count": null,
   "id": "022e2371",
   "metadata": {
    "vscode": {
     "languageId": "r"
    }
   },
   "outputs": [],
   "source": [
    "x <- dplyr::select(filter(pri, Asignatura==\"MATEMATICA\"& AnoCursado== \"5\"),\"Documento\",\"Promedio\")\n",
    "y <- dplyr::select(filter(pri, Asignatura==\"LENGUA\" & AnoCursado== \"5\"),\"Documento\",\"Promedio\")\n",
    "\n",
    "df <- x %>% inner_join(y, by = \"Documento\")\n",
    "df <- rename(df,Prom_Mat=Promedio.x, Prom_Leng=Promedio.y)\n",
    "\n",
    "plot(df$Prom_Mat, df$Prom_Leng, ylim = c(0, 10), xlim = c(0, 10), main = \"quinto año primaria\", xlab = \"Matemática\",\n",
    "     ylab = \"LENGUA\", col=\"red\", pch = 16)\n",
    "#me fijo si tienen distribucion normal\n",
    "#no uso shappiro ya que son muchos datos\n",
    "lillie.test(df$Prom_Mat)\n",
    "lillie.test(df$Prom_Leng)\n",
    "#me da un valor muy chico\n",
    "#no tienen distribucion normal, entonces utilizo una medida no parametrica (spearman)\n",
    "\n",
    "cor.test(df$Prom_Mat, df$Prom_Leng, method=\"spearman\")"
   ]
  },
  {
   "cell_type": "code",
   "execution_count": null,
   "id": "eacbeaf4",
   "metadata": {
    "vscode": {
     "languageId": "r"
    }
   },
   "outputs": [],
   "source": [
    "x <- dplyr::select(filter(pri, Asignatura==\"MATEMATICA\"& AnoCursado== \"6\"),\"Documento\",\"Promedio\")\n",
    "y <- dplyr::select(filter(pri, Asignatura==\"LENGUA\" & AnoCursado== \"6\"),\"Documento\",\"Promedio\")\n",
    "\n",
    "df <- x %>% inner_join(y, by = \"Documento\")\n",
    "df <- rename(df,Prom_Mat=Promedio.x, Prom_Leng=Promedio.y)\n",
    "\n",
    "plot(df$Prom_Mat, df$Prom_Leng, ylim = c(0, 10), xlim = c(0, 10), main = \"sexto año primaria\", xlab = \"Matemática\",\n",
    "     ylab = \"LENGUA\", col=\"red\", pch = 16)\n",
    "#me fijo si tienen distribucion normal\n",
    "#no uso shappiro ya que son muchos datos\n",
    "lillie.test(df$Prom_Mat)\n",
    "lillie.test(df$Prom_Leng)\n",
    "#me da un valor muy chico\n",
    "#no tienen distribucion normal, entonces utilizo una medida no parametrica (spearman)\n",
    "\n",
    "cor.test(df$Prom_Mat, df$Prom_Leng, method=\"spearman\")"
   ]
  },
  {
   "cell_type": "code",
   "execution_count": null,
   "id": "0f059abd",
   "metadata": {
    "vscode": {
     "languageId": "r"
    }
   },
   "outputs": [],
   "source": [
    "#PRIMARIA\n",
    "# 6) Realice un diagrama de dispersión para detectar outlier entre las notas obtenidas por los estudiantes en Lengua\n",
    "# y Matemática de los diferentes años.\n",
    "# 7) A partir de los diagramas realizados en el punto anterior, puede detectarse en algún año una relación lineal, de\n",
    "# ser así calcule coeficientes apropiados que permitan aportar información e indique si la asociación encontrada\n",
    "# es débil, moderada, o fuerte.\n",
    "\n",
    "# 6) no se encontraron outlier.  \n",
    "#7) se usa lillie.test para ver la distribucion de los datos. los datos no tienen una distribucion normal entonces se utiliza \n",
    "# spearman para encontrar una relacion lineal.\n",
    "# todos los años tuvieron una correlacion buena ,primero: 0.9497736, segundo: 0.92351, tercero: 0.8929307, cuarto: 0.9145661, quinto: 0.9338398,\n",
    "# sexto: 0.8872828\n",
    "# como rho es cercano a 1, podemos interpretarlo como una correlación positiva\n",
    "# fuerte entre matematica y lengua. El valor del p-valor en todos los años fue por debajo de 0,05. Esto indica que hay una fuerte evidencia en contra \n",
    "# de la hipótesis nula de que no hay correlación entre matematica y lengua. "
   ]
  },
  {
   "cell_type": "code",
   "execution_count": null,
   "id": "03d9b53d",
   "metadata": {
    "vscode": {
     "languageId": "r"
    }
   },
   "outputs": [],
   "source": [
    "#8\n",
    "\n",
    "x <- dplyr::select(filter(sec, Asignatura==\"MATEMATICA\"),\"Documento\",\"Promedio\")\n",
    "y <- dplyr::select(filter(sec, Asignatura==\"EDUCACION FISICA\"),\"Documento\",\"Promedio\")\n",
    "\n",
    "dim(x)\n",
    "dim(y)\n",
    "\n",
    "df <- x %>% inner_join(y, by = \"Documento\")\n",
    "df <- rename(df,Prom_Mat=Promedio.x, Prom_Edf=Promedio.y)\n",
    "\n",
    "hist(df$Prom_Mat, xlab = \"notas\", main = \"matematica\", ylim = c(0, 700), col = \"steelblue2\", border = \"white\")\n",
    "hist(df$Prom_Edf, xlab = \"notas\", main = \"ed. fisica\", col = \"steelblue2\", border = \"white\")\n",
    "\n",
    "lillie.test(df$Prom_Mat)\n",
    "lillie.test(df$Prom_Edf)\n",
    "\n",
    "head(df)\n",
    "plot(df$Prom_Mat, df$Prom_Edf, ylim = c(0, 10), xlim = c(0, 10), main = \"Notas\", xlab = \"Matemática\",\n",
    "     ylab = \"Educación Física\", col=\"green3\", pch = 16)\n",
    "cor.test(df$Prom_Mat, df$Prom_Edf, method = \"spearman\")\n",
    "\n",
    "# Logramos observar que existe una correlacion positiva entre ambas asignaturas, sin embargo es muy debil.\n",
    "# Se procede a un segundo analisis.\n"
   ]
  },
  {
   "cell_type": "code",
   "execution_count": null,
   "id": "e5380239",
   "metadata": {
    "vscode": {
     "languageId": "r"
    }
   },
   "outputs": [],
   "source": [
    "x <- dplyr::select(filter(sec, Asignatura==\"MATEMATICA\" & AnoCursado== \"1\" & Turno == \"MAÑANA\" & EsPrivada == \"N\" & ModEnsenanza == \"Comun\"),\"Documento\",\"Promedio\")\n",
    "y <- dplyr::select(filter(sec, Asignatura==\"EDUCACION FISICA\" & AnoCursado== \"1\" & Turno == \"MAÑANA\" & EsPrivada == \"N\" & ModEnsenanza == \"Comun\"),\"Documento\",\"Promedio\")\n",
    "\n",
    "dim(x)\n",
    "dim(y)\n",
    "\n",
    "df <- x %>% inner_join(y, by = \"Documento\")\n",
    "df<-rename(df,Prom_Mat=Promedio.x, Prom_Edf=Promedio.y)\n",
    "\n",
    "hist(df$Prom_Mat, xlab = \"notas\", main = \"matematica\", col = \"steelblue2\", border = \"white\")\n",
    "hist(df$Prom_Edf, xlab = \"notas\", main = \"ed. fisica\", col = \"steelblue2\", border = \"white\")\n",
    "\n",
    "lillie.test(df$Prom_Mat)\n",
    "lillie.test(df$Prom_Edf)\n",
    "\n",
    "head(df)\n",
    "plot(df$Prom_Mat, df$Prom_Edf, ylim = c(0, 10), xlim = c(0, 10), main = \"Promedios 1er año escuelas públicas - turno mañana - comun\",\n",
    "     xlab = \"Matemática\", ylab = \"Educación Física\", col=\"green3\", pch = 16)\n",
    "cor.test(df$Prom_Mat, df$Prom_Edf, method = \"spearman\")\n",
    "\n",
    "# Para este segundo analisis, se aplicaron otros filtros sobre los datos (turno mañana, modalidad común, escuela pública), \n",
    "# a fin de eliminar variables que podrian estar interfiriendo en los resultados esperados.\n",
    "# En la segunda muestra, con un tamaño inferior, se observa que la correlacion ha aumentado de 0.334 a 0.427\n",
    "# por lo cual no podemos afirmar la hipotesis de que a los estudiantes que les va bien en Matemática,\n",
    "# no les va bien en Educación Física."
   ]
  },
  {
   "cell_type": "code",
   "execution_count": null,
   "id": "95d1ce86",
   "metadata": {
    "vscode": {
     "languageId": "r"
    }
   },
   "outputs": [],
   "source": [
    "# 9\n",
    "\n",
    "mat <- dplyr::select(filter(sec, Asignatura==\"MATEMATICA\" & ModEnsenanza == \"Comun\"),\"Documento\",\"Promedio\")\n",
    "edf <- dplyr::select(filter(sec, Asignatura==\"EDUCACION FISICA\" & ModEnsenanza == \"Comun\"),\"Documento\",\"Promedio\")\n",
    "leng <- dplyr::select(filter(sec, Asignatura==\"LENGUA Y LITERATURA\" & ModEnsenanza == \"Comun\"),\"Documento\",\"Promedio\")\n",
    "bio <- dplyr::select(filter(sec, Asignatura==\"BIOLOGIA\" & ModEnsenanza == \"Comun\"),\"Documento\",\"Promedio\")\n",
    "geo <- dplyr::select(filter(sec, Asignatura==\"GEOGRAFIA\" & ModEnsenanza == \"Comun\"),\"Documento\",\"Promedio\")\n",
    "\n",
    "df <- mat %>% inner_join(edf, by = \"Documento\") %>% inner_join(leng, by = \"Documento\") %>% inner_join(bio, by = \"Documento\") %>% inner_join(geo, by = \"Documento\")\n",
    "df <- rename(df, prom_mat = Promedio.x, prom_edf = Promedio.y, prom_leng = Promedio.x.x, prom_bio = Promedio.y.y, prom_geo = Promedio)\n",
    "head(df)\n",
    "\n",
    "pcor(df[,2:6], method = \"spearman\")"
   ]
  },
  {
   "cell_type": "code",
   "execution_count": null,
   "id": "a2998493",
   "metadata": {
    "vscode": {
     "languageId": "r"
    }
   },
   "outputs": [],
   "source": [
    "# Analisis extras - tablas de porcentaje de aprobados.\n",
    "sec_1 = sec %>% filter(AnoCursado == \"1\" & Asignatura != \"FISICA\" )\n",
    "aprobados <- aggregate(Resultado ~ Asignatura, sec_1, function(x) sum(x == \"Aprobado\")/length(x))\n",
    "aprobados                \n",
    "                       \n",
    "sec_1 = sec %>% filter(AnoCursado == \"2\" & Asignatura != \"QUIMICA\" )\n",
    "aprobados <- aggregate(Resultado ~ Asignatura, sec_1, function(x) sum(x == \"Aprobado\")/length(x))                       \n",
    "aprobados\n",
    "                       \n",
    "sec_1 = sec %>% filter(AnoCursado == \"3\" )\n",
    "aprobados <- aggregate(Resultado ~ Asignatura, sec_1, function(x) sum(x == \"Aprobado\")/length(x))                     \n",
    "aprobados\n",
    "                       \n",
    "sec_1 = sec %>% filter(AnoCursado == \"4\" )\n",
    "aprobados <- aggregate(Resultado ~ Asignatura, sec_1, function(x) sum(x == \"Aprobado\")/length(x))                     \n",
    "aprobados                   \n",
    "                       \n",
    "sec_1 = sec %>% filter(AnoCursado == \"5\" )\n",
    "aprobados <- aggregate(Resultado ~ Asignatura, sec_1, function(x) sum(x == \"Aprobado\")/length(x))                     \n",
    "aprobados\n",
    "                       \n",
    "sec_1 = sec %>% filter(AnoCursado == \"6\" & Asignatura != \"INGLES\")\n",
    "aprobados <- aggregate(Resultado ~ Asignatura, sec_1, function(x) sum(x == \"Aprobado\")/length(x))                      \n",
    "aprobados"
   ]
  },
  {
   "attachments": {},
   "cell_type": "markdown",
   "id": "f8f8dcbb",
   "metadata": {},
   "source": [
    "# TP5"
   ]
  },
  {
   "attachments": {},
   "cell_type": "markdown",
   "id": "75fbc84f",
   "metadata": {},
   "source": [
    "# 1."
   ]
  },
  {
   "cell_type": "code",
   "execution_count": null,
   "id": "ef329825",
   "metadata": {
    "vscode": {
     "languageId": "r"
    }
   },
   "outputs": [],
   "source": [
    "bd <- rename(bd, \"AñoCursado\" = AnoCursado )\n",
    "data <- bd"
   ]
  },
  {
   "cell_type": "code",
   "execution_count": null,
   "id": "788c7c5c",
   "metadata": {
    "vscode": {
     "languageId": "r"
    }
   },
   "outputs": [],
   "source": [
    "library(dplyr)\n",
    "\n",
    "tercero = filter(\n",
    "    data,\n",
    "    Modalidad == \"Primaria\" &\n",
    "    AñoCursado == 3 &\n",
    "    CUE == 6000068\n",
    ")"
   ]
  },
  {
   "cell_type": "code",
   "execution_count": null,
   "id": "ed69b972",
   "metadata": {
    "vscode": {
     "languageId": "r"
    }
   },
   "outputs": [],
   "source": [
    "media = mean(tercero$Promedio)\n",
    "desvio = sd(tercero$Promedio)\n",
    "\n",
    "z = (5 - media)/desvio\n",
    "z"
   ]
  },
  {
   "attachments": {},
   "cell_type": "markdown",
   "id": "812b3ea9",
   "metadata": {},
   "source": [
    "# 2."
   ]
  },
  {
   "cell_type": "code",
   "execution_count": null,
   "id": "a44aab37",
   "metadata": {
    "vscode": {
     "languageId": "r"
    }
   },
   "outputs": [],
   "source": [
    "esc1 = filter(\n",
    "    data,\n",
    "    Modalidad == \"Secundaria\" &\n",
    "    AñoCursado == 1 &\n",
    "    CUE == 6000064 &\n",
    "    Asignatura == \"MATEMATICA\"\n",
    ")\n",
    "\n",
    "esc2 = filter(\n",
    "    data,\n",
    "    Modalidad == \"Secundaria\" &\n",
    "    AñoCursado == 1 &\n",
    "    CUE == 6005108 &\n",
    "    Asignatura == \"MATEMATICA\"\n",
    ")"
   ]
  },
  {
   "cell_type": "code",
   "execution_count": null,
   "id": "400cfb84",
   "metadata": {
    "vscode": {
     "languageId": "r"
    }
   },
   "outputs": [],
   "source": [
    "hist(\n",
    "    esc1$Promedio,\n",
    "    freq = FALSE,\n",
    "    col = \"grey\",\n",
    "    border = \"#ffffff51\",\n",
    "    breaks = c(1:10),\n",
    "    ylim = c(0, 0.5),\n",
    "    main = \"Histogram esc1 ~ esc2\",\n",
    "    xlab = \"nota\"\n",
    ")\n",
    "\n",
    "hist(\n",
    "    esc2$Promedio,\n",
    "    freq = FALSE,\n",
    "    col = \"#5caceea9\",\n",
    "    border = \"#ffffff51\",\n",
    "    breaks = c(1:10),\n",
    "    add = TRUE\n",
    ")"
   ]
  },
  {
   "attachments": {},
   "cell_type": "markdown",
   "id": "ee3fbeb0",
   "metadata": {},
   "source": [
    "no son comparables"
   ]
  },
  {
   "cell_type": "code",
   "execution_count": null,
   "id": "d469930e",
   "metadata": {
    "vscode": {
     "languageId": "r"
    }
   },
   "outputs": [],
   "source": [
    "tipificar <- function(x){\n",
    "    z = round(\n",
    "        (x-mean(x))/sd(x),2\n",
    "    )   \n",
    "}"
   ]
  },
  {
   "cell_type": "code",
   "execution_count": null,
   "id": "b69949ad",
   "metadata": {
    "vscode": {
     "languageId": "r"
    }
   },
   "outputs": [],
   "source": [
    "esc1_tip = tipificar(\n",
    "    esc1$Promedio\n",
    ")\n",
    "\n",
    "esc2_tip = tipificar(\n",
    "    esc2$Promedio\n",
    ")"
   ]
  },
  {
   "cell_type": "code",
   "execution_count": null,
   "id": "08fde5de",
   "metadata": {
    "vscode": {
     "languageId": "r"
    }
   },
   "outputs": [],
   "source": [
    "hist(\n",
    "    esc1_tip, col = \"grey\", \n",
    "    border = \"#ffffff51\", \n",
    "    xlim = c(-2, 3), \n",
    "    freq = FALSE, \n",
    "    ylim = c(0, 0.5),\n",
    "    main = \"Histogram esc 1 ~ esc 2\",\n",
    "    xlab = \"desv\"\n",
    ")\n",
    "\n",
    "hist(\n",
    "    esc2_tip, add = TRUE,\n",
    "    col = \"#5caceea9\", \n",
    "    border = \"#ffffff51\", \n",
    "    freq = FALSE\n",
    ")"
   ]
  },
  {
   "attachments": {},
   "cell_type": "markdown",
   "id": "4514ae38",
   "metadata": {},
   "source": [
    "\n",
    "en la escuela 2 mayor porcentaje de notas se encuentra por debajo de la media, sin embargo hay 9% de notas casi 2.5 desvios por encima de la media."
   ]
  },
  {
   "attachments": {},
   "cell_type": "markdown",
   "id": "ce2851d2",
   "metadata": {},
   "source": [
    "# 3.1"
   ]
  },
  {
   "cell_type": "code",
   "execution_count": null,
   "id": "c4fccf54",
   "metadata": {
    "vscode": {
     "languageId": "r"
    }
   },
   "outputs": [],
   "source": [
    "library(nortest)\n",
    "\n",
    "x = filter(\n",
    "    data,\n",
    "    Modalidad == \"Secundaria\" &\n",
    "    AñoCursado == 1 &\n",
    "    Asignatura == \"MATEMATICA\"\n",
    ")\n",
    "\n",
    "lillie.test(\n",
    "    x$Promedio\n",
    ")"
   ]
  },
  {
   "cell_type": "code",
   "execution_count": null,
   "id": "8b67a0b1",
   "metadata": {
    "vscode": {
     "languageId": "r"
    }
   },
   "outputs": [],
   "source": [
    "wilcox.test(\n",
    "    x$Promedio,\n",
    "    mu=7,\n",
    "    alternative=\"less\"\n",
    ")"
   ]
  },
  {
   "attachments": {},
   "cell_type": "markdown",
   "id": "264f2e58",
   "metadata": {},
   "source": [
    "a. ¿Cuál es la variable aleatoria de interés para esta prueba?\n",
    "\n",
    "Los promedios de matematica de los estudiantes de 1er anio de secundaria del Departamento de Colon.\n",
    "H0: la media es mayor o igual a 7;\n",
    "Ha: la media es menor a 7.\n",
    "\n",
    "b. En palabras, defina la hipótesis nula y alternativa.\n",
    "H0: En promedio las notas de los estudiantes son mayores o iguales a 7;\n",
    "Ha: En promedio las notas de los estudiantes son menores a 7.\n",
    "\n",
    "c. La prueba que se va a usar consiste en el Test de Wilcox.\n",
    "\n",
    "d. ¿Es una prueba de cola derecha, de cola izquierda o de dos colas?\n",
    "Es una prueba unilateral izquierda.\n",
    "\n",
    "e. Los datos no cumplen con los supuestos de normalidad, por lo cual la prueba a usar será no paramétrica.\n",
    "\n",
    "f. El nivel de confianza es de: 0.95\n",
    "\n",
    "g. El valor del estadístico de la prueba es: 231460\n",
    "\n",
    "h. El p valor obtenido es de: < 2.2e-16\n",
    "\n",
    "i. Por lo cual se concluye que: Se rechaza H0 a favor de Ha."
   ]
  },
  {
   "attachments": {},
   "cell_type": "markdown",
   "id": "f2bc3abb",
   "metadata": {},
   "source": [
    "# 3.2"
   ]
  },
  {
   "cell_type": "code",
   "execution_count": null,
   "id": "20edc52b",
   "metadata": {
    "vscode": {
     "languageId": "r"
    }
   },
   "outputs": [],
   "source": [
    "x = filter(\n",
    "    data,\n",
    "    Modalidad == \"Secundaria\" &\n",
    "    Asignatura == \"LENGUA Y LITERATURA\"\n",
    ")\n",
    "\n",
    "x_pod = filter(\n",
    "    x,\n",
    "    Promedio >= quantile(x$Promedio, 0.25) &\n",
    "    Promedio <= quantile(x$Promedio, 0.75)\n",
    ")"
   ]
  },
  {
   "cell_type": "code",
   "execution_count": null,
   "id": "08f4ca66",
   "metadata": {
    "vscode": {
     "languageId": "r"
    }
   },
   "outputs": [],
   "source": [
    "lillie.test(\n",
    "    x_pod$Promedio\n",
    ")"
   ]
  },
  {
   "cell_type": "code",
   "execution_count": null,
   "id": "3f588fa7",
   "metadata": {
    "vscode": {
     "languageId": "r"
    }
   },
   "outputs": [],
   "source": [
    "wilcox.test(\n",
    "    x_pod$Promedio,\n",
    "    mu = 6,\n",
    "    alternative = \"greater\"\n",
    ")"
   ]
  },
  {
   "attachments": {},
   "cell_type": "markdown",
   "id": "80585c1f",
   "metadata": {},
   "source": [
    "a. ¿Cuál es la variable aleatoria de interés para esta prueba?\n",
    "\n",
    "Los promedios de lengua de los estudiantes de secundaria del Departamento de Colon.\n",
    "H0: la media es menor o igual a 5;\n",
    "Ha: la media es mayor a 5.\n",
    "\n",
    "b. En palabras, defina la hipótesis nula y alternativa.\n",
    "H0: En promedio las notas de los estudiantes son menores o iguales a 6;\n",
    "Ha: En promedio las notas de los estudiantes son mayores a 6.\n",
    "\n",
    "c. La prueba que se va a usar consiste en el Test de Wilcox.\n",
    "\n",
    "d. ¿Es una prueba de cola derecha, de cola izquierda o de dos colas?\n",
    "Es una prueba unilateral derecha.\n",
    "\n",
    "e. Los datos no cumplen con los supuestos de normalidad, por lo cual la prueba a usar será no paramétrica.\n",
    "\n",
    "f. El nivel de confianza es de: 0.95\n",
    "\n",
    "g. El valor del estadístico de la prueba es: 1483165\n",
    "\n",
    "h. El p valor obtenido es de: < 2.2e-16\n",
    "\n",
    "i. Por lo cual se concluye que: Se rechaza H0 a favor de Ha."
   ]
  },
  {
   "attachments": {},
   "cell_type": "markdown",
   "id": "229ff0af",
   "metadata": {},
   "source": [
    "# 3.3"
   ]
  },
  {
   "cell_type": "code",
   "execution_count": null,
   "id": "62f6e1c9",
   "metadata": {
    "vscode": {
     "languageId": "r"
    }
   },
   "outputs": [],
   "source": [
    "pt = filter(data, Modalidad == \"Secundaria\")$NotasPrimerT\n",
    "pt = as.numeric(pt)\n",
    "tt = filter(data, Modalidad == \"Secundaria\")$NotasTercerT\n",
    "tt = as.numeric(tt)\n",
    "\n",
    "length(pt)\n",
    "length(tt)"
   ]
  },
  {
   "cell_type": "code",
   "execution_count": null,
   "id": "8b5205f5",
   "metadata": {
    "vscode": {
     "languageId": "r"
    }
   },
   "outputs": [],
   "source": [
    "lillie.test(\n",
    "    (pt - tt)\n",
    ")"
   ]
  },
  {
   "cell_type": "code",
   "execution_count": null,
   "id": "1d005f0e",
   "metadata": {
    "vscode": {
     "languageId": "r"
    }
   },
   "outputs": [],
   "source": [
    "wilcox.test(\n",
    "    tt,\n",
    "    pt,\n",
    "    alternative = \"less\",\n",
    "    paired = TRUE\n",
    ")"
   ]
  },
  {
   "attachments": {},
   "cell_type": "markdown",
   "id": "77f92661",
   "metadata": {},
   "source": [
    "a. ¿Cuál es la variable aleatoria de interés para esta prueba?\n",
    "\n",
    "Las notas del primer trimestre y tercer trimestre de los estudiantes de secundaria del Departamento de Colon.\n",
    "H0: las notas del tercer trimestre son mayores a las del primero;\n",
    "Ha: las notas del tercer trimestre no son mayores a las del primero.\n",
    "\n",
    "b. En palabras, defina la hipótesis nula y alternativa.\n",
    "H0: las notas del tercer trimestre son mayores a las del primero;\n",
    "Ha: las notas del tercer trimestre no son mayores a las del primero.\n",
    "\n",
    "c. La prueba que se va a usar consiste en el Test de Wilcox.\n",
    "\n",
    "d. ¿Es una prueba de cola derecha, de cola izquierda o de dos colas?\n",
    "Es una prueba bilateral (dos colas).\n",
    "\n",
    "e. Los datos no cumplen con los supuestos de normalidad, por lo cual la prueba a usar será no paramétrica.\n",
    "\n",
    "f. El nivel de confianza es de: 0.95\n",
    "\n",
    "g. El valor del estadístico de la prueba es: 137851975\n",
    "\n",
    "h. El p valor obtenido es de: 1\n",
    "\n",
    "i. Por lo cual se concluye que: No se rechaza H0."
   ]
  },
  {
   "attachments": {},
   "cell_type": "markdown",
   "id": "56b65ee1",
   "metadata": {},
   "source": [
    "# 3.5"
   ]
  },
  {
   "cell_type": "code",
   "execution_count": null,
   "id": "aab6121c",
   "metadata": {
    "vscode": {
     "languageId": "r"
    }
   },
   "outputs": [],
   "source": [
    "x_m = filter(\n",
    "    data, Modalidad == \"Secundaria\" & \n",
    "    AñoCursado == 1 & \n",
    "    Asignatura == \"MATEMATICA\" & \n",
    "    Turno == \"MAÑANA\"\n",
    ")$Promedio\n",
    "\n",
    "x_t = filter(\n",
    "    data, Modalidad == \"Secundaria\" & \n",
    "    AñoCursado == 1 & \n",
    "    Asignatura == \"MATEMATICA\" \n",
    "    & Turno == \"TARDE\"\n",
    ")$Promedio\n"
   ]
  },
  {
   "cell_type": "code",
   "execution_count": null,
   "id": "b73f1611",
   "metadata": {
    "vscode": {
     "languageId": "r"
    }
   },
   "outputs": [],
   "source": [
    "lillie.test(\n",
    "    x_m\n",
    ")\n",
    "\n",
    "lillie.test(\n",
    "    (x_t)\n",
    ")"
   ]
  },
  {
   "cell_type": "code",
   "execution_count": null,
   "id": "befbd9b1",
   "metadata": {
    "vscode": {
     "languageId": "r"
    }
   },
   "outputs": [],
   "source": [
    "wilcox.test(\n",
    "    x_m,\n",
    "    x_t,\n",
    "    paired = FALSE,\n",
    "    alternative = \"two.sided\"\n",
    ")"
   ]
  },
  {
   "attachments": {},
   "cell_type": "markdown",
   "id": "1343e801",
   "metadata": {},
   "source": [
    "a. ¿Cuál es la variable aleatoria de interés para esta prueba?\n",
    "\n",
    "Las notas de matematica del turno tarde y turno maniana de los estudiantes de primero de secundaria del Departamento de Colon.\n",
    "H0: las notas del turno maniana no difieren de las del turno tarde;\n",
    "Ha: las notas del turno maniana difieren de las del turno tarde.\n",
    "\n",
    "b. En palabras, defina la hipótesis nula y alternativa.\n",
    "H0: las notas del turno maniana no difieren de las del turno tarde;\n",
    "Ha: las notas del turno maniana difieren de las del turno tarde.\n",
    "\n",
    "c. La prueba que se va a usar consiste en el Test de Wilcox.\n",
    "\n",
    "d. ¿Es una prueba de cola derecha, de cola izquierda o de dos colas?\n",
    "Es una prueba bilateral (dos colas).\n",
    "\n",
    "e. Los datos no cumplen con los supuestos de normalidad, por lo cual la prueba a usar será no paramétrica.\n",
    "\n",
    "f. El nivel de confianza es de: 0.95\n",
    "\n",
    "g. El valor del estadístico de la prueba es: 139684\n",
    "\n",
    "h. El p valor obtenido es de: 0.2612\n",
    "\n",
    "i. Por lo cual se concluye que: No se rechaza H0."
   ]
  },
  {
   "attachments": {},
   "cell_type": "markdown",
   "id": "b0e90d9c",
   "metadata": {},
   "source": [
    "# 3.6"
   ]
  },
  {
   "cell_type": "code",
   "execution_count": null,
   "id": "9ae6889d",
   "metadata": {
    "vscode": {
     "languageId": "r"
    }
   },
   "outputs": [],
   "source": [
    "x_mat = filter(\n",
    "    data, Modalidad == \"Secundaria\" & \n",
    "    AñoCursado == 1 & \n",
    "    Asignatura == \"MATEMATICA\"\n",
    ")$Promedio\n",
    "\n",
    "x_len = filter(\n",
    "    data, Modalidad == \"Secundaria\" & \n",
    "    AñoCursado == 1 & \n",
    "    Asignatura == \"LENGUA Y LITERATURA\"\n",
    ")$Promedio\n",
    "\n",
    "length(x_mat)\n",
    "length(x_len)"
   ]
  },
  {
   "cell_type": "code",
   "execution_count": null,
   "id": "6ad24ef7",
   "metadata": {
    "vscode": {
     "languageId": "r"
    }
   },
   "outputs": [],
   "source": [
    "lillie.test(\n",
    "    x_mat\n",
    ")\n",
    "\n",
    "lillie.test(\n",
    "    x_len\n",
    ")"
   ]
  },
  {
   "cell_type": "code",
   "execution_count": null,
   "id": "94a84c5f",
   "metadata": {
    "vscode": {
     "languageId": "r"
    }
   },
   "outputs": [],
   "source": [
    "wilcox.test(\n",
    "    x_mat,\n",
    "    x_len,\n",
    "    paired = FALSE,\n",
    "    alternative = \"less\"\n",
    ")"
   ]
  },
  {
   "attachments": {},
   "cell_type": "markdown",
   "id": "f30d9565",
   "metadata": {},
   "source": [
    "a. ¿Cuál es la variable aleatoria de interés para esta prueba?\n",
    "\n",
    "Las notas de matematica y lengua de los estudiantes de primero de secundaria del Departamento de Colon.\n",
    "H0: las notas de matematica son superiores a las de lengua;\n",
    "Ha: las notas de matematica no son superiores a las de lengua.\n",
    "\n",
    "b. En palabras, defina la hipótesis nula y alternativa.\n",
    "H0: las notas de matematica son superiores a las de lengua;\n",
    "Ha: las notas de matematica no son superiores a las de lengua.\n",
    "\n",
    "c. La prueba que se va a usar consiste en el Test de Wilcox.\n",
    "\n",
    "d. ¿Es una prueba de cola derecha, de cola izquierda o de dos colas?\n",
    "Es una prueba unilateral izquierda.\n",
    "\n",
    "e. Los datos no cumplen con los supuestos de normalidad, por lo cual la prueba a usar será no paramétrica.\n",
    "\n",
    "f. El nivel de confianza es de: 0.95\n",
    "\n",
    "g. El valor del estadístico de la prueba es: 657925\n",
    "\n",
    "h. El p valor obtenido es de: 3.495e-05\n",
    "\n",
    "i. Por lo cual se concluye que: Se rechaza H0 a favor de Ha."
   ]
  },
  {
   "attachments": {},
   "cell_type": "markdown",
   "id": "11df852d",
   "metadata": {},
   "source": []
  },
  {
   "attachments": {},
   "cell_type": "markdown",
   "id": "0a63f1db",
   "metadata": {},
   "source": [
    "# 4\n",
    "Piense en diferentes hipótesis que se podrían contrastar con sus datos, y que aporten\n",
    "información al análisis que viene realizando."
   ]
  },
  {
   "attachments": {},
   "cell_type": "markdown",
   "id": "0f76d8f0",
   "metadata": {},
   "source": [
    "# 4.1\n",
    "\n",
    "Se compara el rendimiento de los estudiantes de 1er año de secundaria correspondientes al sector privado frente al sector público.\n",
    "\n",
    "H0: Las notas en el sector privado son superiores a las del sector público;\n",
    "\n",
    "Ha: Las notas en el sector privado no son superiores a las del sector público."
   ]
  },
  {
   "cell_type": "code",
   "execution_count": null,
   "id": "545ea6ac",
   "metadata": {
    "vscode": {
     "languageId": "r"
    }
   },
   "outputs": [],
   "source": [
    "notasPriv = filter(\n",
    "    data,\n",
    "    Modalidad == \"Secundaria\" &\n",
    "    AñoCursado == 1 &\n",
    "    EsPrivada == \"S\"\n",
    ")$Promedio\n",
    "\n",
    "notasPub = filter(\n",
    "    data,\n",
    "    Modalidad == \"Secundaria\"&\n",
    "    AñoCursado == 1 &\n",
    "    EsPrivada == \"N\"\n",
    ")$Promedio"
   ]
  },
  {
   "cell_type": "code",
   "execution_count": null,
   "id": "9b9cf627",
   "metadata": {
    "vscode": {
     "languageId": "r"
    }
   },
   "outputs": [],
   "source": [
    "length(notasPriv) #cantidad de datos -> se puede comparar?\n",
    "length(notasPub)"
   ]
  },
  {
   "cell_type": "code",
   "execution_count": null,
   "id": "60ead400",
   "metadata": {
    "vscode": {
     "languageId": "r"
    }
   },
   "outputs": [],
   "source": [
    "library(nortest)\n",
    "\n",
    "lillie.test(\n",
    "    notasPriv\n",
    ")\n",
    "\n",
    "lillie.test(\n",
    "    notasPub\n",
    ")"
   ]
  },
  {
   "cell_type": "code",
   "execution_count": null,
   "id": "7b8c8f50",
   "metadata": {
    "vscode": {
     "languageId": "r"
    }
   },
   "outputs": [],
   "source": [
    "wilcox.test(\n",
    "    notasPriv,\n",
    "    notasPub,\n",
    "    paired = FALSE,\n",
    "    alternative = \"less\"\n",
    ")"
   ]
  },
  {
   "attachments": {},
   "cell_type": "markdown",
   "id": "2965a6f8",
   "metadata": {},
   "source": [
    "Con un p valor = 1 no se rechaza H0."
   ]
  },
  {
   "attachments": {},
   "cell_type": "markdown",
   "id": "68ac0f79",
   "metadata": {},
   "source": [
    "# TP6"
   ]
  },
  {
   "attachments": {},
   "cell_type": "markdown",
   "id": "205b248a",
   "metadata": {},
   "source": [
    "# 1\n",
    "A partir del dataset Secundaria3, y teniendo en cuenta el departamento asignado,\n",
    "analiza si la matrícula en promedio del ciclo básico difiere significativamente de la del ciclo\n",
    "orientado."
   ]
  },
  {
   "cell_type": "code",
   "execution_count": null,
   "id": "2b6b5bac",
   "metadata": {
    "vscode": {
     "languageId": "r"
    }
   },
   "outputs": [],
   "source": [
    "secundaria <-  read_excel(\"./data/Secundaria3.xlsx\")\n",
    "dto_colon <- filter(secundaria, Departamento == 'COLON')\n",
    "\n",
    "ciclo_basico <- (dto_colon$Mat_ciclo_basico)\n",
    "ciclo_orientado <- (dto_colon$Mat_ciclo_orientado)"
   ]
  },
  {
   "attachments": {},
   "cell_type": "markdown",
   "id": "0a8bd716",
   "metadata": {},
   "source": [
    "Realizo test de normalidad sobre los datos correspondientes a cada ciclo.\n",
    "\n",
    "H0: Los datos siguen una distribución normal;\n",
    "\n",
    "Ha: Los datos no siguen una distribución normal."
   ]
  },
  {
   "cell_type": "code",
   "execution_count": null,
   "id": "92b7df15",
   "metadata": {
    "vscode": {
     "languageId": "r"
    }
   },
   "outputs": [],
   "source": [
    "shapiro.test(ciclo_basico)\n",
    "shapiro.test(ciclo_orientado)"
   ]
  },
  {
   "attachments": {},
   "cell_type": "markdown",
   "id": "2fd2b536",
   "metadata": {},
   "source": [
    "Los datos no cumplen supuestos de normalidad, procedo a realizar test no paramétrico de Wilcox de dos colas para comprobar si las matriculas entre ciclo básico y ciclo orientado difieren significativamente.\n",
    "\n",
    "H0: Las matriculas no difieren.\n",
    "\n",
    "Ha: Las matriculas si difieren.\n",
    "\n"
   ]
  },
  {
   "cell_type": "code",
   "execution_count": null,
   "id": "b989670f",
   "metadata": {
    "vscode": {
     "languageId": "r"
    }
   },
   "outputs": [],
   "source": [
    "wilcox.test(\n",
    "    ciclo_basico,\n",
    "    ciclo_orientado,\n",
    "    alternative = \"two.sided\",\n",
    "    paired = FALSE\n",
    ")"
   ]
  },
  {
   "attachments": {},
   "cell_type": "markdown",
   "id": "ba4bbbd0",
   "metadata": {},
   "source": [
    "Con p-value > 0.05 no se rechaza hipótesis nula"
   ]
  },
  {
   "attachments": {},
   "cell_type": "markdown",
   "id": "ae6a809f",
   "metadata": {},
   "source": [
    "# 2 - ciclo básico\n",
    "Haciendo uso del mismo dataset contrasta si la matrícula del departamento asignado\n",
    "es similar en los diferentes años del nivel."
   ]
  },
  {
   "cell_type": "code",
   "execution_count": null,
   "id": "27639c87",
   "metadata": {
    "vscode": {
     "languageId": "r"
    }
   },
   "outputs": [],
   "source": [
    "ciclo_basico <- select(\n",
    "    dto_colon,\n",
    "    Primero,\n",
    "    Segundo,\n",
    "    Tercero\n",
    ")"
   ]
  },
  {
   "cell_type": "code",
   "execution_count": null,
   "id": "6248527e",
   "metadata": {
    "vscode": {
     "languageId": "r"
    }
   },
   "outputs": [],
   "source": [
    "head(ciclo_basico)"
   ]
  },
  {
   "attachments": {},
   "cell_type": "markdown",
   "id": "4ba2f94f",
   "metadata": {},
   "source": [
    "Obtengo descriptivos sobre los datos de matrícula del ciclo básico, y creo un boxplot de los mismos.\n",
    "Se observan diferencias en la media de tercero con respecto a primero y segundo.\n",
    "Variabilidad similar entre los tres años."
   ]
  },
  {
   "cell_type": "code",
   "execution_count": null,
   "id": "7be5b015",
   "metadata": {
    "vscode": {
     "languageId": "r"
    }
   },
   "outputs": [],
   "source": [
    "summary(ciclo_basico)\n",
    "\n",
    "boxplot(\n",
    "    ciclo_basico,\n",
    "    main = ('Matrícula de estudiantes en ciclo básico\n",
    "    por escuela secundaria del dpto Colón'),\n",
    "    col = c('steelblue2', 'orange', 'lightgreen')\n",
    ")"
   ]
  },
  {
   "attachments": {},
   "cell_type": "markdown",
   "id": "f51777ac",
   "metadata": {},
   "source": [
    "Verifico supuestos de normalidad y homocedasticidad de los datos"
   ]
  },
  {
   "cell_type": "code",
   "execution_count": null,
   "id": "6bc2dee4",
   "metadata": {
    "vscode": {
     "languageId": "r"
    }
   },
   "outputs": [],
   "source": [
    "shapiro.test(ciclo_basico$Primero)\n",
    "shapiro.test(ciclo_basico$Segundo)\n",
    "shapiro.test(ciclo_basico$Tercero)"
   ]
  },
  {
   "attachments": {},
   "cell_type": "markdown",
   "id": "bedceea9",
   "metadata": {},
   "source": [
    "Los datos no cumplen con los supuestos planteados, por lo tanto procedo a realizar un test no paramétrico U de Kruskal-Wallis para contrastar si las diferentes muestras correspondientes a cada año están equidistribuidas.\n",
    "\n",
    "H0: Todas las muestras provienen de la misma distribución.\n",
    "\n",
    "Ha: Al menos una de las muestras proviene de una distribución diferente."
   ]
  },
  {
   "cell_type": "code",
   "execution_count": null,
   "id": "23f13533",
   "metadata": {
    "vscode": {
     "languageId": "r"
    }
   },
   "outputs": [],
   "source": [
    "matricula <- as.numeric(\n",
    "    c(\n",
    "        ciclo_basico$Primero,\n",
    "        ciclo_basico$Segundo,\n",
    "        ciclo_basico$Tercero\n",
    "    )\n",
    ")\n",
    "\n",
    "año <- as.factor(\n",
    "    c(\n",
    "        rep(\"primero\",length(ciclo_basico$Primero)),\n",
    "        rep(\"segundo\",length(ciclo_basico$Segundo)),\n",
    "        rep(\"tercero\",length(ciclo_basico$Tercero))\n",
    "    )\n",
    ")\n",
    "\n",
    "matr <- data.frame(\n",
    "    matricula,\n",
    "    año\n",
    ")\n",
    "\n",
    "head(matr)"
   ]
  },
  {
   "cell_type": "code",
   "execution_count": null,
   "id": "b3001fc5",
   "metadata": {
    "vscode": {
     "languageId": "r"
    }
   },
   "outputs": [],
   "source": [
    "kruskal.test(matricula~año)"
   ]
  },
  {
   "attachments": {},
   "cell_type": "markdown",
   "id": "3a71a62d",
   "metadata": {},
   "source": [
    "Con un valor p = 0.52 no se rechaza la hipótesis nula (H0: Todas las muestras provienen de la misma distribución)."
   ]
  },
  {
   "attachments": {},
   "cell_type": "markdown",
   "id": "59befa79",
   "metadata": {},
   "source": [
    "Se calcula la potencia del test ANOVA con el fin de estimar la potencia del test U de Kruskal-Wallis"
   ]
  },
  {
   "cell_type": "code",
   "execution_count": null,
   "id": "93e699e0",
   "metadata": {
    "vscode": {
     "languageId": "r"
    }
   },
   "outputs": [],
   "source": [
    "fm = aov(matricula~año)\n",
    "\n",
    "\n",
    "#library(parameters) #conda install -c conda-forge r-parameters\n",
    "library(effectsize) #conda install -c conda-forge r-effectsize\n",
    "cohens_f<-cohens_f(fm)$Cohens_f\n",
    "cohens_f\n",
    "\n",
    "library(pwr)\n",
    "pwr.anova.test(k =3, n = length(ciclo_basico$Primero), f =cohens_f, sig.level =0.05)"
   ]
  },
  {
   "attachments": {},
   "cell_type": "markdown",
   "id": "878e8d6b",
   "metadata": {},
   "source": [
    "Se estima que el test realizado posee una potencia menor  0.52"
   ]
  },
  {
   "attachments": {},
   "cell_type": "markdown",
   "id": "cb5aa084",
   "metadata": {},
   "source": [
    "# 2 - ciclo orientado"
   ]
  },
  {
   "cell_type": "code",
   "execution_count": null,
   "id": "d7405736",
   "metadata": {
    "vscode": {
     "languageId": "r"
    }
   },
   "outputs": [],
   "source": [
    "ciclo_orientado <- select(\n",
    "    dto_colon,\n",
    "    Cuarto,\n",
    "    Quinto,\n",
    "    Sexto\n",
    ")\n",
    "\n",
    "head(ciclo_orientado)"
   ]
  },
  {
   "attachments": {},
   "cell_type": "markdown",
   "id": "9a43221b",
   "metadata": {},
   "source": [
    "Obtengo descriptivos sobre los datos de matrícula del ciclo orientado, y creo un boxplot de los mismos."
   ]
  },
  {
   "cell_type": "code",
   "execution_count": null,
   "id": "278001c7",
   "metadata": {
    "vscode": {
     "languageId": "r"
    }
   },
   "outputs": [],
   "source": [
    "summary(ciclo_orientado)\n",
    "\n",
    "boxplot(\n",
    "    ciclo_orientado,\n",
    "    main = ('Matrícula de estudiantes en ciclo orientado\n",
    "    por escuela secundaria del dpto Colón'),\n",
    "    col = c('steelblue2', 'orange', 'lightgreen')\n",
    ")"
   ]
  },
  {
   "attachments": {},
   "cell_type": "markdown",
   "id": "52e26541",
   "metadata": {},
   "source": [
    "Se observan diferencias en la media y mediana de cuarto con respecto a quinto y sexto, que por el contrario toman valores similares. La variabilidad es similar entre los tres años. Existen valores atípicos para cuarto y quinto año."
   ]
  },
  {
   "attachments": {},
   "cell_type": "markdown",
   "id": "7197c7ed",
   "metadata": {},
   "source": [
    "Verifico supuestos de normalidad y homocedasticidad en los datos."
   ]
  },
  {
   "cell_type": "code",
   "execution_count": null,
   "id": "daaa55d4",
   "metadata": {
    "vscode": {
     "languageId": "r"
    }
   },
   "outputs": [],
   "source": [
    "shapiro.test(ciclo_orientado$Cuarto)\n",
    "shapiro.test(ciclo_orientado$Quinto)\n",
    "shapiro.test(ciclo_orientado$Sexto)"
   ]
  },
  {
   "attachments": {},
   "cell_type": "markdown",
   "id": "bcd2f27d",
   "metadata": {},
   "source": [
    "Los datos no cumplen con los supuestos planteados, por lo tanto procedo a realizar un test no paramétrico U de Kruskal-Wallis para contrastar si las diferentes muestras correspondientes a cada año están equidistribuidas.\n",
    "\n",
    "H0: Todas las muestras provienen de la misma distribución.\n",
    "\n",
    "Ha: Al menos una de las muestras proviene de una distribución diferente."
   ]
  },
  {
   "cell_type": "code",
   "execution_count": null,
   "id": "98949248",
   "metadata": {
    "vscode": {
     "languageId": "r"
    }
   },
   "outputs": [],
   "source": [
    "matricula <- as.numeric(\n",
    "    c(\n",
    "        ciclo_orientado$Cuarto,\n",
    "        ciclo_orientado$Quinto,\n",
    "        ciclo_orientado$Sexto\n",
    "    )\n",
    ")\n",
    "\n",
    "año <- as.factor(\n",
    "    c(\n",
    "        rep(\"cuarto\",length(ciclo_orientado$Cuarto)),\n",
    "        rep(\"quinto\",length(ciclo_orientado$Quinto)),\n",
    "        rep(\"sexto\",length(ciclo_orientado$Sexto))\n",
    "    )\n",
    ")\n",
    "\n",
    "matr <- data.frame(\n",
    "    matricula,\n",
    "    año\n",
    ")\n",
    "\n",
    "head(matr)"
   ]
  },
  {
   "cell_type": "code",
   "execution_count": null,
   "id": "1b66f4ad",
   "metadata": {
    "vscode": {
     "languageId": "r"
    }
   },
   "outputs": [],
   "source": [
    "kruskal.test(matricula~año)"
   ]
  },
  {
   "attachments": {},
   "cell_type": "markdown",
   "id": "1ac42d35",
   "metadata": {},
   "source": [
    "Con un valor p = 0.28 no se rechaza la hipótesis nula (H0: Todas las muestras provienen de la misma distribución.)"
   ]
  },
  {
   "attachments": {},
   "cell_type": "markdown",
   "id": "00205ab1",
   "metadata": {},
   "source": [
    "Se calcula la potencia del test ANOVA con el fin de estimar la potencia del test de U de Kruskal-Wallis"
   ]
  },
  {
   "cell_type": "code",
   "execution_count": null,
   "id": "481eb827",
   "metadata": {
    "vscode": {
     "languageId": "r"
    }
   },
   "outputs": [],
   "source": [
    "fm = aov(matricula~año)\n",
    "\n",
    "#library(parameters) #conda install -c conda-forge r-parameters\n",
    "library(effectsize) #conda install -c conda-forge r-effectsize\n",
    "cohens_f<-cohens_f(fm)$Cohens_f\n",
    "cohens_f\n",
    "\n",
    "library(pwr)\n",
    "pwr.anova.test(k =3, n =length(ciclo_orientado$Cuarto), f =cohens_f, sig.level =0.05)"
   ]
  },
  {
   "attachments": {},
   "cell_type": "markdown",
   "id": "30d3ce03",
   "metadata": {},
   "source": [
    "Se estima que el test realizado posee una potencia menor  0.52"
   ]
  },
  {
   "attachments": {},
   "cell_type": "markdown",
   "id": "4d586bb9",
   "metadata": {},
   "source": [
    "# 3"
   ]
  },
  {
   "attachments": {},
   "cell_type": "markdown",
   "id": "42ec3845",
   "metadata": {},
   "source": [
    "# ejercicio 3 para primaria ciclo basico matematica"
   ]
  },
  {
   "cell_type": "code",
   "execution_count": null,
   "id": "cf1c362b",
   "metadata": {
    "vscode": {
     "languageId": "r"
    }
   },
   "outputs": [],
   "source": [
    "bd$Turno = as.character(bd$Turno)"
   ]
  },
  {
   "cell_type": "code",
   "execution_count": null,
   "id": "ee9ac90f",
   "metadata": {
    "vscode": {
     "languageId": "r"
    }
   },
   "outputs": [],
   "source": [
    "basico_1 = filter(\n",
    "  bd,\n",
    "  Modalidad == \"Primaria\" &\n",
    "  AñoCursado %in% c(\"1\", \"2\", \"3\") &\n",
    "  Turno != \"ROTATIVO\" &\n",
    "  Turno != \"SIN DATOS\" &\n",
    "  Asignatura == \"MATEMATICA\"\n",
    "    \n",
    ")\n",
    "\n",
    "table(basico_1$Turno)\n",
    "\n",
    "\n",
    "boxplot(basico_1$Promedio ~ basico_1$Turno, col = c(\"#00FF00\", \"#00BFFF\", \"#FFA500\"), ylab = \"promedio\", xlab = \"turno\")\n",
    "title(\"Primaria ciclo básico Matemática\", line = 1.5)"
   ]
  },
  {
   "cell_type": "code",
   "execution_count": null,
   "id": "33f7f5e4",
   "metadata": {
    "vscode": {
     "languageId": "r"
    }
   },
   "outputs": [],
   "source": [
    "tabla_resumen <- basico_1 %>% \n",
    "  group_by(Turno) %>% \n",
    "  summarise(median = round(median(Promedio),1),\n",
    "            IQR = round(IQR(Promedio),1),\n",
    "            datos = n())\n",
    "tabla_resumen"
   ]
  },
  {
   "attachments": {},
   "cell_type": "markdown",
   "id": "58e8ddbf",
   "metadata": {},
   "source": [
    "su centralidad son similares y variabilidad tambien, solo el turno completo tiene una mediana mayor"
   ]
  },
  {
   "cell_type": "code",
   "execution_count": null,
   "id": "705f7ce7",
   "metadata": {
    "vscode": {
     "languageId": "r"
    }
   },
   "outputs": [],
   "source": [
    "shapiro.test(basico_1$Promedio[basico_1$Turno == \"MAÑANA\"])\n",
    "shapiro.test(basico_1$Promedio[basico_1$Turno == \"TARDE\"])\n",
    "shapiro.test(basico_1$Promedio[basico_1$Turno == \"COMPLETO\"])\n",
    "\n",
    "bartlett.test(basico_1$Promedio ~ basico_1$Turno)"
   ]
  },
  {
   "attachments": {},
   "cell_type": "markdown",
   "id": "3fb22b8d",
   "metadata": {},
   "source": [
    "E)el p valor de  bartlett.test da bien mayor a 0.05 por ende las varianzas son iguales de igual manera no son normales y se procede a usar test no parametrico:"
   ]
  },
  {
   "cell_type": "code",
   "execution_count": null,
   "id": "38665c15",
   "metadata": {
    "vscode": {
     "languageId": "r"
    }
   },
   "outputs": [],
   "source": [
    "resultado <- kruskal.test(basico_1$Promedio, basico_1$Turno)\n",
    "resultado\n",
    "pairwise.wilcox.test(basico_1$Promedio, basico_1$Turno)"
   ]
  },
  {
   "attachments": {},
   "cell_type": "markdown",
   "id": "ad063b56",
   "metadata": {},
   "source": [
    "exploramos los datos de la muestra mediante boxplot y descriptivos, se observa en los valores promedios y de variabilidad un mismo comportamiento, solo el turno completo tiene una mediana mayor.\n",
    "la normalidad da valores muy bajos asi que se utiliza test no parametrico\n",
    "kruskal.test da 0.003069 por lo tanto  se rechaza la hipotesis nula. Al menos una muestra proviene de una población con una distribución distinta.\n",
    "\n",
    "kruskal.test\n",
    "H0: todas las muestras provienen de la misma población (distribución).\n",
    "HA: Al menos una muestra proviene de una población con una distribución distinta.\n"
   ]
  },
  {
   "attachments": {},
   "cell_type": "markdown",
   "id": "dd00caf8",
   "metadata": {},
   "source": [
    "# ejercicio 3 para primaria ciclo superior matematica"
   ]
  },
  {
   "cell_type": "code",
   "execution_count": null,
   "id": "7f385d88",
   "metadata": {
    "vscode": {
     "languageId": "r"
    }
   },
   "outputs": [],
   "source": [
    "superior_1 = filter(\n",
    "  bd,\n",
    "  Modalidad == \"Primaria\" &\n",
    "  AñoCursado %in% c(\"4\", \"5\", \"6\") &\n",
    "    Turno != \"ROTATIVO\" &\n",
    "    Turno != \"SIN DATOS\" &\n",
    "  Asignatura == \"MATEMATICA\"\n",
    ")\n",
    "table(superior_1$Turno)\n",
    "\n",
    "boxplot(superior_1$Promedio ~ superior_1$Turno, col = c(\"#00FF00\", \"#00BFFF\", \"#FFA500\"), ylab = \"promedio\", xlab = \"turno\")\n",
    "title(\"Primaria ciclo superior Matemática\", line = 1.5)"
   ]
  },
  {
   "cell_type": "code",
   "execution_count": null,
   "id": "48c4f240",
   "metadata": {
    "vscode": {
     "languageId": "r"
    }
   },
   "outputs": [],
   "source": [
    "tabla_resumen <- superior_1 %>% \n",
    "  group_by(Turno) %>% \n",
    "  summarise(median = round(median(Promedio),1),\n",
    "            IQR = round(IQR(Promedio),1),\n",
    "            datos = n())\n",
    "tabla_resumen"
   ]
  },
  {
   "cell_type": "code",
   "execution_count": null,
   "id": "a6ea673c",
   "metadata": {
    "vscode": {
     "languageId": "r"
    }
   },
   "outputs": [],
   "source": [
    "shapiro.test(superior_1$Promedio[superior_1$Turno == \"MAÑANA\"])\n",
    "shapiro.test(superior_1$Promedio[superior_1$Turno == \"TARDE\"])\n",
    "shapiro.test(superior_1$Promedio[superior_1$Turno == \"COMPLETO\"])\n",
    "\n",
    "bartlett.test(superior_1$Promedio ~ superior_1$Turno)"
   ]
  },
  {
   "cell_type": "code",
   "execution_count": null,
   "id": "d28e90ed",
   "metadata": {
    "vscode": {
     "languageId": "r"
    }
   },
   "outputs": [],
   "source": [
    "resultado <- kruskal.test(superior_1$Promedio, superior_1$Turno)\n",
    "resultado"
   ]
  },
  {
   "attachments": {},
   "cell_type": "markdown",
   "id": "3973ed40",
   "metadata": {},
   "source": [
    "exploramos los datos de la muestra mediante boxplot y descriptivos, se observa en los valores promedios y de variabilidad un mismo comportamiento.\n",
    "la normalidad da valores muy bajos asi que se utiliza test no parametrico\n",
    "kruskal.test da 0.1263 por lo tanto no se rechaza la hipotesis nula de que todas las muestras provienen de la misma distribucion\n",
    "\n",
    "kruskal.test\n",
    "H0: todas las muestras provienen de la misma población (distribución).\n",
    "HA: Al menos una muestra proviene de una población con una distribución distinta."
   ]
  },
  {
   "attachments": {},
   "cell_type": "markdown",
   "id": "9d8868ea",
   "metadata": {},
   "source": [
    "# ejercicio 3 para primaria ciclo basico lengua"
   ]
  },
  {
   "cell_type": "code",
   "execution_count": null,
   "id": "6dab4da9",
   "metadata": {
    "vscode": {
     "languageId": "r"
    }
   },
   "outputs": [],
   "source": [
    "basico = filter(\n",
    "  bd,\n",
    "  Modalidad == \"Primaria\" &\n",
    "  AñoCursado %in% c(\"1\", \"2\", \"3\") &\n",
    "    Turno != \"ROTATIVO\" &\n",
    "    Turno != \"SIN DATOS\" &   \n",
    "  Asignatura == \"LENGUA\"\n",
    "    \n",
    ")\n",
    "\n",
    "table(basico$Turno)\n",
    "#----------------------------------------\n",
    "boxplot(basico$Promedio ~ basico$Turno, col = c(\"#00FF00\", \"#FFFF00\",\"#FFA500\", \"#00BFFF\"), ylab = \"promedio\", xlab = \"turno\")\n",
    "title(\"Primaria ciclo basico Lengua\", line = 1.5)\n",
    "\n",
    "#--------------------------------------\n",
    "\n",
    "\n",
    "\n",
    "tabla_resumen <- basico %>% \n",
    "  group_by(Turno) %>% \n",
    "  summarise(median = round(median(Promedio),1),\n",
    "            IQR = round(IQR(Promedio),1),\n",
    "            datos = n())\n",
    "tabla_resumen\n",
    "\n",
    "#---------------------------------------\n",
    "shapiro.test(basico$Promedio[basico$Turno == \"MAÑANA\"])\n",
    "shapiro.test(basico$Promedio[basico$Turno == \"TARDE\"])\n",
    "shapiro.test(basico$Promedio[basico$Turno == \"COMPLETO\"])\n",
    "\n",
    "bartlett.test(basico$Promedio ~ basico$Turno)\n",
    "\n",
    "#---------------------------------------\n",
    "resultado <- kruskal.test(basico$Promedio, basico$Turno)\n",
    "resultado\n",
    "pairwise.wilcox.test(basico$Promedio, basico$Turno)"
   ]
  },
  {
   "attachments": {},
   "cell_type": "markdown",
   "id": "f3aad024",
   "metadata": {},
   "source": [
    "exploramos los datos de la muestra mediante boxplot y descriptivos, se observa en los valores promedios y de variabilidad un mismo comportamiento, solo el turno COMPLETO tiene una mediana mayor y menor variabilidad.\n",
    "la normalidad da valores muy bajos asi que se utiliza test no parametrico\n",
    "kruskal.test da 0.005404 por lo tanto  se rechaza la hipotesis nula.  Al menos una muestra proviene de una población con una distribución distinta.\n",
    "\n",
    "kruskal.test\n",
    "H0: todas las muestras provienen de la misma población (distribución).\n",
    "HA: Al menos una muestra proviene de una población con una distribución distinta."
   ]
  },
  {
   "attachments": {},
   "cell_type": "markdown",
   "id": "a9c4a359",
   "metadata": {},
   "source": [
    "# ejercicio 3 para primaria ciclo superior lengua"
   ]
  },
  {
   "cell_type": "code",
   "execution_count": null,
   "id": "36a1d9c4",
   "metadata": {
    "vscode": {
     "languageId": "r"
    }
   },
   "outputs": [],
   "source": [
    "superior = filter(\n",
    "  bd,\n",
    "  Modalidad == \"Primaria\" &\n",
    "  AñoCursado %in% c(\"4\", \"5\", \"6\") &\n",
    "    Turno != \"ROTATIVO\" &\n",
    "    Turno != \"SIN DATOS\" &   \n",
    "  Asignatura == \"LENGUA\"\n",
    "    \n",
    ")\n",
    "\n",
    "table(superior$Turno)\n",
    "#----------------------------------------\n",
    "boxplot(superior$Promedio ~ superior$Turno, col = c(\"#00FF00\", \"#FFFF00\",\"#FFA500\", \"#00BFFF\"), ylab = \"promedio\", xlab = \"turno\")\n",
    "title(\"Primaria ciclo superior Lengua\", line = 1.5)\n",
    "#--------------------------------------\n",
    "\n",
    "tabla_resumen <- superior %>% \n",
    "  group_by(Turno) %>% \n",
    "  summarise(median = round(median(Promedio),1),\n",
    "            IQR = round(IQR(Promedio),1),\n",
    "            datos = n())\n",
    "tabla_resumen\n",
    "\n",
    "#---------------------------------------\n",
    "shapiro.test(superior$Promedio[superior$Turno == \"MAÑANA\"])\n",
    "shapiro.test(superior$Promedio[superior$Turno == \"TARDE\"])\n",
    "shapiro.test(superior$Promedio[superior$Turno == \"COMPLETO\"])\n",
    "\n",
    "bartlett.test(superior$Promedio ~ superior$Turno)\n",
    "\n",
    "#---------------------------------------\n",
    "resultado <- kruskal.test(superior$Promedio, superior$Turno)\n",
    "resultado\n",
    "pairwise.wilcox.test(superior$Promedio, superior$Turno)"
   ]
  },
  {
   "attachments": {},
   "cell_type": "markdown",
   "id": "9f010716",
   "metadata": {},
   "source": [
    "exploramos los datos de la muestra mediante boxplot y descriptivos, se observa en los valores promedios y de variabilidad un mismo comportamiento, solo el turno TARDE tiene una mediana menor .\n",
    "la normalidad da valores muy bajos asi que se utiliza test no parametrico\n",
    "kruskal.test da 0.03185 por lo tanto  se rechaza la hipotesis nula.  Al menos una muestra proviene de una población con una distribución distinta.\n",
    "\n",
    "kruskal.test\n",
    "H0: todas las muestras provienen de la misma población (distribución).\n",
    "HA: Al menos una muestra proviene de una población con una distribución distinta."
   ]
  },
  {
   "attachments": {},
   "cell_type": "markdown",
   "id": "f43cf01d",
   "metadata": {},
   "source": [
    "# 4"
   ]
  },
  {
   "attachments": {},
   "cell_type": "markdown",
   "id": "20d62dba",
   "metadata": {},
   "source": [
    "# ejercicio 4 para secundaria ciclo basico matematica"
   ]
  },
  {
   "cell_type": "code",
   "execution_count": null,
   "id": "d1337850",
   "metadata": {
    "vscode": {
     "languageId": "r"
    }
   },
   "outputs": [],
   "source": [
    "basico = filter(\n",
    "  bd,\n",
    "  Modalidad == \"Secundaria\" &\n",
    "  AñoCursado %in% c(\"1\", \"2\", \"3\") &\n",
    "  Asignatura == \"MATEMATICA\" &\n",
    "  Turno %in% c(\"MAÑANA\", \"TARDE\", \"NOCHE\", \"DOBLE\")\n",
    ")\n",
    "table(basico$Turno)\n",
    "\n",
    "boxplot(basico$Promedio ~ basico$Turno, col = c(\"#00BFFF\",\"#FFFF00\", \"#FF00FF\" ,\"#FFA500\", \"#00BFFF\"  ), ylab = \"promedio\", xlab = \"turno\")\n",
    "title(\"Secundaria ciclo basico Matematica\", line = 1.5)\n",
    "\n",
    "resultado <- kruskal.test(basico$Promedio, basico$Turno)\n",
    "resultado\n",
    "\n",
    "pairwise.wilcox.test(basico$Promedio, basico$Turno)\n",
    "\n",
    "tabla_resumen <- basico %>% \n",
    "  group_by(Turno) %>% \n",
    "  summarise(median = round(median(Promedio),1),\n",
    "            IQR = round(IQR(Promedio),1),\n",
    "            datos = n())\n",
    "tabla_resumen"
   ]
  },
  {
   "attachments": {},
   "cell_type": "markdown",
   "id": "f6fedc41",
   "metadata": {},
   "source": [
    "A) en general los valores  son iguales a excepcion del turno doble que cuenta con una menor mediana"
   ]
  },
  {
   "cell_type": "code",
   "execution_count": null,
   "id": "e07082f7",
   "metadata": {
    "vscode": {
     "languageId": "r"
    }
   },
   "outputs": [],
   "source": [
    "fm = aov( basico$Promedio ~ basico$Turno )\n",
    "summary(fm)"
   ]
  },
  {
   "attachments": {},
   "cell_type": "markdown",
   "id": "68b0ecbd",
   "metadata": {},
   "source": [
    "B) Hipótesis nula (H0): La hipótesis nula en un test F en ANOVA afirma que no existen diferencias significativas entre las medias de los grupos. En otras palabras, todos los grupos tienen la misma media poblacional.\n",
    "\n",
    "Hipótesis alternativa (Ha): La hipótesis alternativa afirma que al menos dos grupos tienen medias poblacionales diferentes. En otras palabras, al menos una de las medias de los grupos difiere de las demás.\n",
    "\n",
    "C)el valor p es muy pequeño (< 0.001). Esto sugiere que al menos uno de los Turnos tiene una media significativamente diferente de las otras categorías."
   ]
  },
  {
   "cell_type": "code",
   "execution_count": null,
   "id": "8b35f235",
   "metadata": {
    "vscode": {
     "languageId": "r"
    }
   },
   "outputs": [],
   "source": [
    "TukeyHSD(fm, \"basico$Turno\", conf.level = .95)"
   ]
  },
  {
   "attachments": {},
   "cell_type": "markdown",
   "id": "04bbf737",
   "metadata": {},
   "source": [
    "D)las diferencias significativas se encuentran en: \n",
    "DOBLE-DIURNO\n",
    "MAÑANA-DOBLE\n",
    "TARDE-DOBLE"
   ]
  },
  {
   "cell_type": "code",
   "execution_count": null,
   "id": "86c8a684",
   "metadata": {
    "vscode": {
     "languageId": "r"
    }
   },
   "outputs": [],
   "source": [
    "shapiro.test(basico$Promedio[basico$Turno == \"MAÑANA\"])\n",
    "shapiro.test(basico$Promedio[basico$Turno == \"TARDE\"])\n",
    "shapiro.test(basico$Promedio[basico$Turno == \"NOCHE\"])\n",
    "shapiro.test(basico$Promedio[basico$Turno == \"DOBLE\"])\n",
    "\n",
    "bartlett.test(fm$residuals ~ basico$Turno)  #PREGUNTAR la profe lo hace de esa forma pero \n",
    "bartlett.test(basico$Promedio ~ basico$Turno) #de esta manera devuelve los mismo resultado sigue estando bien?"
   ]
  },
  {
   "attachments": {},
   "cell_type": "markdown",
   "id": "6a435eee",
   "metadata": {},
   "source": [
    "E)el p valor de  bartlett.test da bien mayor a 0.05 por ende las varianzas son iguales de igual manera no son normales y se procede a usar test no parametrico:"
   ]
  },
  {
   "cell_type": "code",
   "execution_count": null,
   "id": "980fc5da",
   "metadata": {
    "vscode": {
     "languageId": "r"
    }
   },
   "outputs": [],
   "source": [
    "resultado <- kruskal.test(basico$Promedio, basico$Turno)\n",
    "resultado"
   ]
  },
  {
   "attachments": {},
   "cell_type": "markdown",
   "id": "f97f3e1a",
   "metadata": {},
   "source": [
    "Kruskal-Wallis\n",
    "H0: todas las muestras provienen de la misma población (distribución).\n",
    "HA: Al menos una muestra proviene de una población con una distribución distinta.\n",
    "\n",
    "se rechaza H0. En conclusion al menos una muestra proviene de una poblacion con una distribución distinta ya que el p valor es muy bajo."
   ]
  },
  {
   "cell_type": "code",
   "execution_count": null,
   "id": "a701e860",
   "metadata": {
    "vscode": {
     "languageId": "r"
    }
   },
   "outputs": [],
   "source": [
    "qchisq(0.05, 3-1, lower.tail = F) #la parte de 3-1 no entiendo como funciona¿es necesario este analisis de chi-squared si ya el p valor me dio bajo?"
   ]
  },
  {
   "cell_type": "code",
   "execution_count": null,
   "id": "9c819060",
   "metadata": {
    "vscode": {
     "languageId": "r"
    }
   },
   "outputs": [],
   "source": [
    "pairwise.wilcox.test(basico$Promedio, basico$Turno)"
   ]
  },
  {
   "attachments": {},
   "cell_type": "markdown",
   "id": "1431ac37",
   "metadata": {},
   "source": [
    "# ejercicio 4 para secundaria ciclo superior matematica"
   ]
  },
  {
   "cell_type": "code",
   "execution_count": null,
   "id": "be063a5f",
   "metadata": {
    "vscode": {
     "languageId": "r"
    }
   },
   "outputs": [],
   "source": [
    "superior = filter(\n",
    "  bd,\n",
    "  Modalidad == \"Secundaria\" &\n",
    "  AñoCursado %in% c(\"4\", \"5\", \"6\") &\n",
    "#   Turno != \"ROTATIVO\" &\n",
    "#   Turno != \"SIN DATOS\" &\n",
    "  Asignatura == \"MATEMATICA\"\n",
    "    \n",
    ")\n",
    "\n",
    "table(superior$Turno)\n",
    "#----------------------------------------\n",
    "boxplot(superior$Promedio ~ superior$Turno, col = c(\"#00BFFF\", \"#FFFF00\",\"#FFA500\", \"#00BFFF\"), ylab = \"promedio\", xlab = \"turno\")\n",
    "title(\"Secundaria ciclo superior Matematica\", line = 1.5)\n",
    "#--------------------------------------\n",
    "\n",
    "tabla_resumen <- superior %>% \n",
    "  group_by(Turno) %>% \n",
    "  summarise(median = round(median(Promedio),1),\n",
    "            IQR = round(IQR(Promedio),1),\n",
    "            datos = n())\n",
    "tabla_resumen\n",
    "\n",
    "#---------------------------------------\n",
    "shapiro.test(superior$Promedio[superior$Turno == \"MAÑANA\"])\n",
    "shapiro.test(superior$Promedio[superior$Turno == \"TARDE\"])\n",
    "shapiro.test(superior$Promedio[superior$Turno == \"DOBLE\"])\n",
    "\n",
    "bartlett.test(superior$Promedio ~ superior$Turno)\n",
    "\n",
    "#---------------------------------------\n",
    "resultado <- kruskal.test(superior$Promedio, superior$Turno)\n",
    "resultado"
   ]
  },
  {
   "attachments": {},
   "cell_type": "markdown",
   "id": "d569230a",
   "metadata": {},
   "source": [
    "exploramos los datos de la muestra mediante boxplot y descriptivos, se observa en los valores promedios y de variabilidad un mismo comportamiento, solo el turno DOBLE tiene una mediana menor y tambien menor variabilidad.\n",
    "la normalidad da valores muy bajos asi que se utiliza test no parametrico\n",
    "kruskal.test da 0.159 por lo tanto no  se rechaza la hipotesis nula. todas las muestras provienen de la misma población (distribución).\n",
    "\n",
    "kruskal.test\n",
    "H0: todas las muestras provienen de la misma población (distribución).\n",
    "HA: Al menos una muestra proviene de una población con una distribución distinta."
   ]
  },
  {
   "attachments": {},
   "cell_type": "markdown",
   "id": "09d10039",
   "metadata": {},
   "source": [
    "# ejercicio 4 para secundaria ciclo basico lengua y literatura"
   ]
  },
  {
   "cell_type": "code",
   "execution_count": null,
   "id": "87df8898",
   "metadata": {
    "vscode": {
     "languageId": "r"
    }
   },
   "outputs": [],
   "source": [
    "basico = filter(\n",
    "  bd,\n",
    "  Modalidad == \"Secundaria\" &\n",
    "  AñoCursado %in% c(\"1\", \"2\", \"3\") &\n",
    "  Asignatura == \"LENGUA Y LITERATURA\" &\n",
    "  Turno %in% c(\"MAÑANA\", \"TARDE\", \"NOCHE\", \"DOBLE\")\n",
    "    \n",
    ")\n",
    "\n",
    "table(basico$Turno)\n",
    "#----------------------------------------\n",
    "boxplot(basico$Promedio ~ basico$Turno, col = c(\"#00BFFF\", \"#FFFF00\",\"#FFA500\", \"#00FF00\" , \"#FF00FF\"), ylab = \"promedio\", xlab = \"turno\")\n",
    "title(\"Secundaria ciclo basico lengua y literatura\", line = 1.5)\n",
    "#--------------------------------------\n",
    "\n",
    "tabla_resumen <- basico %>% \n",
    "  group_by(Turno) %>% \n",
    "  summarise(median = round(median(Promedio),1),\n",
    "            IQR = round(IQR(Promedio),1),\n",
    "            datos = n())\n",
    "tabla_resumen\n",
    "\n",
    "#---------------------------------------\n",
    "shapiro.test(basico$Promedio[basico$Turno == \"MAÑANA\"])\n",
    "shapiro.test(basico$Promedio[basico$Turno == \"TARDE\"])\n",
    "shapiro.test(basico$Promedio[basico$Turno == \"DOBLE\"])\n",
    "shapiro.test(basico$Promedio[basico$Turno == \"NOCHE\"])\n",
    "\n",
    "bartlett.test(basico$Promedio ~ basico$Turno)\n",
    "\n",
    "#---------------------------------------\n",
    "resultado <- kruskal.test(basico$Promedio, basico$Turno)\n",
    "resultado\n",
    "pairwise.wilcox.test(basico$Promedio, basico$Turno)"
   ]
  },
  {
   "attachments": {},
   "cell_type": "markdown",
   "id": "0b6f1ced",
   "metadata": {},
   "source": [
    "exploramos los datos de la muestra mediante boxplot y descriptivos, se observa en los valores promedios y de variabilidad, nos encontramos que turno noche presenta mayor variabilidad, las medianas son diferentes entre si.\n",
    "la normalidad da valores muy bajos asi que se utiliza test no parametrico\n",
    "kruskal.test da 9.677e-08 por lo tanto  se rechaza la hipotesis nula. Al menos una muestra proviene de una población con una distribución distinta.\n",
    "\n",
    "kruskal.test\n",
    "H0: todas las muestras provienen de la misma población (distribución).\n",
    "HA: Al menos una muestra proviene de una población con una distribución distinta."
   ]
  },
  {
   "attachments": {},
   "cell_type": "markdown",
   "id": "9704369d",
   "metadata": {},
   "source": [
    "# ejercicio 4 para secundaria ciclo superior lengua y literatura"
   ]
  },
  {
   "cell_type": "code",
   "execution_count": null,
   "id": "434b13f9",
   "metadata": {
    "vscode": {
     "languageId": "r"
    }
   },
   "outputs": [],
   "source": [
    "superior = filter(\n",
    "  bd,\n",
    "  Modalidad == \"Secundaria\" &\n",
    "  AñoCursado %in% c(\"4\", \"5\", \"6\") &\n",
    "      Turno != \"DIURNO\" &\n",
    "  Asignatura == \"LENGUA Y LITERATURA\"\n",
    "    \n",
    ")\n",
    "\n",
    "table(superior$Turno)\n",
    "#----------------------------------------\n",
    "boxplot(superior$Promedio ~ superior$Turno, col = c(\"#00BFFF\", \"#FFFF00\",\"#FFA500\", \"#00FF00\" , \"#FF00FF\"), ylab = \"promedio\", xlab = \"turno\")\n",
    "title(\"Secundaria ciclo superior lengua y literatura\", line = 1.5)\n",
    "\n",
    "#--------------------------------------\n",
    "\n",
    "tabla_resumen <- superior %>% \n",
    "  group_by(Turno) %>% \n",
    "  summarise(median = round(median(Promedio),1),\n",
    "            IQR = round(IQR(Promedio),1),\n",
    "            datos = n())\n",
    "tabla_resumen\n",
    "\n",
    "#---------------------------------------\n",
    "shapiro.test(superior$Promedio[superior$Turno == \"MAÑANA\"])\n",
    "shapiro.test(superior$Promedio[superior$Turno == \"TARDE\"])\n",
    "shapiro.test(superior$Promedio[superior$Turno == \"DOBLE\"])\n",
    "\n",
    "bartlett.test(superior$Promedio ~ superior$Turno)\n",
    "\n",
    "#---------------------------------------\n",
    "resultado <- kruskal.test(superior$Promedio, superior$Turno)\n",
    "resultado\n",
    "pairwise.wilcox.test(superior$Promedio, superior$Turno)"
   ]
  },
  {
   "attachments": {},
   "cell_type": "markdown",
   "id": "ddaa7cb1",
   "metadata": {},
   "source": [
    "exploramos los datos de la muestra mediante boxplot y descriptivos, se observa en los valores promedios y de variabilidad, nos encontramos que turno DOBLE presenta menor variabilidad que el resto y su mediana difiere de las otras. aunque en el box plot mañana y tarde tengan el mismo comportamiento su p valor entre ellas es menor a 0.05\n",
    "la normalidad da valores muy bajos asi que se utiliza test no parametrico\n",
    "kruskal.test da 0.0088 por lo tanto  se rechaza la hipotesis nula. Al menos una muestra proviene de una población con una distribución distinta.\n",
    "\n",
    "kruskal.test\n",
    "H0: todas las muestras provienen de la misma población (distribución).\n",
    "HA: Al menos una muestra proviene de una población con una distribución distinta."
   ]
  },
  {
   "attachments": {},
   "cell_type": "markdown",
   "id": "ec0089cd",
   "metadata": {},
   "source": [
    "# 5\n",
    "Compara el desempeño de los tres trimestres en Matemática de primer año:"
   ]
  },
  {
   "cell_type": "code",
   "execution_count": null,
   "id": "f5ae41de",
   "metadata": {
    "vscode": {
     "languageId": "r"
    }
   },
   "outputs": [],
   "source": [
    "library(dplyr)\n",
    "library(nortest)\n",
    "library('DescTools')"
   ]
  },
  {
   "cell_type": "code",
   "execution_count": null,
   "id": "53691f0d",
   "metadata": {
    "vscode": {
     "languageId": "r"
    }
   },
   "outputs": [],
   "source": [
    "matPrimero <- bd %>% filter(Modalidad == 'Secundaria' & AñoCursado == 1 & Asignatura == 'MATEMATICA') %>% select('Documento', 'NotasPrimerT', 'NotasSegundoT', 'NotasTercerT') \n",
    "matPrimero$NotasPrimerT <- as.numeric(matPrimero$NotasPrimerT)\n",
    "matPrimero$NotasSegundoT <- as.numeric(matPrimero$NotasSegundoT)\n",
    "matPrimero$NotasTercerT <- as.numeric(matPrimero$NotasTercerT)\n",
    "\n",
    "matPrimero2 <- select(matPrimero, -c(Documento))\n",
    "\n",
    "head(matPrimero)\n",
    "head(matPrimero2)"
   ]
  },
  {
   "attachments": {},
   "cell_type": "markdown",
   "id": "29e64f6b",
   "metadata": {},
   "source": [
    "Obtengo gráfica y descriptivos de los datos."
   ]
  },
  {
   "cell_type": "code",
   "execution_count": null,
   "id": "252c149f",
   "metadata": {
    "vscode": {
     "languageId": "r"
    }
   },
   "outputs": [],
   "source": [
    "summary(matPrimero2)\n",
    "\n",
    "boxplot(\n",
    "    matPrimero2,\n",
    "    main = ('Notas de Matemática por trimestres de primer año \n",
    "    en secundarias del dpto Colón'),\n",
    "    col = c('#c63df0', '#b7f625', '#38efd3')\n",
    ")"
   ]
  },
  {
   "attachments": {},
   "cell_type": "markdown",
   "id": "078b0ee0",
   "metadata": {},
   "source": [
    "Se observa que la variabilidad de los datos en los tres trimestres es idéntica entre si. Además tanto la media como mediana tienen valores semejantes para los dos primeros trimestres, no es el caso para el tercero donde la mediana toma un valor superior."
   ]
  },
  {
   "attachments": {},
   "cell_type": "markdown",
   "id": "f1573104",
   "metadata": {},
   "source": [
    "Se procede a verificar supuestos de normalidad y homocedasticidad de los datos."
   ]
  },
  {
   "cell_type": "code",
   "execution_count": null,
   "id": "baae3572",
   "metadata": {
    "vscode": {
     "languageId": "r"
    }
   },
   "outputs": [],
   "source": [
    "lillie.test(matPrimero$NotasPrimerT)\n",
    "lillie.test(matPrimero$NotasSegundoT)\n",
    "lillie.test(matPrimero$NotasTercerT)"
   ]
  },
  {
   "attachments": {},
   "cell_type": "markdown",
   "id": "fa15666c",
   "metadata": {},
   "source": [
    "Los datos no siguen una distribución normal.\n",
    "Se realiza un test de Friedman\n",
    "\n",
    "H0: No existen diferencias significativas entre los diferentes trimestres.\n",
    "\n",
    "Ha: Al menos un trimestre difiere significativamente de los demás."
   ]
  },
  {
   "cell_type": "code",
   "execution_count": null,
   "id": "a1b7049f",
   "metadata": {
    "vscode": {
     "languageId": "r"
    }
   },
   "outputs": [],
   "source": [
    "dim(matPrimero)"
   ]
  },
  {
   "cell_type": "code",
   "execution_count": null,
   "id": "585e41fb",
   "metadata": {
    "vscode": {
     "languageId": "r"
    }
   },
   "outputs": [],
   "source": [
    "notas <- as.numeric(\n",
    "    c(\n",
    "        matPrimero$NotasPrimerT,\n",
    "        matPrimero$NotasSegundoT,\n",
    "        matPrimero$NotasTercerT\n",
    "    )\n",
    ")\n",
    "\n",
    "trimestre <- as.factor(\n",
    "    c(\n",
    "        rep(\"primero\",length(matPrimero$NotasPrimerT)),\n",
    "        rep(\"segundo\",length(matPrimero$NotasSegundoT)),\n",
    "        rep(\"tercero\",length(matPrimero$NotasTercerT))\n",
    "    )\n",
    ")\n",
    "\n",
    "datos <- data.frame(dni=rep(1:1231,3), notas, trimestre)\n",
    "\n",
    "\n",
    "head(datos)\n",
    "by(data = datos$notas, INDICES = datos$trimestre, FUN = median)\n",
    "\n",
    "friedman.test(notas ~ trimestre | dni, data=datos)"
   ]
  },
  {
   "attachments": {},
   "cell_type": "markdown",
   "id": "fbc3cf12",
   "metadata": {},
   "source": [
    "Con un valor p = 0.048 se rechaza la hipótesis nula.\n",
    "\n",
    "Procedo a determinar dónde se encuentran diferencias utilizando el test correspondiente."
   ]
  },
  {
   "cell_type": "code",
   "execution_count": null,
   "id": "2f01376e",
   "metadata": {
    "vscode": {
     "languageId": "r"
    }
   },
   "outputs": [],
   "source": [
    "pairwise.wilcox.test(datos$notas, datos$trimestre, paired = TRUE)"
   ]
  },
  {
   "attachments": {},
   "cell_type": "markdown",
   "id": "7af0df5e",
   "metadata": {},
   "source": [
    "# TP7"
   ]
  },
  {
   "attachments": {},
   "cell_type": "markdown",
   "id": "eb23c968",
   "metadata": {},
   "source": [
    "# 1"
   ]
  },
  {
   "attachments": {},
   "cell_type": "markdown",
   "id": "a2577355",
   "metadata": {},
   "source": [
    "b)Variable “Desempeño”: esta variable clasifica las notas obtenidas, como insuficiente (menos de 4), Regular (mayor igual a 4 menor que 6), Aprobado (mayor igual a 6 menor que 7), Bueno (mayor o igual a 7 menor que 8), Muy Bueno (mayor o igual a 8 menor que 9), Distinguido (mayor o igual a 9 y menor o igual a 10)."
   ]
  },
  {
   "cell_type": "code",
   "execution_count": null,
   "id": "52c0a736",
   "metadata": {
    "vscode": {
     "languageId": "r"
    }
   },
   "outputs": [],
   "source": [
    "library(gmodels)\n",
    "library(\"DescTools\")\n",
    "\n",
    "bd_new <- bd %>% mutate(Resultado = case_when(\n",
    "    Promedio >= 6 & NotasTercerT >= 6 ~ \"Aprobado\",\n",
    "    Promedio < 6 | NotasTercerT < 6 ~ \"Rinde\",\n",
    "    TRUE ~ \"sin registro completo\"\n",
    "))"
   ]
  },
  {
   "cell_type": "code",
   "execution_count": null,
   "id": "a207ff48",
   "metadata": {
    "vscode": {
     "languageId": "r"
    }
   },
   "outputs": [],
   "source": [
    "ftable(bd_new$Resultado)\n",
    "ftable(bd$Resultado)"
   ]
  },
  {
   "cell_type": "code",
   "execution_count": null,
   "id": "c439e671",
   "metadata": {
    "vscode": {
     "languageId": "r"
    }
   },
   "outputs": [],
   "source": [
    "bd_new <- bd %>% mutate(Desempeño = case_when(\n",
    "  Promedio < 6 ~ \"desaprobado\",\n",
    "  Promedio < 7 & Promedio >= 6 ~ \"aprobado\",\n",
    "  Promedio < 8 & Promedio >= 7 ~ \"bueno\",\n",
    "  Promedio < 9 & Promedio >= 8 ~ \"muy bueno\",\n",
    "  Promedio <= 10 & Promedio >= 9 ~ \"distinguido\",\n",
    "  TRUE ~ \"sin registro completo\"\n",
    "))"
   ]
  },
  {
   "attachments": {},
   "cell_type": "markdown",
   "id": "71dff63d",
   "metadata": {},
   "source": [
    "c)Variable “Eximido”: esta variable mide si un estudiante no se llevó ninguna materia, se llevó entre 1 y 3 materias, se llevó más de tres materias."
   ]
  },
  {
   "cell_type": "code",
   "execution_count": null,
   "id": "f4e0d968",
   "metadata": {
    "vscode": {
     "languageId": "r"
    }
   },
   "outputs": [],
   "source": [
    "bd_new <- bd_new %>%\n",
    "  group_by(Documento) %>%\n",
    "  mutate(CantidadRinde = sum(str_detect(Resultado, regex(\"Rinde\", ignore_case = TRUE))))\n",
    "\n",
    "bd_new <- bd_new %>% mutate(Eximido = case_when(\n",
    "  CantidadRinde == 0 ~ \"Eximido\",\n",
    "  CantidadRinde < 4 & Promedio >= 1 ~ \"ParcialmenteEximido\",\n",
    "  CantidadRinde > 3  ~ \"NoEximido\",\n",
    "  TRUE ~ \"sin registro completo\"\n",
    "))"
   ]
  },
  {
   "cell_type": "code",
   "execution_count": null,
   "id": "0ff3b9d2",
   "metadata": {
    "vscode": {
     "languageId": "r"
    }
   },
   "outputs": [],
   "source": [
    "data <- subset(bd_new, select = -CantidadRinde)"
   ]
  },
  {
   "cell_type": "code",
   "execution_count": null,
   "id": "1809cadb",
   "metadata": {
    "vscode": {
     "languageId": "r"
    }
   },
   "outputs": [],
   "source": [
    "write.table(data, file = \"./data/bd_colon_limpia.txt\")"
   ]
  },
  {
   "attachments": {},
   "cell_type": "markdown",
   "id": "52d2ffba",
   "metadata": {},
   "source": [
    "# 2"
   ]
  },
  {
   "attachments": {},
   "cell_type": "markdown",
   "id": "c14bb9d6",
   "metadata": {},
   "source": [
    "Desempeño en ciclo basico  de Matemática Secundaria con Turno."
   ]
  },
  {
   "cell_type": "code",
   "execution_count": null,
   "id": "26389add",
   "metadata": {
    "vscode": {
     "languageId": "r"
    }
   },
   "outputs": [],
   "source": [
    "bd <- read.table(\"./data/bd_colon_limpia.txt\")\n",
    "bd$Turno = as.character(bd$Turno)"
   ]
  },
  {
   "cell_type": "code",
   "execution_count": null,
   "id": "48e8e9af",
   "metadata": {
    "vscode": {
     "languageId": "r"
    }
   },
   "outputs": [],
   "source": [
    "library(dplyr)\n",
    "x = filter(\n",
    "  bd,\n",
    "  Modalidad == \"Secundaria\" &\n",
    "  Asignatura == \"MATEMATICA\" &\n",
    "  AñoCursado %in% c(\"1\" , \"2\", \"3\") &\n",
    "  Turno %in% c(\"MAÑANA\" , \"TARDE\", \"NOCHE\"))"
   ]
  },
  {
   "cell_type": "code",
   "execution_count": null,
   "id": "d4d4dca2",
   "metadata": {
    "vscode": {
     "languageId": "r"
    }
   },
   "outputs": [],
   "source": [
    "library(gmodels)\n",
    "\n",
    "CrossTable(\n",
    "    x$Desempeño,\n",
    "    x$Turno,\n",
    "    digits=1,\n",
    "    prop.chisq = FALSE,\n",
    "    format=\"SPSS\"\n",
    ")"
   ]
  },
  {
   "cell_type": "code",
   "execution_count": null,
   "id": "a70ec9e1",
   "metadata": {
    "vscode": {
     "languageId": "r"
    }
   },
   "outputs": [],
   "source": [
    "mosaicplot(table(x$Turno, x$Desempeño),\n",
    "           main=\"Desempeño de los turnos en matemática primer año de secundaria\",\n",
    "           color =c(\"#6ee5c5\" ,\"#FFFF00\",\"#FFA500\", \"#9f50f3\" ),\n",
    "           border = \"black\",\n",
    "           xlab = \"Desempeño\", # label for x-axis\n",
    "          ylab = \"Es privada\", # label for y-axis\n",
    "           cex.axis=par(\"cex\"))"
   ]
  },
  {
   "cell_type": "code",
   "execution_count": null,
   "id": "1f3c4193",
   "metadata": {
    "vscode": {
     "languageId": "r"
    }
   },
   "outputs": [],
   "source": [
    "tabla_variables_fila<-round(prop.table( table(x$Turno, x$Desempeño),1)*100,1) \n",
    "tabla_variables_fila<-t(tabla_variables_fila)\n",
    "tabla_variables_fila\n",
    "\n",
    "bpc<-barplot(tabla_variables_fila,\n",
    "        main = \"Desempeño de los turnos en matemática primer año de secundaria\",\n",
    "        beside = TRUE, # Barras agrupadas\n",
    "        space = c(0.1, 2.5), # Espacio primer elemento es el espacio entre barras de cada grupo (0.1) y el segundo el espacio entre grupos (2.5).\n",
    "        ylim = c(0,64), \n",
    "        cex.axis = 1.2, #tamaño etiquetas eje y\n",
    "        cex.names=1.3, #tamaño etiqueta eje x\n",
    "        cex.main=1.2, #tamaño título gráfico\n",
    "        col=c(\"#65b9fe\",\"#64fed7\", \"#ab8cfe\", '#eef677', '#ffae57'),\n",
    "        #legend.text = rownames(tabla_variables_fila),\n",
    "        xlab = \"Turno\",\n",
    "        cex.lab=1.5, #tamaño  xlab ylab\n",
    "        ylab = \"Porcentaje\")\n",
    "#        col.lab = \"blue\") # Color xlab ylab\n",
    "             \n",
    "\n",
    "#leyenda\n",
    "legend(\"topright\", rownames(tabla_variables_fila),\n",
    "       title = \"Desempeño\", # Título\n",
    "       title.adj = 0.5,          # Ajuste horizontal del título\n",
    "       title.col = \"black\",       # Color del título\n",
    "       lty = c(1),\n",
    "       col=c(\"#65b9fe\",\"#64fed7\", \"#ab8cfe\", '#eef677', '#ffae57'),\n",
    "       lwd = 2,\n",
    "       cex = 1.0) # Cambiar el tamaño\n",
    "\n",
    "# valores sobre barras\n",
    "TC <- tabla_variables_fila\n",
    "text(bpc, TC+2.5,format(TC), cex=0.5)"
   ]
  },
  {
   "cell_type": "code",
   "execution_count": null,
   "id": "6c55994f",
   "metadata": {
    "vscode": {
     "languageId": "r"
    }
   },
   "outputs": [],
   "source": [
    "# La hipótesis que plantearemos será:\n",
    "\n",
    "#  H0: independencia\n",
    "#  H1: dependencia\n",
    "\n",
    "chi <-chisq.test(x$Desempeño, x$Turno)\n",
    "chi"
   ]
  },
  {
   "attachments": {},
   "cell_type": "markdown",
   "id": "93a76f87",
   "metadata": {},
   "source": [
    "no hay suficiente evidencia para rechazar la hipótesis nula y no se puede concluir una asociación significativa(independencia)."
   ]
  },
  {
   "attachments": {},
   "cell_type": "markdown",
   "id": "9d6e3e93",
   "metadata": {},
   "source": [
    "# 2\n",
    "Desempeño de Primer Año de Lengua Secundaria con Sector."
   ]
  },
  {
   "cell_type": "code",
   "execution_count": null,
   "id": "75c0cdbe",
   "metadata": {
    "vscode": {
     "languageId": "r"
    }
   },
   "outputs": [],
   "source": [
    "lengua_primero <- bd %>% filter(\n",
    "    Modalidad == 'Secundaria' &\n",
    "    AñoCursado == 1 &\n",
    "    Asignatura == 'LENGUA Y LITERATURA'\n",
    ") %>% select(\n",
    "    'Desempeño',\n",
    "    'EsPrivada'\n",
    ")"
   ]
  },
  {
   "cell_type": "code",
   "execution_count": null,
   "id": "3f5af95b",
   "metadata": {
    "vscode": {
     "languageId": "r"
    }
   },
   "outputs": [],
   "source": [
    "head(lengua_primero)"
   ]
  },
  {
   "cell_type": "code",
   "execution_count": null,
   "id": "3b3d13bd",
   "metadata": {
    "vscode": {
     "languageId": "r"
    }
   },
   "outputs": [],
   "source": [
    "library(gmodels)\n",
    "\n",
    "CrossTable(\n",
    "    lengua_primero$EsPrivada,\n",
    "    lengua_primero$Desempeño,\n",
    "    digits=1,\n",
    "    prop.chisq = FALSE,\n",
    "    format=\"SPSS\"\n",
    ")"
   ]
  },
  {
   "cell_type": "code",
   "execution_count": null,
   "id": "e10e0151",
   "metadata": {
    "vscode": {
     "languageId": "r"
    }
   },
   "outputs": [],
   "source": [
    "ftable(lengua_primero$Desempeño)"
   ]
  },
  {
   "cell_type": "code",
   "execution_count": null,
   "id": "0828d53b",
   "metadata": {
    "vscode": {
     "languageId": "r"
    }
   },
   "outputs": [],
   "source": [
    "#lengua_primero$Desempeño<-factor(\n",
    "#    lengua_primero$Desempeño, levels = c(\n",
    "#        'bajo',\n",
    "#        'medio',\n",
    "#        'alto'))\n",
    "\n",
    "tabla_variables_fila<-round(prop.table( table(lengua_primero$EsPrivada, lengua_primero$Desempeño),1)*100,1) \n",
    "tabla_variables_fila<-t(tabla_variables_fila)\n",
    "tabla_variables_fila"
   ]
  },
  {
   "cell_type": "code",
   "execution_count": null,
   "id": "fe124a31",
   "metadata": {
    "vscode": {
     "languageId": "r"
    }
   },
   "outputs": [],
   "source": [
    "bpc<-barplot(tabla_variables_fila,\n",
    "        main = \"Desempeño de estudiantes en Lengua y Literatura \n",
    "           de primer año de Secundaria en Depto Colón\",\n",
    "        beside = TRUE, # Barras agrupadas\n",
    "        space = c(0.1, 2.5), # Espacio primer elemento es el espacio entre barras de cada grupo (0.1) y el segundo el espacio entre grupos (2.5).\n",
    "        ylim = c(0,60), \n",
    "        cex.axis = 1.2, #tamaño etiquetas eje y\n",
    "        cex.names=1.5, #tamaño etiqueta eje x\n",
    "        cex.main=1.5, #tamaño título gráfico\n",
    "        col = c(\"#65b9fe\",\"#64fed7\", \"#ab8cfe\", '#eef677', '#ffae57'),\n",
    "        #legend.text = rownames(tabla_variables_fila),\n",
    "        xlab = \"Sector\",\n",
    "        names = c('Público', 'Privado'),\n",
    "        cex.lab=1, #tamaño  xlab ylab\n",
    "        ylab = \"Porcentaje\",\n",
    "       col.lab = \"blue\") # Color xlab ylab\n",
    "\n",
    "# valores sobre barras\n",
    "TC <- tabla_variables_fila\n",
    "text(bpc, TC+2.5,format(TC), cex=1.2)\n",
    "\n",
    "legend(\"topright\", rownames(tabla_variables_fila),\n",
    "       title = \"Desempeño\", # Título\n",
    "       title.adj = 0.5,          # Ajuste horizontal del título\n",
    "       title.col = \"black\",       # Color del título\n",
    "       lty = c(1),\n",
    "       col=c(\"#65b9fe\",\"#64fed7\", \"#ab8cfe\", '#eef677', '#ffae57'),\n",
    "       lwd = 2,\n",
    "       cex = 1) # Cambiar el tamaño\n",
    "\n",
    "# valores sobre barras\n",
    "TC <- tabla_variables_fila\n",
    "text(bpc, TC+2.5,format(TC), cex=1.2)"
   ]
  },
  {
   "cell_type": "code",
   "execution_count": null,
   "id": "166c5c9d",
   "metadata": {
    "vscode": {
     "languageId": "r"
    }
   },
   "outputs": [],
   "source": [
    "# La hipótesis que plantearemos será:\n",
    "\n",
    "#  H0: independencia\n",
    "#  H1: dependencia\n",
    "\n",
    "chi <-chisq.test(lengua_primero$Desempeño, lengua_primero$EsPrivada)\n",
    "chi\n",
    "\n",
    "round(chi$stdres,1)\n"
   ]
  },
  {
   "attachments": {},
   "cell_type": "markdown",
   "id": "bf9d3977",
   "metadata": {},
   "source": [
    "con un p valor 0.02312 se rechaza H0, existe dependencia entre las variables"
   ]
  },
  {
   "cell_type": "code",
   "execution_count": null,
   "id": "6ea7aede",
   "metadata": {
    "vscode": {
     "languageId": "r"
    }
   },
   "outputs": [],
   "source": [
    "library(\"DescTools\")\n",
    "# con esto se mide la potencia de relacion que existe entre las variables, el maximo es 0.6\n",
    "CramerV(lengua_primero$EsPrivada, lengua_primero$Desempeño) #max 0.6  \n",
    "ContCoef(lengua_primero$EsPrivada, lengua_primero$Desempeño)\n",
    "ContCoef(lengua_primero$EsPrivada, lengua_primero$Desempeño, correct = TRUE)"
   ]
  },
  {
   "attachments": {},
   "cell_type": "markdown",
   "id": "8b3b3d1a",
   "metadata": {},
   "source": [
    "la relacion es muy baja"
   ]
  },
  {
   "attachments": {},
   "cell_type": "markdown",
   "id": "c51268a0",
   "metadata": {},
   "source": [
    "\n",
    "# 2\n",
    "- Desempeño de Primer Año de Matemática Secundaria con Desempeño de\n",
    "Primer año de Lengua Secundaria."
   ]
  },
  {
   "cell_type": "code",
   "execution_count": null,
   "id": "1347f391",
   "metadata": {
    "vscode": {
     "languageId": "r"
    }
   },
   "outputs": [],
   "source": [
    "lengua_matematica <- bd %>% filter(\n",
    "    Modalidad == 'Secundaria' &\n",
    "    AñoCursado == 1 &\n",
    "    Asignatura %in% c('LENGUA Y LITERATURA', 'MATEMATICA')\n",
    ") %>% select(\n",
    "    'Documento',\n",
    "    'Desempeño',\n",
    "    'Asignatura'\n",
    ")\n",
    "\n",
    "head(lengua_matematica)"
   ]
  },
  {
   "cell_type": "code",
   "execution_count": null,
   "id": "f9290e8e",
   "metadata": {
    "vscode": {
     "languageId": "r"
    }
   },
   "outputs": [],
   "source": [
    "CrossTable(\n",
    "    lengua_matematica$Asignatura,\n",
    "    lengua_matematica$Desempeño,\n",
    "    digits=1,\n",
    "    prop.chisq = FALSE,\n",
    "    format=\"SPSS\"\n",
    ")"
   ]
  },
  {
   "cell_type": "code",
   "execution_count": null,
   "id": "b2b3e751",
   "metadata": {
    "vscode": {
     "languageId": "r"
    }
   },
   "outputs": [],
   "source": [
    "# La hipótesis que plantearemos será:\n",
    "\n",
    "#  H0: independencia\n",
    "#  H1: dependencia\n",
    "\n",
    "chi <-chisq.test(lengua_matematica$Asignatura, lengua_matematica$Desempeño)\n",
    "chi\n",
    "\n",
    "round(chi$stdres,1)"
   ]
  },
  {
   "attachments": {},
   "cell_type": "markdown",
   "id": "74c67e41",
   "metadata": {},
   "source": [
    "al analizar los resultados que dio el test Pearson's Chi-squared test con un p valor menor a 0.05.El valor p extremadamente bajo sugiere que hay una asociación significativa entre las variables"
   ]
  },
  {
   "attachments": {},
   "cell_type": "markdown",
   "id": "b39c9aa7",
   "metadata": {},
   "source": [
    "# 2 "
   ]
  },
  {
   "attachments": {},
   "cell_type": "markdown",
   "id": "a3f7d0be",
   "metadata": {},
   "source": [
    "Resultado en ciclo basico de Matemática Secundaria con tipo de escuela\n",
    "(Común- Técnica- Agrotécnica)"
   ]
  },
  {
   "cell_type": "code",
   "execution_count": null,
   "id": "e2ab9b00",
   "metadata": {
    "vscode": {
     "languageId": "r"
    }
   },
   "outputs": [],
   "source": [
    "secundaria_matematica = filter(\n",
    "  bd,\n",
    "  Modalidad == \"Secundaria\" &\n",
    "  Asignatura == \"MATEMATICA\" &\n",
    "#   AñoCursado == \"1\"\n",
    "    AñoCursado %in% c(\"1\", \"2\", \"3\")\n",
    "    )"
   ]
  },
  {
   "cell_type": "code",
   "execution_count": null,
   "id": "ece468db",
   "metadata": {
    "vscode": {
     "languageId": "r"
    }
   },
   "outputs": [],
   "source": [
    "CrossTable(\n",
    "    secundaria_matematica$Resultado,\n",
    "    secundaria_matematica$ModEnsenanza,\n",
    "    digits=1,\n",
    "    prop.chisq = FALSE,\n",
    "    format=\"SPSS\"\n",
    ")"
   ]
  },
  {
   "cell_type": "code",
   "execution_count": null,
   "id": "2f1bb44b",
   "metadata": {
    "vscode": {
     "languageId": "r"
    }
   },
   "outputs": [],
   "source": [
    "tabla_variables_fila<-round(prop.table( table(secundaria_matematica$ModEnsenanza, secundaria_matematica$Resultado),1)*100,1) \n",
    "tabla_variables_fila<-t(tabla_variables_fila)\n",
    "tabla_variables_fila\n",
    "\n",
    "bpc<-barplot(tabla_variables_fila,\n",
    "        main = \"Resultado en ciclo basico de Matemática Secundaria con tipo de escuela\",\n",
    "        beside = TRUE, # Barras agrupadas\n",
    "        space = c(0.1, 2.5), # Espacio primer elemento es el espacio entre barras de cada grupo (0.1) y el segundo el espacio entre grupos (2.5).\n",
    "        ylim = c(0,70), \n",
    "        cex.axis = 1.2, #tamaño etiquetas eje y\n",
    "        cex.names=1.3, #tamaño etiqueta eje x\n",
    "        cex.main=1.1, #tamaño título gráfico\n",
    "        col=c(\"#65b9fe\",\"#ab8cfe\"),\n",
    "        #legend.text = rownames(tabla_variables_fila),\n",
    "        xlab = \"Tipo de escuela\",\n",
    "        cex.lab=1.5, #tamaño  xlab ylab\n",
    "        ylab = \"Porcentaje\")\n",
    "#        col.lab = \"blue\") # Color xlab ylab\n",
    "             \n",
    "\n",
    "#leyenda\n",
    "legend(\"topright\", rownames(tabla_variables_fila),\n",
    "       title = \"Resultado\", # Título\n",
    "       title.adj = 0.9,          # Ajuste horizontal del título\n",
    "       title.col = \"black\",       # Color del título\n",
    "       lty = c(1),\n",
    "       col=c(\"#65b9fe\",\"#ab8cfe\"),\n",
    "       lwd = 2,\n",
    "       cex = 0.5) # Cambiar el tamaño\n",
    "\n",
    "# valores sobre barras\n",
    "TC <- tabla_variables_fila\n",
    "text(bpc, TC+2.5,format(TC), cex=1.3)"
   ]
  },
  {
   "cell_type": "code",
   "execution_count": null,
   "id": "6cb1c551",
   "metadata": {
    "vscode": {
     "languageId": "r"
    }
   },
   "outputs": [],
   "source": [
    "chi <-chisq.test(secundaria_matematica$Resultado, secundaria_matematica$ModEnsenanza)\n",
    "chi\n",
    "# RESIDUOS CORREGIDOS O AJUSTADOS si esta entre +-1.96 no hay dependencia\n",
    "round(chi$stdres,1)"
   ]
  },
  {
   "attachments": {},
   "cell_type": "markdown",
   "id": "49f5ee02",
   "metadata": {},
   "source": [
    "al analizar los resultados que dio el test Pearson's Chi-squared test con un p valor menor a 0.05.El valor p extremadamente bajo sugiere que hay una asociación significativa entre las variables "
   ]
  },
  {
   "cell_type": "code",
   "execution_count": null,
   "id": "9714e264",
   "metadata": {
    "vscode": {
     "languageId": "r"
    }
   },
   "outputs": [],
   "source": [
    "chi$observed #valores observados\n",
    "chi$expected #valores esperados"
   ]
  },
  {
   "cell_type": "code",
   "execution_count": null,
   "id": "38e3cf9e",
   "metadata": {
    "vscode": {
     "languageId": "r"
    }
   },
   "outputs": [],
   "source": [
    "# con esto se mide la de relacion que existe entre las variables, el maximo es 0.6\n",
    "CramerV(secundaria_matematica$Resultado, secundaria_matematica$ModEnsenanza) #max 0.6  \n",
    "ContCoef(secundaria_matematica$Resultado, secundaria_matematica$ModEnsenanza)\n",
    "ContCoef(secundaria_matematica$Resultado, secundaria_matematica$ModEnsenanza, correct = TRUE)"
   ]
  },
  {
   "attachments": {},
   "cell_type": "markdown",
   "id": "9c45d7f3",
   "metadata": {},
   "source": [
    "existe poca relacion de todas forma se procede con el analisis "
   ]
  },
  {
   "cell_type": "code",
   "execution_count": null,
   "id": "f3bd308a",
   "metadata": {
    "vscode": {
     "languageId": "r"
    }
   },
   "outputs": [],
   "source": [
    "prop.test(x=c(73,1635,316), n=c(183,2576,500), alternative=\"two.side\", conf.level=0.95, correct=FALSE)"
   ]
  },
  {
   "cell_type": "code",
   "execution_count": null,
   "id": "e6dd1165",
   "metadata": {
    "vscode": {
     "languageId": "r"
    }
   },
   "outputs": [],
   "source": [
    "turnos_matematica_tabla <- secundaria_matematica %>%\n",
    "  ungroup() %>%\n",
    "  select(Resultado, ModEnsenanza) %>%\n",
    "  table()\n",
    "turnos_matematica_tabla"
   ]
  },
  {
   "cell_type": "code",
   "execution_count": null,
   "id": "a6b97e5a",
   "metadata": {
    "vscode": {
     "languageId": "r"
    }
   },
   "outputs": [],
   "source": [
    "# tabla de contigencia con marginales fila y columna\n",
    "tur_mat_contigencia<-cbind(turnos_matematica_tabla,\"Total\"=margin.table(turnos_matematica_tabla, 1))\n",
    "tur_mat_contigencia<-rbind(tur_mat_contigencia,\"Total\"=margin.table(tur_mat_contigencia, 2))\n",
    "tur_mat_contigencia"
   ]
  },
  {
   "cell_type": "code",
   "execution_count": null,
   "id": "d1a84840",
   "metadata": {
    "vscode": {
     "languageId": "r"
    }
   },
   "outputs": [],
   "source": [
    "Razones_condicionales<-round(tur_mat_contigencia[1,]/tur_mat_contigencia[2,],1)\n",
    "Razones_condicionales\n",
    "\n",
    "tur_mat_contigencia<-rbind(tur_mat_contigencia,Razones_condicionales)\n",
    "tur_mat_contigencia"
   ]
  },
  {
   "cell_type": "code",
   "execution_count": null,
   "id": "dd8ab715",
   "metadata": {
    "vscode": {
     "languageId": "r"
    }
   },
   "outputs": [],
   "source": [
    "Agrotécnica_Técnica<-round(tur_mat_contigencia[4,1]/tur_mat_contigencia[4,3],1)\n",
    "print(c(\"Agrotécnica_Técnica\",Agrotécnica_Técnica))\n",
    "Agrotécnica_Comun<-round(tur_mat_contigencia[4,1]/tur_mat_contigencia[4,2],1)\n",
    "print(c(\"Agrotécnica_Comun\",Agrotécnica_Comun))\n",
    "Comun_Técnica<-round(tur_mat_contigencia[4,2]/tur_mat_contigencia[4,3],1)\n",
    "print(c(\"Comun_Técnica\",Comun_Técnica))"
   ]
  },
  {
   "attachments": {},
   "cell_type": "markdown",
   "id": "fae81f4d",
   "metadata": {},
   "source": [
    "analisis del Resultado en ciclo basico de Matemática Secundaria con tipo de escuela (Común- Técnica- Agrotécnica). al comparar la variable resultado de los diferentes tipos de escuelas en los boxplot se ve como Comun y tecnica se comportan de la misma manera en cambio Agrotecnica tiene peores notas, al tenes mayor porcentaje en rinde y menor en aprobados. \n",
    "\n",
    "se realiza test Pearson's Chi-squared que da  un p valor 1.477e-09.El valor p extremadamente bajo sugiere que hay una asociación significativa entre las variables y se rechaza H0\n",
    "\n",
    "con CramerV se mide la de relacion que existe entre las variables, su valor es 0.11170  y en ContCoef : 0.157000455. su relacion es un poco baja\n",
    "\n",
    "\n",
    "\n"
   ]
  },
  {
   "attachments": {},
   "cell_type": "markdown",
   "id": "6706b354",
   "metadata": {},
   "source": [
    "# TP8"
   ]
  },
  {
   "attachments": {},
   "cell_type": "markdown",
   "id": "5ff30ece",
   "metadata": {},
   "source": [
    "# 1.\n",
    "Realice un Box Plot comparativo que muestre las notas de matemática de los diferentes años de secundaria, diferenciados por sector. En caso de observar diferencias, realice un contraste que permita medir si las diferencias son significativas."
   ]
  },
  {
   "cell_type": "code",
   "execution_count": null,
   "id": "b8072630",
   "metadata": {
    "vscode": {
     "languageId": "r"
    }
   },
   "outputs": [],
   "source": [
    "library(dplyr)\n",
    "library(ggplot2) \n",
    "library(gmodels)\n",
    "library(DescTools)"
   ]
  },
  {
   "cell_type": "code",
   "execution_count": null,
   "id": "1db023d3",
   "metadata": {
    "vscode": {
     "languageId": "r"
    }
   },
   "outputs": [],
   "source": [
    "matematica_sector <- bd %>% filter(Asignatura == 'MATEMATICA' &\n",
    "                                   Modalidad == 'Secundaria' &\n",
    "                                  AñoCursado != 7) %>% select(AñoCursado, EsPrivada, Promedio)\n",
    "dim(matematica_sector)\n",
    "head(matematica_sector)"
   ]
  },
  {
   "cell_type": "code",
   "execution_count": null,
   "id": "250025da",
   "metadata": {
    "vscode": {
     "languageId": "r"
    }
   },
   "outputs": [],
   "source": [
    "matematica_sector$AñoCursado <- as.factor(matematica_sector$AñoCursado)\n",
    "matematica_sector$EsPrivada <- as.factor(matematica_sector$EsPrivada)\n",
    "matematica_sector$Promedio <- as.numeric(matematica_sector$Promedio)"
   ]
  },
  {
   "cell_type": "code",
   "execution_count": null,
   "id": "7f5aa1d8",
   "metadata": {
    "vscode": {
     "languageId": "r"
    }
   },
   "outputs": [],
   "source": [
    "library(ggplot2)\n",
    "ggplot(matematica_sector, aes (x = AñoCursado, y = Promedio, fill = EsPrivada)) + \n",
    "  geom_boxplot () "
   ]
  },
  {
   "cell_type": "code",
   "execution_count": null,
   "id": "a8e0dbea",
   "metadata": {
    "vscode": {
     "languageId": "r"
    }
   },
   "outputs": [],
   "source": [
    "g2 <- ggplot(\n",
    "  matematica_sector,\n",
    "  aes(factor(AñoCursado), Promedio)\n",
    ")\n",
    "g2 + geom_boxplot(aes(fill = factor(AñoCursado)))"
   ]
  },
  {
   "cell_type": "code",
   "execution_count": null,
   "id": "c63d4da4",
   "metadata": {
    "vscode": {
     "languageId": "r"
    }
   },
   "outputs": [],
   "source": [
    "ggplot (matematica_sector, aes (x = AñoCursado, y = Promedio, fill = AñoCursado)) + \n",
    "  geom_boxplot () +\n",
    "   facet_wrap (~ EsPrivada)"
   ]
  },
  {
   "attachments": {},
   "cell_type": "markdown",
   "id": "9c9bfcb9",
   "metadata": {},
   "source": [
    "# 2.\n",
    "Realice un gráfico de coordenadas paralelas que muestre las notas obtenidas por los estudiantes del turno mañana en las materias troncales de primer año de Secundaria. Luego conteste a) Existe algún patrón b) En el gráfico hay casos atípicos que se distancien del resto. c) Si se realiza un análisis de outliers, hay valores atípicos."
   ]
  },
  {
   "cell_type": "code",
   "execution_count": null,
   "id": "ad8030bc",
   "metadata": {
    "vscode": {
     "languageId": "r"
    }
   },
   "outputs": [],
   "source": [
    "troncales_secu<- bd %>% filter(Modalidad == 'Secundaria' & AñoCursado == 1)\n",
    "head(troncales_secu)\n",
    "dim(troncales_secu)\n",
    "ftable(troncales_secu$Asignatura)\n",
    "ftable(troncales_secu$AñoCursado)"
   ]
  },
  {
   "cell_type": "code",
   "execution_count": null,
   "id": "b4ed9655",
   "metadata": {
    "vscode": {
     "languageId": "r"
    }
   },
   "outputs": [],
   "source": [
    "a<-select(filter(troncales_secu,Asignatura==\"BIOLOGIA\"),EsPrivada,Turno,CUE,AñoCursado,Documento,Promedio)\n",
    "b<-select(filter(troncales_secu,Asignatura==\"GEOGRAFIA\"),Documento,Promedio)\n",
    "c<-select(filter(troncales_secu,Asignatura==\"LENGUA Y LITERATURA\"),Documento,Promedio)\n",
    "d<-select(filter(troncales_secu,Asignatura==\"MATEMATICA\"),Documento,Promedio)\n",
    "e<-select(filter(troncales_secu,Asignatura==\"FISICOQUIMICA\"),Documento,Promedio)\n",
    "f<-select(filter(troncales_secu,Asignatura==\"EDUCACION FISICA\"),Documento,Promedio)\n",
    "OTROS<-select(troncales_secu,Documento,EsPrivada,Turno,AñoCursado)\n",
    "df_list <- list(a, b, c, d, e, f)\n",
    "P_Notas_estudiantes<-Reduce(function(x, y) merge(x, y, by=c(\"Documento\")), df_list)\n",
    "colnames(P_Notas_estudiantes)<-c(\"Documento\",\"EsPrivada\",\"Turno\",\"CUE\",\"AñoCursado\",\"BIO\",\"GEO\",\"LYL\",\"MAT\",\"FYQ\",\"EDF\")          \n",
    "\n",
    "head(P_Notas_estudiantes)\n",
    "dim(P_Notas_estudiantes)\n",
    "dim(P_Notas_estudiantes)\n",
    "P_Notas_estudiantes<-na.omit(P_Notas_estudiantes)\n",
    "dim(P_Notas_estudiantes)    \n",
    "                     "
   ]
  },
  {
   "cell_type": "code",
   "execution_count": null,
   "id": "769e192d",
   "metadata": {
    "vscode": {
     "languageId": "r"
    }
   },
   "outputs": [],
   "source": [
    "primero_mañana<- P_Notas_estudiantes %>% filter(Turno == \"MAÑANA\" & AñoCursado == 1)\n",
    "dim(primero_mañana)"
   ]
  },
  {
   "cell_type": "code",
   "execution_count": null,
   "id": "03478b21",
   "metadata": {
    "vscode": {
     "languageId": "r"
    }
   },
   "outputs": [],
   "source": [
    "library(GGally)\n",
    "\n",
    "ggparcoord(data = primero_mañana,\n",
    "           columns = 6:11,\n",
    "           showPoints = TRUE,\n",
    "           alphaLines = 0.8, #TRANSPERENCIA LINEAS\n",
    "           boxplot = FALSE) #DIBUJA BOXPLOT POR VARIABLE "
   ]
  },
  {
   "attachments": {},
   "cell_type": "markdown",
   "id": "6e15bb2b",
   "metadata": {},
   "source": [
    "debido a la cantidad de datos usados el gráfico pierde legibilidad y resulta dificil identificar un patrón. No es posible establecer un comportamiento en común para estos datos. Los dos casos de la parte inferior del gráfico se diferencian del resto y se podrían clasificar como atípicos. "
   ]
  },
  {
   "attachments": {},
   "cell_type": "markdown",
   "id": "a6aed0ba",
   "metadata": {},
   "source": [
    "Análisis de valores alejados para el turno mañana"
   ]
  },
  {
   "cell_type": "code",
   "execution_count": null,
   "id": "828573e5",
   "metadata": {
    "vscode": {
     "languageId": "r"
    }
   },
   "outputs": [],
   "source": [
    "library('DMwR2')\n",
    "library(\"MASS\")\n",
    "library(\"lattice\")\n",
    "library(\"grid\")\n",
    "library(rstatix)"
   ]
  },
  {
   "cell_type": "code",
   "execution_count": null,
   "id": "fde78112",
   "metadata": {
    "vscode": {
     "languageId": "r"
    }
   },
   "outputs": [],
   "source": [
    "etiqueta<- primero_mañana[,6:11]\n",
    "#Combina las tres distancias \n",
    "distancias.outliers<- lofactor(etiqueta,k=2)\n",
    "#observaciones\n",
    "outliers<- order(distancias.outliers,decreasing=T)[1:2]\n",
    "#Arroja las observaciones correspondientes a las cuatro distancias mayores\n",
    "print(outliers)\n",
    "\n",
    "#No se si lo hice bien"
   ]
  },
  {
   "cell_type": "code",
   "execution_count": null,
   "id": "a1ecbb99",
   "metadata": {
    "vscode": {
     "languageId": "r"
    }
   },
   "outputs": [],
   "source": [
    "primero_tarde <- P_Notas_estudiantes %>% filter(Turno == \"TARDE\" & AñoCursado == 1)\n",
    "dim(primero_tarde)"
   ]
  },
  {
   "cell_type": "code",
   "execution_count": null,
   "id": "29e473e1",
   "metadata": {
    "vscode": {
     "languageId": "r"
    }
   },
   "outputs": [],
   "source": [
    "ggparcoord(data = primero_tarde,\n",
    "           columns = 6:11,\n",
    "           showPoints = TRUE,\n",
    "           alphaLines = 0.8, #TRANSPERENCIA LINEAS\n",
    "           boxplot = FALSE) #DIBUJA BOXPLOT POR VARIABLE "
   ]
  },
  {
   "attachments": {},
   "cell_type": "markdown",
   "id": "baf01cb6",
   "metadata": {},
   "source": [
    "a comparacion del gráfico del turno mañana, el gráfico del turno tarde es más legible. Se observa un comportamiento que se diferencia del resto en la materia Lengua y Literatura, esto nos permite ver que es la materia con menor variabilidad. Además se observa que las materias con mayor variabilidad son Biología y Educación Fisica, a estas dos les corresponden los máximos y mínimos del conjunto de datos."
   ]
  },
  {
   "attachments": {},
   "cell_type": "markdown",
   "id": "b4dfe315",
   "metadata": {},
   "source": [
    "# 4"
   ]
  },
  {
   "cell_type": "code",
   "execution_count": null,
   "id": "0b18662c",
   "metadata": {
    "vscode": {
     "languageId": "r"
    }
   },
   "outputs": [],
   "source": [
    "library(Hotelling)"
   ]
  },
  {
   "attachments": {},
   "cell_type": "markdown",
   "id": "70ff39ac",
   "metadata": {},
   "source": [
    "Realice un gráfico de perfiles que compare las notas de\n",
    "materias troncales de primer año por turno. Compare los\n",
    "vectores de medias, y establezca a través de un test de\n",
    "hipótesis si hay diferencias significativas."
   ]
  },
  {
   "cell_type": "code",
   "execution_count": null,
   "id": "28a584f0",
   "metadata": {
    "vscode": {
     "languageId": "r"
    }
   },
   "outputs": [],
   "source": [
    "secundaria<- bd %>% filter(Modalidad == 'Secundaria' &\n",
    "                          AñoCursado == 1 & Turno %in% c(\"MAÑANA\", \"TARDE\"))\n",
    "\n",
    "a<-select(filter(secundaria,Asignatura==\"BIOLOGIA\"),EsPrivada,Turno,Documento,Promedio)\n",
    "b<-select(filter(secundaria,Asignatura==\"GEOGRAFIA\"),Documento,Promedio)\n",
    "c<-select(filter(secundaria,Asignatura==\"LENGUA Y LITERATURA\"),Documento,Promedio)\n",
    "d<-select(filter(secundaria,Asignatura==\"MATEMATICA\"),Documento,Promedio)\n",
    "e<-select(filter(secundaria,Asignatura==\"FISICOQUIMICA\"),Documento,Promedio)\n",
    "f<-select(filter(secundaria,Asignatura==\"EDUCACION FISICA\"),Documento,Promedio)\n",
    "OTROS<-select(secundaria,Documento,EsPrivada,Turno)\n",
    "df_list <- list(a, b, c, d, e, f)\n",
    "ejercicio_4<-Reduce(function(x, y) merge(x, y, by=c(\"Documento\")), df_list)\n",
    "colnames(ejercicio_4)<-c(\"Documento\",\"EsPrivada\",\"Turno\",\"BIO\",\"GEO\",\"LYL\",\"MAT\",\"FYQ\",\"EDF\")          \n",
    "\n",
    "ejercicio_4<-na.omit(ejercicio_4)\n",
    " \n",
    "head(ejercicio_4)"
   ]
  },
  {
   "cell_type": "code",
   "execution_count": null,
   "id": "cfc234ce",
   "metadata": {
    "vscode": {
     "languageId": "r"
    }
   },
   "outputs": [],
   "source": [
    "ejercicio_4_N = ejercicio_4[,3:9]\n",
    "ftable(ejercicio_4_N$Turno)\n",
    "head(ejercicio_4_N)\n"
   ]
  },
  {
   "cell_type": "code",
   "execution_count": null,
   "id": "2741d71e",
   "metadata": {
    "vscode": {
     "languageId": "r"
    }
   },
   "outputs": [],
   "source": [
    "ggparcoord(data = ejercicio_4_N,\n",
    "           columns = 2:7,\n",
    "           groupColumn = \"Turno\",\n",
    "           showPoints = TRUE,\n",
    "           scale = \"globalminmax\") "
   ]
  },
  {
   "cell_type": "code",
   "execution_count": null,
   "id": "b53edf76",
   "metadata": {
    "vscode": {
     "languageId": "r"
    }
   },
   "outputs": [],
   "source": [
    "fit = hotelling.test(.~Turno, data = ejercicio_4_N)\n",
    "fit"
   ]
  },
  {
   "attachments": {},
   "cell_type": "markdown",
   "id": "93fb6600",
   "metadata": {},
   "source": [
    "# 5."
   ]
  },
  {
   "attachments": {},
   "cell_type": "markdown",
   "id": "bb43d944",
   "metadata": {},
   "source": [
    "Compare los promedios de los diferentes años de cursado en las materias troncales de Secundaria. Para ello a) Indique su vector de medias y medianas b) Calcule su matriz de varianza y covarianza c) Realice un gráfico radial que muestra la comparación d) Interprete los resultados obtenidos.\n"
   ]
  },
  {
   "cell_type": "code",
   "execution_count": null,
   "id": "3ae87958",
   "metadata": {
    "vscode": {
     "languageId": "r"
    }
   },
   "outputs": [],
   "source": [
    "secundaria<- bd %>% filter(Modalidad == 'Secundaria' & AñoCursado != 7)\n",
    "secundaria$AñoCursado <- as.character(secundaria$AñoCursado)\n",
    "secundaria$AñoCursado <- as.factor(secundaria$AñoCursado)\n",
    "\n",
    "a<-select(filter(secundaria,Asignatura==\"BIOLOGIA\"),EsPrivada,Turno,CUE,AñoCursado,Documento,Promedio)\n",
    "b<-select(filter(secundaria,Asignatura==\"GEOGRAFIA\"),Documento,Promedio)\n",
    "c<-select(filter(secundaria,Asignatura==\"MATEMATICA\"),Documento,Promedio)\n",
    "d<-select(filter(secundaria,Asignatura==\"EDUCACION FISICA\"),Documento,Promedio)\n",
    "OTROS<-select(secundaria,Documento,EsPrivada,Turno,AñoCursado)\n",
    "df_list <- list(a, b, c, d)\n",
    "Notas_ej_5<-Reduce(function(x, y) merge(x, y, by=c(\"Documento\")), df_list)\n",
    "colnames(Notas_ej_5)<-c(\"Documento\",\"EsPrivada\",\"Turno\",\"CUE\",\"AñoCursado\",\"BIO\",\"GEO\",\"MAT\",\"EDF\")          \n",
    "\n",
    "Notas_ej_5<-na.omit(Notas_ej_5)\n",
    " \n",
    "head(Notas_ej_5)"
   ]
  },
  {
   "cell_type": "code",
   "execution_count": null,
   "id": "48377045",
   "metadata": {
    "vscode": {
     "languageId": "r"
    }
   },
   "outputs": [],
   "source": [
    "#vector de medias\n",
    "perfil_medio<- Notas_ej_5 %>% group_by(AñoCursado) %>% summarise_all(mean)\n",
    "perfil_medio"
   ]
  },
  {
   "cell_type": "code",
   "execution_count": null,
   "id": "30daf96c",
   "metadata": {
    "vscode": {
     "languageId": "r"
    }
   },
   "outputs": [],
   "source": [
    "# vector de medianas\n",
    "vector_medianas<-rbind(apply(filter(Notas_ej_5,AñoCursado==\"1\")[,6:9],2,median), apply(filter(Notas_ej_5,AñoCursado==\"2\")[,6:9],2,median),\n",
    "                       apply(filter(Notas_ej_5,AñoCursado==\"3\")[,6:9],2,median),\n",
    "                       apply(filter(Notas_ej_5,AñoCursado==\"4\")[,6:9],2,median), \n",
    "                       apply(filter(Notas_ej_5,AñoCursado==\"5\")[,6:9],2,median),\n",
    "                       apply(filter(Notas_ej_5,AñoCursado==\"6\")[,6:9],2,median))\n",
    "vector_medianas"
   ]
  },
  {
   "cell_type": "code",
   "execution_count": null,
   "id": "689dba0b",
   "metadata": {
    "vscode": {
     "languageId": "r"
    }
   },
   "outputs": [],
   "source": [
    "a_1<-filter(Notas_ej_5,AñoCursado==\"1\")\n",
    "round(cov(a_1[,6:9]),2)\n",
    "\n",
    "a_2<-filter(Notas_ej_5,AñoCursado==\"2\")\n",
    "round(cov(a_2[,6:9]),2)\n",
    "\n",
    "a_3<-filter(Notas_ej_5,AñoCursado==\"3\")\n",
    "round(cov(a_3[,6:9]),2)\n",
    "\n",
    "a_4<-filter(Notas_ej_5,AñoCursado==\"4\")\n",
    "round(cov(a_4[,6:9]),2)\n",
    "\n",
    "a_5<-filter(Notas_ej_5,AñoCursado==\"5\")\n",
    "round(cov(a_4[,6:9]),2)\n",
    "\n",
    "a_6<-filter(Notas_ej_5,AñoCursado==\"6\")\n",
    "round(cov(a_4[,6:9]),2)\n",
    "\n",
    "\n"
   ]
  },
  {
   "cell_type": "code",
   "execution_count": null,
   "id": "cf2a28f4",
   "metadata": {
    "vscode": {
     "languageId": "r"
    }
   },
   "outputs": [],
   "source": [
    "# Filtrar por año de cursado y calcular covarianzas\n",
    "a_1 <- filter(Notas_ej_5, AñoCursado == \"1\")\n",
    "cov_1 <- round(cov(a_1[,6:9]), 2)\n",
    "\n",
    "a_2 <- filter(Notas_ej_5, AñoCursado == \"2\")\n",
    "cov_2 <- round(cov(a_2[,6:9]), 2)\n",
    "\n",
    "a_3 <- filter(Notas_ej_5, AñoCursado == \"3\")\n",
    "cov_3 <- round(cov(a_3[,6:9]), 2)\n",
    "\n",
    "a_4 <- filter(Notas_ej_5, AñoCursado == \"4\")\n",
    "cov_4 <- round(cov(a_4[,6:9]), 2)\n",
    "\n",
    "a_5 <- filter(Notas_ej_5, AñoCursado == \"5\")\n",
    "cov_5 <- round(cov(a_5[,6:9]), 2)\n",
    "\n",
    "a_6 <- filter(Notas_ej_5, AñoCursado == \"6\")\n",
    "cov_6 <- round(cov(a_6[,6:9]), 2)\n",
    "\n",
    "# Crear la tabla resumen\n",
    "tabla_resumen <- data.frame(\n",
    "  \"Año de Cursado\" = c(\"1\", \"2\", \"3\", \"4\", \"5\", \"6\"),\n",
    "  \"Covarianza BIO\" = c(cov_1[1, 1], cov_2[1, 1], cov_3[1, 1], cov_4[1, 1], cov_5[1, 1], cov_6[1, 1]),\n",
    "  \"Covarianza GEO\" = c(cov_1[2, 2], cov_2[2, 2], cov_3[2, 2], cov_4[2, 2], cov_5[2, 2], cov_6[2, 2]),\n",
    "  \"Covarianza LYL\" = c(cov_1[3, 3], cov_2[3, 3], cov_3[3, 3], cov_4[3, 3], cov_5[3, 3], cov_6[3, 3]),\n",
    "  \"Covarianza MAT\" = c(cov_1[4, 4], cov_2[4, 4], cov_3[4, 4], cov_4[4, 4], cov_5[4, 4], cov_6[4, 4])\n",
    ")\n",
    "\n",
    "# Mostrar la tabla resumen\n",
    "tabla_resumen"
   ]
  },
  {
   "cell_type": "code",
   "execution_count": null,
   "id": "8b043b14",
   "metadata": {
    "vscode": {
     "languageId": "r"
    }
   },
   "outputs": [],
   "source": [
    "library(devtools)\n",
    "#devtools::install_github(\"ricardo-bion/ggradar\",  dependencies = TRUE)"
   ]
  },
  {
   "cell_type": "code",
   "execution_count": null,
   "id": "888c3695",
   "metadata": {
    "vscode": {
     "languageId": "r"
    }
   },
   "outputs": [],
   "source": [
    "library(ggplot2)\n",
    "library(ggradar)\n",
    "library(scales)"
   ]
  },
  {
   "cell_type": "code",
   "execution_count": null,
   "id": "a0791b77",
   "metadata": {
    "vscode": {
     "languageId": "r"
    }
   },
   "outputs": [],
   "source": [
    "head(Notas_ej_5)\n",
    "ftable(Notas_ej_5$AñoCursado)"
   ]
  },
  {
   "cell_type": "code",
   "execution_count": null,
   "id": "f873fdfd",
   "metadata": {
    "vscode": {
     "languageId": "r"
    }
   },
   "outputs": [],
   "source": [
    "dat <- data.frame(\"AñoCursado\"=Notas_ej_5$AñoCursado,\n",
    "                  \"BIO\"=rescale(Notas_ej_5$BIO,to=c(0,1)),\n",
    "                  \"GEO\"=rescale(Notas_ej_5$GEO,to=c(0,1)),\n",
    "                  \"MAT\"=rescale(Notas_ej_5$MAT,to=c(0,1)),\n",
    "                  \"EDF\"=rescale(Notas_ej_5$EDF,to=c(0,1)))\n",
    "dat\n",
    "\n",
    "perfil_medio_escalado<- dat %>% group_by(AñoCursado) %>% summarise_all(mean)\n",
    "perfil_medio_escalado\n",
    "\n",
    "\n"
   ]
  },
  {
   "cell_type": "code",
   "execution_count": null,
   "id": "e4e0805d",
   "metadata": {
    "vscode": {
     "languageId": "r"
    }
   },
   "outputs": [],
   "source": [
    "dim(perfil_medio_escalado)"
   ]
  },
  {
   "cell_type": "code",
   "execution_count": null,
   "id": "1e931c74",
   "metadata": {
    "vscode": {
     "languageId": "r"
    }
   },
   "outputs": [],
   "source": [
    "lcols <- c(\"#EEA236\", \"#5CB85C\", \"#46B8DA\", \"#f9fc3e\", \"#f61b1b\", \"#fc32ff\")\n",
    "ggradar(perfil_medio_escalado, grid.min=0, grid.max=1,\n",
    "        values.radar = c(0, 0.5, 1),\n",
    "        background.circle.colour = \"white\",\n",
    "        axis.line.colour = \"gray60\",\n",
    "        gridline.min.colour = \"gray60\",\n",
    "        gridline.mid.colour = \"gray60\",\n",
    "        gridline.max.colour = \"gray60\",\n",
    "        group.colours = lcols,\n",
    "       legend.title = \"Año\",\n",
    "        legend.position = \"bottom\") + \n",
    "  labs(title = \"Comparación de Asignaturas en Secundaria\")"
   ]
  },
  {
   "attachments": {},
   "cell_type": "markdown",
   "id": "cccdf07e",
   "metadata": {},
   "source": [
    "Existen difirencias significativas entre 3er y 6to año? "
   ]
  },
  {
   "cell_type": "code",
   "execution_count": null,
   "id": "2f599820",
   "metadata": {
    "vscode": {
     "languageId": "r"
    }
   },
   "outputs": [],
   "source": [
    "secu_3y6 = bd %>% filter(Asignatura %in% c('BIOLOGIA', 'MATEMATICA', \"EDUCACION FISICA\", \"GEOGRAFIA\")&\n",
    "                         Modalidad == 'Secundaria' &\n",
    "                        AñoCursado  %in% c(3, 6))"
   ]
  },
  {
   "cell_type": "code",
   "execution_count": null,
   "id": "a406f32d",
   "metadata": {
    "vscode": {
     "languageId": "r"
    }
   },
   "outputs": [],
   "source": [
    "secu_3y6$AñoCursado <- as.factor(secu_3y6$AñoCursado)\n",
    "secu_3y6$Asignatura <- as.factor(secu_3y6$Asignatura)\n",
    "secu_3y6$Promedio <- as.numeric(secu_3y6$Promedio)"
   ]
  },
  {
   "cell_type": "code",
   "execution_count": null,
   "id": "8605153e",
   "metadata": {
    "vscode": {
     "languageId": "r"
    }
   },
   "outputs": [],
   "source": [
    "ggplot (secu_3y6, aes (x = Asignatura, y = Promedio, fill = AñoCursado)) + \n",
    "  geom_boxplot () "
   ]
  },
  {
   "cell_type": "code",
   "execution_count": null,
   "id": "c045a00c",
   "metadata": {
    "vscode": {
     "languageId": "r"
    }
   },
   "outputs": [],
   "source": [
    "sec_3 = secu_3y6 %>% filter(\n",
    "                        AñoCursado ==  3)\n",
    "sec_3_1 <- select(sec_3, Promedio)\n",
    "\n",
    "sec_6 = secu_3y6 %>% filter(\n",
    "                        AñoCursado ==  6)\n",
    "\n",
    "sec_6_1 = select(sec_6, Promedio)\n"
   ]
  },
  {
   "cell_type": "code",
   "execution_count": null,
   "id": "14b20973",
   "metadata": {
    "vscode": {
     "languageId": "r"
    }
   },
   "outputs": [],
   "source": [
    "head(sec_6_1)"
   ]
  },
  {
   "cell_type": "code",
   "execution_count": null,
   "id": "0f5d58e8",
   "metadata": {
    "vscode": {
     "languageId": "r"
    }
   },
   "outputs": [],
   "source": [
    "sec_3_1$Promedio = as.numeric(sec_3_1$Promedio)\n",
    "sec_6_1$Promedio = as.numeric(sec_6_1$Promedio)"
   ]
  },
  {
   "cell_type": "code",
   "execution_count": null,
   "id": "9a2919cd",
   "metadata": {
    "vscode": {
     "languageId": "r"
    }
   },
   "outputs": [],
   "source": [
    "wilcox.test(\n",
    "    sec_3_1,\n",
    "    sec_6_1,\n",
    "    alternative = \"two.sided\")"
   ]
  },
  {
   "attachments": {},
   "cell_type": "markdown",
   "id": "a111c475",
   "metadata": {},
   "source": [
    "# ULTIMO TEMA"
   ]
  },
  {
   "cell_type": "code",
   "execution_count": null,
   "id": "9ff1e923",
   "metadata": {
    "vscode": {
     "languageId": "r"
    }
   },
   "outputs": [],
   "source": [
    "library(readxl)\n",
    "library(dplyr)\n",
    "library(psych)\n",
    "library(FactoMineR)\n",
    "library(factoextra)"
   ]
  },
  {
   "cell_type": "code",
   "execution_count": null,
   "id": "bddf3ea4",
   "metadata": {
    "vscode": {
     "languageId": "r"
    }
   },
   "outputs": [],
   "source": [
    "Primero_S<-filter(bd,\n",
    "                  AñoCursado== 1  &\n",
    "                 Modalidad== \"Secundaria\")"
   ]
  },
  {
   "cell_type": "code",
   "execution_count": null,
   "id": "e63d02b3",
   "metadata": {
    "vscode": {
     "languageId": "r"
    }
   },
   "outputs": [],
   "source": [
    "table(Primero_S$Asignatura)"
   ]
  },
  {
   "cell_type": "code",
   "execution_count": null,
   "id": "b5a67175",
   "metadata": {
    "vscode": {
     "languageId": "r"
    }
   },
   "outputs": [],
   "source": [
    "a<-select(filter(Primero_S,Asignatura==\"BIOLOGIA\"),EsPrivada,Turno,CUE,Documento,Promedio)\n",
    "b<-select(filter(Primero_S,Asignatura==\"GEOGRAFIA\"),Documento,Promedio)\n",
    "c<-select(filter(Primero_S,Asignatura==\"LENGUA Y LITERATURA\"),Documento,Promedio)\n",
    "d<-select(filter(Primero_S,Asignatura==\"MATEMATICA\"),Documento,Promedio)\n",
    "e<-select(filter(Primero_S,Asignatura==\"FISICOQUIMICA\"),Documento,Promedio)\n",
    "f<-select(filter(Primero_S,Asignatura==\"EDUCACION FISICA\"),Documento,Promedio)\n",
    "OTROS<-select(Primero_S,Documento,EsPrivada,Turno)\n",
    "df_list <- list(a, b, c, d, e, f)\n",
    "P_Notas_estudiantes<-Reduce(function(x, y) merge(x, y, by=c(\"Documento\")), df_list)\n",
    "colnames(P_Notas_estudiantes)<-c(\"Documento\",\"EsPrivada\",\"Turno\",\"CUE\",\"BIO\",\"GEO\",\"LYL\",\"MAT\",\"FYQ\",\"EDF\")          \n",
    "\n",
    "head(P_Notas_estudiantes)\n",
    "dim(P_Notas_estudiantes)\n",
    "dim(P_Notas_estudiantes)\n",
    "P_Notas_estudiantes<-na.omit(P_Notas_estudiantes)\n",
    "dim(P_Notas_estudiantes)   "
   ]
  },
  {
   "cell_type": "code",
   "execution_count": null,
   "id": "bb969bdb",
   "metadata": {
    "vscode": {
     "languageId": "r"
    }
   },
   "outputs": [],
   "source": [
    "matriz_correlaciones <- cor(P_Notas_estudiantes [,5:10], use = \"pairwise.complete.obs\")\n",
    "matriz_correlaciones"
   ]
  },
  {
   "cell_type": "code",
   "execution_count": null,
   "id": "261e0c89",
   "metadata": {
    "vscode": {
     "languageId": "r"
    }
   },
   "outputs": [],
   "source": [
    "# Se puede conocer la presencia de multicolinealidad al evaluar el Determinante de la matriz de correlaciones de las variables de estudio:\n",
    "det(matriz_correlaciones) "
   ]
  },
  {
   "attachments": {},
   "cell_type": "markdown",
   "id": "b871d4fd",
   "metadata": {},
   "source": [
    "valor muy cercano a 0,lo que sugiere un alto nivel de colinealidad en el conjunto de variables involucradas en la matriz."
   ]
  },
  {
   "cell_type": "code",
   "execution_count": null,
   "id": "badd696e",
   "metadata": {
    "vscode": {
     "languageId": "r"
    }
   },
   "outputs": [],
   "source": [
    "estudiantes<-P_Notas_estudiantes [,5:10]"
   ]
  },
  {
   "cell_type": "code",
   "execution_count": null,
   "id": "4522fd3d",
   "metadata": {
    "vscode": {
     "languageId": "r"
    }
   },
   "outputs": [],
   "source": [
    "KMO(P_Notas_estudiantes [,5:10])"
   ]
  },
  {
   "attachments": {},
   "cell_type": "markdown",
   "id": "4a18d29f",
   "metadata": {},
   "source": [
    "el KMO y los valores MSA indican que los datos tienen una adecuación moderada para el análisis factorial, lo que significa que se pueden realizar análisis factorial con cierta confianza"
   ]
  },
  {
   "attachments": {},
   "cell_type": "markdown",
   "id": "fb32efb3",
   "metadata": {},
   "source": [
    "# ACP"
   ]
  },
  {
   "cell_type": "code",
   "execution_count": null,
   "id": "a1889d31",
   "metadata": {
    "vscode": {
     "languageId": "r"
    }
   },
   "outputs": [],
   "source": [
    "pca_nci <- PCA(X = estudiantes, scale.unit = TRUE, ncp = 64, graph = FALSE)"
   ]
  },
  {
   "cell_type": "code",
   "execution_count": null,
   "id": "45f6ca59",
   "metadata": {
    "vscode": {
     "languageId": "r"
    }
   },
   "outputs": [],
   "source": [
    "#El objeto PCA generado contiene los siguientes elementos en forma de lista:\n",
    "print(pca_nci)"
   ]
  },
  {
   "cell_type": "code",
   "execution_count": null,
   "id": "2cdd6b3f",
   "metadata": {
    "vscode": {
     "languageId": "r"
    }
   },
   "outputs": [],
   "source": [
    "head(pca_nci$eig) #el eigenvalor (varianza explicada) es mayor en la primera componente que en las subsiguientes.\n"
   ]
  },
  {
   "cell_type": "code",
   "execution_count": null,
   "id": "d56651d0",
   "metadata": {
    "vscode": {
     "languageId": "r"
    }
   },
   "outputs": [],
   "source": [
    "fviz_screeplot(pca_nci, addlabels = TRUE, ylim = c(0, 80))"
   ]
  },
  {
   "cell_type": "code",
   "execution_count": null,
   "id": "daab3573",
   "metadata": {
    "vscode": {
     "languageId": "r"
    }
   },
   "outputs": [],
   "source": [
    "# Contributions of variables to PC1\n",
    "fviz_contrib(pca_nci, choice = \"var\", axes = 1, top = 10)\n",
    "# Contributions of variables to PC2\n",
    "fviz_contrib(pca_nci, choice = \"var\", axes = 2, top = 10)\n",
    "# Contributions of variables to PC3\n",
    "fviz_contrib(pca_nci, choice = \"var\", axes = 3, top = 10)\n"
   ]
  },
  {
   "cell_type": "code",
   "execution_count": null,
   "id": "d1ac60c3",
   "metadata": {
    "vscode": {
     "languageId": "r"
    }
   },
   "outputs": [],
   "source": [
    "fviz_pca_var(pca_nci, col.var = \"cos2\",\n",
    "             gradient.cols = c(\"#00AFBB\", \"#E7B800\", \"#FC4E07\"), \n",
    "             repel = TRUE # Avoid text overlapping\n",
    "             )"
   ]
  },
  {
   "attachments": {},
   "cell_type": "markdown",
   "id": "ed23e2d7",
   "metadata": {},
   "source": [
    "En este tipo de gráfico, además de indicarse el % de varianza explicada por la primera (Dim1) y segunda componente (Dim2), las variables positivamente correlacionadas se agrupan juntas o próximas, mientras que las negativamente correlacionadas se representan en lados opuestos del origen o cuadrantes opuestos. \n",
    "\n",
    "Además, la distancia entre las variables y el origen mide la calidad de la representación de las variables (mayor cuanto más próxima a la circunferencia o círculo de correlación, siendo éstas las que más contribuyen en los dos primeros componentes). \n",
    "\n",
    "La calidad de esta representación se mide por el valor al cuadrado del coseno (cos2) del ángulo del triángulo formado por el punto del origen, la observación y su proyección sobre el componente. Para una variable dada, la suma del cos2  sobre todos los componentes principales será igual a 1, y si además la variable es perfectamente representable por solo los dos primeros componentes principales, la suma de cos2  sobre estos dos será igual a 1. \n",
    "\n",
    "Variables posicionadas cerca del origen puede ser un indicativo de que serían necesarios más de dos componentes principales para su representación."
   ]
  }
 ],
 "metadata": {
  "kernelspec": {
   "display_name": "R",
   "language": "R",
   "name": "ir"
  },
  "language_info": {
   "codemirror_mode": "r",
   "file_extension": ".r",
   "mimetype": "text/x-r-source",
   "name": "R",
   "pygments_lexer": "r",
   "version": "3.6.3"
  }
 },
 "nbformat": 4,
 "nbformat_minor": 5
}
